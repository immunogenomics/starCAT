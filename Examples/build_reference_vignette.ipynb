{
 "cells": [
  {
   "cell_type": "code",
   "execution_count": 1,
   "id": "af38c5d0-989f-40a5-9388-58fd98f1d045",
   "metadata": {},
   "outputs": [],
   "source": [
    "import sys\n",
    "from cnmf import cNMF\n",
    "import os\n",
    "import scanpy as sc\n",
    "import matplotlib.pyplot as plt\n",
    "import numpy as np\n",
    "import pandas as pd\n",
    "from starcat import starCAT"
   ]
  },
  {
   "cell_type": "markdown",
   "id": "e0d1117e-b1ee-4ab4-989d-f2314437829c",
   "metadata": {},
   "source": [
    "This notebook provides example code for building a new starCAT reference by running cNMF on an example dataset. Please refer to https://github.com/dylkot/cNMF for more detailed tutorials using cNMF."
   ]
  },
  {
   "cell_type": "markdown",
   "id": "34d913a6-6183-4f1c-9b1b-0c8276541b6e",
   "metadata": {},
   "source": [
    "## Download the reference data and copy it to the directory ./example_PBMC"
   ]
  },
  {
   "cell_type": "code",
   "execution_count": null,
   "id": "b501941e-b385-4ba1-a710-7bc0bdc94cbf",
   "metadata": {},
   "outputs": [],
   "source": [
    "if not os.path.exists('example_PBMC'):\n",
    "    os.mkdir('example_PBMC')"
   ]
  },
  {
   "cell_type": "code",
   "execution_count": 2,
   "id": "3a9551f9-34dc-4f0a-959e-66485a368891",
   "metadata": {},
   "outputs": [
    {
     "name": "stdout",
     "output_type": "stream",
     "text": [
      "--2022-06-23 13:08:22--  http://cf.10xgenomics.com/samples/cell-exp/1.1.0/pbmc3k/pbmc3k_filtered_gene_bc_matrices.tar.gz\n",
      "Resolving cf.10xgenomics.com... 104.18.0.173, 104.18.1.173, 2606:4700::6812:ad, ...\n",
      "Connecting to cf.10xgenomics.com|104.18.0.173|:80... connected.\n",
      "HTTP request sent, awaiting response... 301 Moved Permanently\n",
      "Location: https://cf.10xgenomics.com/samples/cell-exp/1.1.0/pbmc3k/pbmc3k_filtered_gene_bc_matrices.tar.gz [following]\n",
      "--2022-06-23 13:08:22--  https://cf.10xgenomics.com/samples/cell-exp/1.1.0/pbmc3k/pbmc3k_filtered_gene_bc_matrices.tar.gz\n",
      "Connecting to cf.10xgenomics.com|104.18.0.173|:443... connected.\n",
      "HTTP request sent, awaiting response... 200 OK\n",
      "Length: 7621991 (7.3M) [application/x-tar]\n",
      "Saving to: “example_PBMC/pbmc3k_filtered_gene_bc_matrices.tar.gz”\n",
      "\n",
      "100%[======================================>] 7,621,991   --.-K/s   in 0.1s    \n",
      "\n",
      "2022-06-23 13:08:22 (68.6 MB/s) - “example_PBMC/pbmc3k_filtered_gene_bc_matrices.tar.gz” saved [7621991/7621991]\n",
      "\n",
      "filtered_gene_bc_matrices/\n",
      "filtered_gene_bc_matrices/hg19/\n",
      "filtered_gene_bc_matrices/hg19/matrix.mtx\n",
      "filtered_gene_bc_matrices/hg19/genes.tsv\n",
      "filtered_gene_bc_matrices/hg19/barcodes.tsv\n"
     ]
    }
   ],
   "source": [
    "! wget -O example_PBMC/pbmc3k_filtered_gene_bc_matrices.tar.gz http://cf.10xgenomics.com/samples/cell-exp/1.1.0/pbmc3k/pbmc3k_filtered_gene_bc_matrices.tar.gz\n",
    "! tar -zxvf example_PBMC/pbmc3k_filtered_gene_bc_matrices.tar.gz    \n",
    "! mv filtered_gene_bc_matrices example_PBMC\n",
    "! rm  example_PBMC/pbmc3k_filtered_gene_bc_matrices.tar.gz"
   ]
  },
  {
   "cell_type": "markdown",
   "id": "7242f020-6272-4978-b41d-bd4bed6cf30c",
   "metadata": {},
   "source": [
    "## Load the dataset as a sparse matrix into the Scanpy structure and then filter genes that aren't observed in  at least 3 cells, and cells with fewer than 200 genes detected"
   ]
  },
  {
   "cell_type": "code",
   "execution_count": 32,
   "id": "1babda12-c989-4ff0-83c9-a95bedd0451b",
   "metadata": {},
   "outputs": [],
   "source": [
    "adata = sc.read_10x_mtx(\n",
    "    'example_PBMC/filtered_gene_bc_matrices/hg19/',\n",
    "    var_names='gene_symbols',\n",
    "    cache=False)\n",
    "\n",
    "adata.var_names_make_unique()"
   ]
  },
  {
   "cell_type": "code",
   "execution_count": 33,
   "id": "1be9be0b-a244-41aa-bd2c-afc0d8cbdf8a",
   "metadata": {},
   "outputs": [
    {
     "data": {
      "text/plain": [
       "AnnData object with n_obs × n_vars = 2700 × 32738\n",
       "    var: 'gene_ids'"
      ]
     },
     "execution_count": 33,
     "metadata": {},
     "output_type": "execute_result"
    }
   ],
   "source": [
    "## Loaded data of 2700 PBMCs with 32738 genes\n",
    "adata"
   ]
  },
  {
   "cell_type": "code",
   "execution_count": 34,
   "id": "01a21275-9cd0-47fe-a179-380492ff390e",
   "metadata": {},
   "outputs": [],
   "source": [
    "sc.pp.filter_cells(adata, min_genes=200) # filter cells with fewer than 200 genes\n",
    "sc.pp.filter_cells(adata, min_counts=200)  # This is a weaker threshold than above. It is just to population the n_counts column in adata\n",
    "sc.pp.filter_genes(adata, min_cells=3) # filter genes detected in fewer than 3 cells\n"
   ]
  },
  {
   "cell_type": "code",
   "execution_count": 39,
   "id": "05ee065a-787a-4f84-badc-b6bca8cbc64f",
   "metadata": {},
   "outputs": [
    {
     "data": {
      "image/png": "[encoded data removed]",
      "text/plain": [
       "<Figure size 432x288 with 1 Axes>"
      ]
     },
     "metadata": {
      "needs_background": "light"
     },
     "output_type": "display_data"
    }
   ],
   "source": [
    "## plot log10 # counts per cell\n",
    "plt.hist(np.log10(adata.obs['n_counts']), bins=100)\n",
    "_ = plt.xlabel('log10 Counts Per cell')\n",
    "_ = plt.ylabel('# Cells')"
   ]
  },
  {
   "cell_type": "markdown",
   "id": "c4996298-d16b-4015-8841-b08dedc0a64e",
   "metadata": {},
   "source": [
    "## Save the scanpy object to a file. This file will be passed as input to cNMF"
   ]
  },
  {
   "cell_type": "code",
   "execution_count": 40,
   "id": "18a2effb-530a-43f6-a2f2-c45bfb2ea7f2",
   "metadata": {},
   "outputs": [],
   "source": [
    "count_adat_fn = 'example_PBMC/counts.h5ad'\n",
    "sc.write(count_adat_fn, adata)"
   ]
  },
  {
   "cell_type": "markdown",
   "id": "5bb469d8-3325-4bf5-9806-957817de6dff",
   "metadata": {},
   "source": [
    "## In the cells below, we run the first 2 steps of cNMF assuming no parallelization:\n",
    "    - prepare - normalizes the data for the run and specifies the input parameters\n",
    "    - factorize - runs the actual factorization steps.\n",
    "    \n",
    "Refer to https://github.com/dylkot/cNMF to find tutorials incorporating paralellization.\n",
    "## With the options below, this took roughly 4 minutes on our compute configuration. To speed this up on your own runs, you can run it only for K=7-8 as those are the only Ks we look in detail at in the steps below. See the commented out K variable in the below cell"
   ]
  },
  {
   "cell_type": "code",
   "execution_count": 43,
   "id": "57d131dd-ea1a-442f-9be4-f8a9d05007c2",
   "metadata": {},
   "outputs": [],
   "source": [
    "numiter=20 # Number of NMF replicates. Set this to a larger value ~200 for real data. We set this to a relatively low value here for illustration at a faster speed\n",
    "numhvgenes=2000 ## Number of over-dispersed genes to use for running the actual factorizations\n",
    "\n",
    "## Results will be saved to [output_directory]/[run_name] which in this example is example_PBMC/cNMF/pbmc_cNMF\n",
    "output_directory = 'example_PBMC/cNMF'\n",
    "if not os.path.exists(output_directory):\n",
    "    os.mkdir(output_directory)\n",
    "run_name = 'pbmc_cNMF'\n",
    "\n",
    "## Specify the Ks to use as a space separated list in this case \"5 6 7 8 9 10\"\n",
    "K = ' '.join([str(i) for i in range(5,11)])\n",
    "\n",
    "## To speed this up, you can run it for only K=7-8 with the option below\n",
    "#K = ' '.join([str(i) for i in range(7,9)])\n",
    "\n",
    "\n",
    "seed = 14 ## Specify a seed pseudorandom number generation for reproducibility\n",
    "\n",
    "## Path to the filtered counts dataset we output previously\n",
    "countfn = 'example_PBMC/counts.h5ad'"
   ]
  },
  {
   "cell_type": "code",
   "execution_count": 48,
   "id": "c9fac1fe-7dec-411d-9e90-78514a55e138",
   "metadata": {},
   "outputs": [],
   "source": [
    "## Initialize the cnmf object that will be used to run analyses\n",
    "cnmf_obj = cNMF(output_dir=output_directory, name=run_name)"
   ]
  },
  {
   "cell_type": "code",
   "execution_count": 50,
   "id": "a2ed1bfe-3db2-4481-ad7d-b35638363c43",
   "metadata": {},
   "outputs": [
    {
     "name": "stderr",
     "output_type": "stream",
     "text": [
      "/PHShome/mc1070/anaconda3/envs/cnmfdev_env/lib/python3.7/site-packages/scanpy/preprocessing/_simple.py:843: UserWarning: Received a view of an AnnData. Making a copy.\n",
      "  view_to_actual(adata)\n"
     ]
    }
   ],
   "source": [
    "## Prepare the data, I.e. subset to 2000 high-variance genes, and variance normalize\n",
    "cnmf_obj.prepare(counts_fn=countfn, components=np.arange(5,11), n_iter=20, seed=14, num_highvar_genes=2000)"
   ]
  },
  {
   "cell_type": "code",
   "execution_count": 51,
   "id": "aee74481-b7bc-488f-8f27-5b33976d3bbd",
   "metadata": {},
   "outputs": [
    {
     "name": "stdout",
     "output_type": "stream",
     "text": [
      "[Worker 0]. Starting task 0.\n",
      "[Worker 0]. Starting task 1.\n",
      "[Worker 0]. Starting task 2.\n",
      "[Worker 0]. Starting task 3.\n",
      "[Worker 0]. Starting task 4.\n",
      "[Worker 0]. Starting task 5.\n",
      "[Worker 0]. Starting task 6.\n",
      "[Worker 0]. Starting task 7.\n",
      "[Worker 0]. Starting task 8.\n",
      "[Worker 0]. Starting task 9.\n",
      "[Worker 0]. Starting task 10.\n",
      "[Worker 0]. Starting task 11.\n",
      "[Worker 0]. Starting task 12.\n",
      "[Worker 0]. Starting task 13.\n",
      "[Worker 0]. Starting task 14.\n",
      "[Worker 0]. Starting task 15.\n",
      "[Worker 0]. Starting task 16.\n",
      "[Worker 0]. Starting task 17.\n",
      "[Worker 0]. Starting task 18.\n",
      "[Worker 0]. Starting task 19.\n",
      "[Worker 0]. Starting task 20.\n",
      "[Worker 0]. Starting task 21.\n",
      "[Worker 0]. Starting task 22.\n",
      "[Worker 0]. Starting task 23.\n",
      "[Worker 0]. Starting task 24.\n",
      "[Worker 0]. Starting task 25.\n",
      "[Worker 0]. Starting task 26.\n",
      "[Worker 0]. Starting task 27.\n",
      "[Worker 0]. Starting task 28.\n",
      "[Worker 0]. Starting task 29.\n",
      "[Worker 0]. Starting task 30.\n",
      "[Worker 0]. Starting task 31.\n",
      "[Worker 0]. Starting task 32.\n",
      "[Worker 0]. Starting task 33.\n",
      "[Worker 0]. Starting task 34.\n",
      "[Worker 0]. Starting task 35.\n",
      "[Worker 0]. Starting task 36.\n",
      "[Worker 0]. Starting task 37.\n",
      "[Worker 0]. Starting task 38.\n",
      "[Worker 0]. Starting task 39.\n",
      "[Worker 0]. Starting task 40.\n",
      "[Worker 0]. Starting task 41.\n",
      "[Worker 0]. Starting task 42.\n",
      "[Worker 0]. Starting task 43.\n",
      "[Worker 0]. Starting task 44.\n",
      "[Worker 0]. Starting task 45.\n",
      "[Worker 0]. Starting task 46.\n",
      "[Worker 0]. Starting task 47.\n",
      "[Worker 0]. Starting task 48.\n",
      "[Worker 0]. Starting task 49.\n",
      "[Worker 0]. Starting task 50.\n",
      "[Worker 0]. Starting task 51.\n",
      "[Worker 0]. Starting task 52.\n",
      "[Worker 0]. Starting task 53.\n",
      "[Worker 0]. Starting task 54.\n",
      "[Worker 0]. Starting task 55.\n",
      "[Worker 0]. Starting task 56.\n",
      "[Worker 0]. Starting task 57.\n",
      "[Worker 0]. Starting task 58.\n",
      "[Worker 0]. Starting task 59.\n",
      "[Worker 0]. Starting task 60.\n",
      "[Worker 0]. Starting task 61.\n",
      "[Worker 0]. Starting task 62.\n",
      "[Worker 0]. Starting task 63.\n",
      "[Worker 0]. Starting task 64.\n",
      "[Worker 0]. Starting task 65.\n",
      "[Worker 0]. Starting task 66.\n",
      "[Worker 0]. Starting task 67.\n",
      "[Worker 0]. Starting task 68.\n",
      "[Worker 0]. Starting task 69.\n",
      "[Worker 0]. Starting task 70.\n",
      "[Worker 0]. Starting task 71.\n",
      "[Worker 0]. Starting task 72.\n",
      "[Worker 0]. Starting task 73.\n",
      "[Worker 0]. Starting task 74.\n",
      "[Worker 0]. Starting task 75.\n",
      "[Worker 0]. Starting task 76.\n",
      "[Worker 0]. Starting task 77.\n",
      "[Worker 0]. Starting task 78.\n",
      "[Worker 0]. Starting task 79.\n",
      "[Worker 0]. Starting task 80.\n",
      "[Worker 0]. Starting task 81.\n",
      "[Worker 0]. Starting task 82.\n",
      "[Worker 0]. Starting task 83.\n",
      "[Worker 0]. Starting task 84.\n",
      "[Worker 0]. Starting task 85.\n",
      "[Worker 0]. Starting task 86.\n",
      "[Worker 0]. Starting task 87.\n",
      "[Worker 0]. Starting task 88.\n",
      "[Worker 0]. Starting task 89.\n",
      "[Worker 0]. Starting task 90.\n",
      "[Worker 0]. Starting task 91.\n",
      "[Worker 0]. Starting task 92.\n",
      "[Worker 0]. Starting task 93.\n",
      "[Worker 0]. Starting task 94.\n",
      "[Worker 0]. Starting task 95.\n",
      "[Worker 0]. Starting task 96.\n"
     ]
    },
    {
     "name": "stderr",
     "output_type": "stream",
     "text": [
      "/PHShome/mc1070/anaconda3/envs/cnmfdev_env/lib/python3.7/site-packages/sklearn/decomposition/_nmf.py:1641: ConvergenceWarning: Maximum number of iterations 1000 reached. Increase it to improve convergence.\n",
      "  ConvergenceWarning,\n"
     ]
    },
    {
     "name": "stdout",
     "output_type": "stream",
     "text": [
      "[Worker 0]. Starting task 97.\n",
      "[Worker 0]. Starting task 98.\n",
      "[Worker 0]. Starting task 99.\n",
      "[Worker 0]. Starting task 100.\n",
      "[Worker 0]. Starting task 101.\n",
      "[Worker 0]. Starting task 102.\n",
      "[Worker 0]. Starting task 103.\n",
      "[Worker 0]. Starting task 104.\n",
      "[Worker 0]. Starting task 105.\n",
      "[Worker 0]. Starting task 106.\n",
      "[Worker 0]. Starting task 107.\n",
      "[Worker 0]. Starting task 108.\n",
      "[Worker 0]. Starting task 109.\n",
      "[Worker 0]. Starting task 110.\n",
      "[Worker 0]. Starting task 111.\n",
      "[Worker 0]. Starting task 112.\n"
     ]
    },
    {
     "name": "stderr",
     "output_type": "stream",
     "text": [
      "/PHShome/mc1070/anaconda3/envs/cnmfdev_env/lib/python3.7/site-packages/sklearn/decomposition/_nmf.py:1641: ConvergenceWarning: Maximum number of iterations 1000 reached. Increase it to improve convergence.\n",
      "  ConvergenceWarning,\n"
     ]
    },
    {
     "name": "stdout",
     "output_type": "stream",
     "text": [
      "[Worker 0]. Starting task 113.\n",
      "[Worker 0]. Starting task 114.\n",
      "[Worker 0]. Starting task 115.\n",
      "[Worker 0]. Starting task 116.\n",
      "[Worker 0]. Starting task 117.\n",
      "[Worker 0]. Starting task 118.\n",
      "[Worker 0]. Starting task 119.\n"
     ]
    }
   ],
   "source": [
    "## Specify that the jobs are being distributed over a single worker (total_workers=1) and then launch that worker\n",
    "cnmf_obj.factorize(worker_i=0, total_workers=1)"
   ]
  },
  {
   "cell_type": "markdown",
   "id": "a4be901d-9dd9-430d-8ef7-b895d2ed4c51",
   "metadata": {},
   "source": [
    "## Whether or not you used parallelization in the above steps, you should resume here with the combine step below which combines the individual factorization replicates so that the consensus estimate can be taken"
   ]
  },
  {
   "cell_type": "code",
   "execution_count": 52,
   "id": "cd61c6d0-c5d6-49c8-b4d9-5e443ccc574b",
   "metadata": {},
   "outputs": [
    {
     "name": "stdout",
     "output_type": "stream",
     "text": [
      "Combining factorizations for k=5.\n",
      "Combining factorizations for k=6.\n",
      "Combining factorizations for k=7.\n",
      "Combining factorizations for k=8.\n",
      "Combining factorizations for k=9.\n",
      "Combining factorizations for k=10.\n"
     ]
    }
   ],
   "source": [
    "cnmf_obj.combine()"
   ]
  },
  {
   "cell_type": "markdown",
   "id": "a9af4d6f-93ae-492a-8f6b-94b93188ea42",
   "metadata": {},
   "source": [
    "## Compute the stability and error at each choice of K to see if a clear choice jumps out.\n",
    "\n",
    "Please note that the maximum stability solution is not always the best choice depending on the application. However it is often a good starting point even if you have to investigate several choices of K"
   ]
  },
  {
   "cell_type": "code",
   "execution_count": 53,
   "id": "845ee8f1-5e5a-484d-92bb-6c92a29b0fbe",
   "metadata": {},
   "outputs": [
    {
     "data": {
      "image/png": "[encoded data removed]",
      "text/plain": [
       "<Figure size 432x288 with 2 Axes>"
      ]
     },
     "metadata": {
      "needs_background": "light"
     },
     "output_type": "display_data"
    }
   ],
   "source": [
    "cnmf_obj.k_selection_plot(close_fig=False)"
   ]
  },
  {
   "cell_type": "code",
   "execution_count": 54,
   "id": "86fffc99-db94-4547-a27d-6ebf10cc4abf",
   "metadata": {},
   "outputs": [
    {
     "name": "stdout",
     "output_type": "stream",
     "text": [
      "This saves the corresponding figure to the following file: example_PBMC/cNMF/pbmc_cNMF/pbmc_cNMF.k_selection.png\n"
     ]
    }
   ],
   "source": [
    "print('This saves the corresponding figure to the following file: %s' % cnmf_obj.paths['k_selection_plot'])"
   ]
  },
  {
   "cell_type": "markdown",
   "id": "ed25fa8c-2bd4-452d-9c29-b930120a3fab",
   "metadata": {},
   "source": [
    "## In this range, K=7 gave the most stable solution so we will begin by looking at that.\n",
    "\n",
    "The next step computes the consensus solution for a given choice of K. We first run it without any outlier filtering to see what that looks like. Setting the density threshold to anything >= 2.00 (the maximum possible distance between two unit vectors) ensures that nothing will be filtered.\n",
    "\n",
    "Then we run the consensus with a filter for outliers determined based on inspecting the histogram of distances between components and their nearest neighbors"
   ]
  },
  {
   "cell_type": "code",
   "execution_count": 68,
   "id": "624be382-2309-44e2-94fa-0ac663794754",
   "metadata": {},
   "outputs": [],
   "source": [
    "selected_K = 7\n",
    "density_threshold = 2.00"
   ]
  },
  {
   "cell_type": "code",
   "execution_count": 69,
   "id": "7003a082-7125-4f3f-ab94-a90d58cb45d9",
   "metadata": {},
   "outputs": [
    {
     "name": "stderr",
     "output_type": "stream",
     "text": [
      "/PHShome/mc1070/anaconda3/envs/cnmfdev_env/lib/python3.7/site-packages/scanpy/preprocessing/_simple.py:843: UserWarning: Received a view of an AnnData. Making a copy.\n",
      "  view_to_actual(adata)\n"
     ]
    },
    {
     "data": {
      "image/png": "[encoded data removed]",
      "text/plain": [
       "<Figure size 1080x684 with 5 Axes>"
      ]
     },
     "metadata": {
      "needs_background": "light"
     },
     "output_type": "display_data"
    }
   ],
   "source": [
    "cnmf_obj.consensus(k=selected_K, density_threshold=density_threshold, show_clustering=True, close_clustergram_fig=False)"
   ]
  },
  {
   "cell_type": "markdown",
   "id": "dcf53155-4280-4aea-9fb2-e0b29d9a907e",
   "metadata": {},
   "source": [
    "The output figure was saved to ./example_PBMC/cNMF/pbmc_cNMF/pbmc_cNMF.clustering.k_7.dt_0_1.png so you can find it there if you ran the consensus step from the command line"
   ]
  },
  {
   "cell_type": "markdown",
   "id": "16dec1dc-672e-4391-a752-348501a08c72",
   "metadata": {},
   "source": [
    "The above consensus plot shows that there is a substantial degree of concordance between the replicates with a few outliers. An outlier threshold of 0.1 seems appropriate"
   ]
  },
  {
   "cell_type": "markdown",
   "id": "cb8226f3-0761-47e5-8644-b5f4f6fce6df",
   "metadata": {},
   "source": [
    "In order to now output a reference for starCAT, we will set ```build_ref=True```"
   ]
  },
  {
   "cell_type": "code",
   "execution_count": 73,
   "id": "a61bc1f1-77ed-4832-9819-91b3ac8be483",
   "metadata": {},
   "outputs": [],
   "source": [
    "density_threshold = 0.10"
   ]
  },
  {
   "cell_type": "code",
   "execution_count": 74,
   "id": "7a3e5904-5e3c-4c71-962a-ed16f8b03a79",
   "metadata": {},
   "outputs": [
    {
     "name": "stderr",
     "output_type": "stream",
     "text": [
      "/PHShome/mc1070/anaconda3/envs/cnmfdev_env/lib/python3.7/site-packages/scanpy/preprocessing/_simple.py:843: UserWarning: Received a view of an AnnData. Making a copy.\n",
      "  view_to_actual(adata)\n"
     ]
    },
    {
     "data": {
      "image/png": "[encoded data removed]",
      "text/plain": [
       "<Figure size 1080x684 with 5 Axes>"
      ]
     },
     "metadata": {
      "needs_background": "light"
     },
     "output_type": "display_data"
    }
   ],
   "source": [
    "cnmf_obj.consensus(k=selected_K, density_threshold=density_threshold, show_clustering=True, close_clustergram_fig=False,\n",
    "                  build_ref=True)"
   ]
  },
  {
   "cell_type": "markdown",
   "id": "37319eff-d315-4df5-9a63-e47bddbf0c10",
   "metadata": {},
   "source": [
    "Alternatively, we can build a reference after running consensus as follows:\n",
    "\n",
    "```python\n",
    "cnmf_obj.build_reference(k=selected_K, density_threshold=density_threshold)\n",
    "```"
   ]
  },
  {
   "cell_type": "markdown",
   "id": "82b034eb-7936-4790-a399-ad266f7f985f",
   "metadata": {},
   "source": [
    "## Now that we have completed the consensus step for cNMF, a number of output files have been outputted to look at"
   ]
  },
  {
   "cell_type": "code",
   "execution_count": 77,
   "id": "421960d9-60cb-4670-88cf-0e84b0a94873",
   "metadata": {},
   "outputs": [
    {
     "name": "stdout",
     "output_type": "stream",
     "text": [
      "cnmf_tmp\n",
      "pbmc_cNMF.clustering.k_7.dt_0_05.png\n",
      "pbmc_cNMF.clustering.k_7.dt_0_1.png\n",
      "pbmc_cNMF.clustering.k_7.dt_2_0.png\n",
      "pbmc_cNMF.gene_spectra_score.k_7.dt_0_05.txt\n",
      "pbmc_cNMF.gene_spectra_score.k_7.dt_0_1.txt\n",
      "pbmc_cNMF.gene_spectra_score.k_7.dt_2_0.txt\n",
      "pbmc_cNMF.gene_spectra_tpm.k_7.dt_0_05.txt\n",
      "pbmc_cNMF.gene_spectra_tpm.k_7.dt_0_1.txt\n",
      "pbmc_cNMF.gene_spectra_tpm.k_7.dt_2_0.txt\n",
      "pbmc_cNMF.k_selection.png\n",
      "pbmc_cNMF.k_selection_stats.df.npz\n",
      "pbmc_cNMF.overdispersed_genes.txt\n",
      "pbmc_cNMF.spectra.k_7.dt_0_05.consensus.txt\n",
      "pbmc_cNMF.spectra.k_7.dt_0_1.consensus.txt\n",
      "pbmc_cNMF.spectra.k_7.dt_2_0.consensus.txt\n",
      "pbmc_cNMF.starcat_spectra.k_7.dt_0_1.txt\n",
      "pbmc_cNMF.usages.k_7.dt_0_05.consensus.txt\n",
      "pbmc_cNMF.usages.k_7.dt_0_1.consensus.txt\n",
      "pbmc_cNMF.usages.k_7.dt_2_0.consensus.txt\n"
     ]
    }
   ],
   "source": [
    "! ls ./example_PBMC/cNMF/pbmc_cNMF"
   ]
  },
  {
   "cell_type": "markdown",
   "id": "05cd7fe9-a0cf-4bd8-bbe6-25ce5e06182f",
   "metadata": {},
   "source": [
    "The reference spectra for our selected K and density threshold is here: \n",
    "- pbmc_cNMF.starcat_spectra.k_7.dt_0_1.txt\n"
   ]
  },
  {
   "cell_type": "markdown",
   "id": "43c7d252-cd1e-4def-a814-a83c77730712",
   "metadata": {},
   "source": [
    "We can interpret the GEPs based on the top genes driving each GEP."
   ]
  },
  {
   "cell_type": "code",
   "execution_count": 90,
   "id": "c77c906c-a925-4e88-a272-ff5af83b9182",
   "metadata": {},
   "outputs": [],
   "source": [
    "usage_norm, gep_scores, gep_tpm, topgenes = cnmf_obj.load_results(K=selected_K, density_threshold=density_threshold)\n",
    "topgenes.columns = ['GEP%d' % i for i in topgenes.columns]"
   ]
  },
  {
   "cell_type": "code",
   "execution_count": 95,
   "id": "4f2062b0-2490-4fb4-922f-332668a06f78",
   "metadata": {},
   "outputs": [
    {
     "data": {
      "text/html": [
       "<div>\n",
       "<style scoped>\n",
       "    .dataframe tbody tr th:only-of-type {\n",
       "        vertical-align: middle;\n",
       "    }\n",
       "\n",
       "    .dataframe tbody tr th {\n",
       "        vertical-align: top;\n",
       "    }\n",
       "\n",
       "    .dataframe thead th {\n",
       "        text-align: right;\n",
       "    }\n",
       "</style>\n",
       "<table border=\"1\" class=\"dataframe\">\n",
       "  <thead>\n",
       "    <tr style=\"text-align: right;\">\n",
       "      <th></th>\n",
       "      <th>GEP1</th>\n",
       "      <th>GEP2</th>\n",
       "      <th>GEP3</th>\n",
       "      <th>GEP4</th>\n",
       "      <th>GEP5</th>\n",
       "      <th>GEP6</th>\n",
       "      <th>GEP7</th>\n",
       "    </tr>\n",
       "  </thead>\n",
       "  <tbody>\n",
       "    <tr>\n",
       "      <th>0</th>\n",
       "      <td>RPS12</td>\n",
       "      <td>LYZ</td>\n",
       "      <td>CD74</td>\n",
       "      <td>NKG7</td>\n",
       "      <td>FCGR3A</td>\n",
       "      <td>RRM2</td>\n",
       "      <td>C2orf88</td>\n",
       "    </tr>\n",
       "    <tr>\n",
       "      <th>1</th>\n",
       "      <td>RPS27</td>\n",
       "      <td>S100A9</td>\n",
       "      <td>HLA-DRA</td>\n",
       "      <td>PRF1</td>\n",
       "      <td>FCER1G</td>\n",
       "      <td>CDC6</td>\n",
       "      <td>TSC22D1</td>\n",
       "    </tr>\n",
       "    <tr>\n",
       "      <th>2</th>\n",
       "      <td>RPS25</td>\n",
       "      <td>S100A8</td>\n",
       "      <td>HLA-DQB1</td>\n",
       "      <td>GZMB</td>\n",
       "      <td>LST1</td>\n",
       "      <td>MCM10</td>\n",
       "      <td>HIST1H2AC</td>\n",
       "    </tr>\n",
       "    <tr>\n",
       "      <th>3</th>\n",
       "      <td>EEF1A1</td>\n",
       "      <td>CST3</td>\n",
       "      <td>HLA-DQA1</td>\n",
       "      <td>GZMA</td>\n",
       "      <td>RP11-290F20.3</td>\n",
       "      <td>TYMS</td>\n",
       "      <td>AC147651.3</td>\n",
       "    </tr>\n",
       "    <tr>\n",
       "      <th>4</th>\n",
       "      <td>RPS15A</td>\n",
       "      <td>CD14</td>\n",
       "      <td>HLA-DPB1</td>\n",
       "      <td>GNLY</td>\n",
       "      <td>MS4A7</td>\n",
       "      <td>KIAA0101</td>\n",
       "      <td>LGALSL</td>\n",
       "    </tr>\n",
       "    <tr>\n",
       "      <th>5</th>\n",
       "      <td>RPL31</td>\n",
       "      <td>FCN1</td>\n",
       "      <td>HLA-DRB1</td>\n",
       "      <td>FGFBP2</td>\n",
       "      <td>IFITM3</td>\n",
       "      <td>CDC20</td>\n",
       "      <td>ACRBP</td>\n",
       "    </tr>\n",
       "    <tr>\n",
       "      <th>6</th>\n",
       "      <td>RPS6</td>\n",
       "      <td>TYROBP</td>\n",
       "      <td>CD79B</td>\n",
       "      <td>SPON2</td>\n",
       "      <td>IFITM2</td>\n",
       "      <td>TK1</td>\n",
       "      <td>PTCRA</td>\n",
       "    </tr>\n",
       "    <tr>\n",
       "      <th>7</th>\n",
       "      <td>RPS27A</td>\n",
       "      <td>LGALS2</td>\n",
       "      <td>HLA-DQA2</td>\n",
       "      <td>CST7</td>\n",
       "      <td>COTL1</td>\n",
       "      <td>KIFC1</td>\n",
       "      <td>MMD</td>\n",
       "    </tr>\n",
       "    <tr>\n",
       "      <th>8</th>\n",
       "      <td>RPLP2</td>\n",
       "      <td>GSTP1</td>\n",
       "      <td>MS4A1</td>\n",
       "      <td>CTSW</td>\n",
       "      <td>RHOC</td>\n",
       "      <td>BIRC5</td>\n",
       "      <td>ESAM</td>\n",
       "    </tr>\n",
       "    <tr>\n",
       "      <th>9</th>\n",
       "      <td>RPS3A</td>\n",
       "      <td>LGALS1</td>\n",
       "      <td>HLA-DPA1</td>\n",
       "      <td>CLIC3</td>\n",
       "      <td>AIF1</td>\n",
       "      <td>BLM</td>\n",
       "      <td>PRUNE</td>\n",
       "    </tr>\n",
       "    <tr>\n",
       "      <th>10</th>\n",
       "      <td>RPL23A</td>\n",
       "      <td>AP1S2</td>\n",
       "      <td>HLA-DRB5</td>\n",
       "      <td>HLA-C</td>\n",
       "      <td>HES4</td>\n",
       "      <td>CPNE5</td>\n",
       "      <td>SMOX</td>\n",
       "    </tr>\n",
       "    <tr>\n",
       "      <th>11</th>\n",
       "      <td>RPS18</td>\n",
       "      <td>S100A6</td>\n",
       "      <td>CD79A</td>\n",
       "      <td>B2M</td>\n",
       "      <td>TIMP1</td>\n",
       "      <td>UCHL1</td>\n",
       "      <td>RHOBTB1</td>\n",
       "    </tr>\n",
       "    <tr>\n",
       "      <th>12</th>\n",
       "      <td>RPS29</td>\n",
       "      <td>CEBPD</td>\n",
       "      <td>VPREB3</td>\n",
       "      <td>AKR1C3</td>\n",
       "      <td>SERPINA1</td>\n",
       "      <td>GINS2</td>\n",
       "      <td>SDPR</td>\n",
       "    </tr>\n",
       "    <tr>\n",
       "      <th>13</th>\n",
       "      <td>RPS14</td>\n",
       "      <td>TSPO</td>\n",
       "      <td>TCL1A</td>\n",
       "      <td>KLRD1</td>\n",
       "      <td>HMOX1</td>\n",
       "      <td>MKI67</td>\n",
       "      <td>NGFRAP1</td>\n",
       "    </tr>\n",
       "    <tr>\n",
       "      <th>14</th>\n",
       "      <td>RPL9</td>\n",
       "      <td>GRN</td>\n",
       "      <td>FCER2</td>\n",
       "      <td>XCL2</td>\n",
       "      <td>HCK</td>\n",
       "      <td>CCNA2</td>\n",
       "      <td>CLEC1B</td>\n",
       "    </tr>\n",
       "    <tr>\n",
       "      <th>15</th>\n",
       "      <td>RPL3</td>\n",
       "      <td>FTL</td>\n",
       "      <td>CD37</td>\n",
       "      <td>GZMH</td>\n",
       "      <td>CDKN1C</td>\n",
       "      <td>FOXM1</td>\n",
       "      <td>TMEM40</td>\n",
       "    </tr>\n",
       "    <tr>\n",
       "      <th>16</th>\n",
       "      <td>RPL21</td>\n",
       "      <td>BLVRB</td>\n",
       "      <td>BANK1</td>\n",
       "      <td>CCL5</td>\n",
       "      <td>LRRC25</td>\n",
       "      <td>CCNB2</td>\n",
       "      <td>GRAP2</td>\n",
       "    </tr>\n",
       "    <tr>\n",
       "      <th>17</th>\n",
       "      <td>RPL32</td>\n",
       "      <td>TYMP</td>\n",
       "      <td>HLA-DOB</td>\n",
       "      <td>CCL4</td>\n",
       "      <td>FTH1</td>\n",
       "      <td>TUBA1B</td>\n",
       "      <td>MAP3K7CL</td>\n",
       "    </tr>\n",
       "    <tr>\n",
       "      <th>18</th>\n",
       "      <td>RPS3</td>\n",
       "      <td>GABARAP</td>\n",
       "      <td>LINC00926</td>\n",
       "      <td>TTC38</td>\n",
       "      <td>CKB</td>\n",
       "      <td>HMGB2</td>\n",
       "      <td>MYLK</td>\n",
       "    </tr>\n",
       "    <tr>\n",
       "      <th>19</th>\n",
       "      <td>RPL30</td>\n",
       "      <td>CSF3R</td>\n",
       "      <td>SPIB</td>\n",
       "      <td>S1PR5</td>\n",
       "      <td>MS4A4A</td>\n",
       "      <td>RAD51</td>\n",
       "      <td>HIST1H2BJ</td>\n",
       "    </tr>\n",
       "  </tbody>\n",
       "</table>\n",
       "</div>"
      ],
      "text/plain": [
       "      GEP1     GEP2       GEP3    GEP4           GEP5      GEP6        GEP7\n",
       "0    RPS12      LYZ       CD74    NKG7         FCGR3A      RRM2     C2orf88\n",
       "1    RPS27   S100A9    HLA-DRA    PRF1         FCER1G      CDC6     TSC22D1\n",
       "2    RPS25   S100A8   HLA-DQB1    GZMB           LST1     MCM10   HIST1H2AC\n",
       "3   EEF1A1     CST3   HLA-DQA1    GZMA  RP11-290F20.3      TYMS  AC147651.3\n",
       "4   RPS15A     CD14   HLA-DPB1    GNLY          MS4A7  KIAA0101      LGALSL\n",
       "5    RPL31     FCN1   HLA-DRB1  FGFBP2         IFITM3     CDC20       ACRBP\n",
       "6     RPS6   TYROBP      CD79B   SPON2         IFITM2       TK1       PTCRA\n",
       "7   RPS27A   LGALS2   HLA-DQA2    CST7          COTL1     KIFC1         MMD\n",
       "8    RPLP2    GSTP1      MS4A1    CTSW           RHOC     BIRC5        ESAM\n",
       "9    RPS3A   LGALS1   HLA-DPA1   CLIC3           AIF1       BLM       PRUNE\n",
       "10  RPL23A    AP1S2   HLA-DRB5   HLA-C           HES4     CPNE5        SMOX\n",
       "11   RPS18   S100A6      CD79A     B2M          TIMP1     UCHL1     RHOBTB1\n",
       "12   RPS29    CEBPD     VPREB3  AKR1C3       SERPINA1     GINS2        SDPR\n",
       "13   RPS14     TSPO      TCL1A   KLRD1          HMOX1     MKI67     NGFRAP1\n",
       "14    RPL9      GRN      FCER2    XCL2            HCK     CCNA2      CLEC1B\n",
       "15    RPL3      FTL       CD37    GZMH         CDKN1C     FOXM1      TMEM40\n",
       "16   RPL21    BLVRB      BANK1    CCL5         LRRC25     CCNB2       GRAP2\n",
       "17   RPL32     TYMP    HLA-DOB    CCL4           FTH1    TUBA1B    MAP3K7CL\n",
       "18    RPS3  GABARAP  LINC00926   TTC38            CKB     HMGB2        MYLK\n",
       "19   RPL30    CSF3R       SPIB   S1PR5         MS4A4A     RAD51   HIST1H2BJ"
      ]
     },
     "execution_count": 95,
     "metadata": {},
     "output_type": "execute_result"
    }
   ],
   "source": [
    "topgenes.head(20)"
   ]
  },
  {
   "cell_type": "markdown",
   "id": "283a1334-0424-49f0-971f-da3a106ba381",
   "metadata": {},
   "source": [
    "The GEPs roughly correspond to:\n",
    "\n",
    "* 1 - T-cell identity\n",
    "* 2 - CD14+ monocyte identity\n",
    "* 3 - B-cell identity\n",
    "* 4 - NK-cell identity\n",
    "* 5 - CD16+ monocyte identity\n",
    "* 6 - Cell cycle activity\n",
    "* 7 - Myeloid identity\n",
    "\n",
    "We can then use them to annotate a new dataset."
   ]
  },
  {
   "cell_type": "markdown",
   "id": "706f9bf9-64cf-469f-ad37-2d7f0b71a274",
   "metadata": {},
   "source": [
    "## Download separate query data and copy it to the directory ./query_PBMC"
   ]
  },
  {
   "cell_type": "code",
   "execution_count": 78,
   "id": "3504b4bf-123b-4588-aaba-9e715936666e",
   "metadata": {},
   "outputs": [
    {
     "name": "stdout",
     "output_type": "stream",
     "text": [
      "--2024-05-20 14:10:58--  https://cf.10xgenomics.com/samples/cell-exp/4.0.0/Parent_NGSC3_DI_PBMC/Parent_NGSC3_DI_PBMC_filtered_feature_bc_matrix.tar.gz\n",
      "Resolving cf.10xgenomics.com... 104.18.0.173, 104.18.1.173, 2606:4700::6812:1ad, ...\n",
      "Connecting to cf.10xgenomics.com|104.18.0.173|:443... connected.\n",
      "WARNING: cannot verify cf.10xgenomics.com’s certificate, issued by “/C=US/O=Let's Encrypt/CN=E1”:\n",
      "  Issued certificate has expired.\n",
      "HTTP request sent, awaiting response... 200 OK\n",
      "Length: 92815798 (89M) [application/x-tar]\n",
      "Saving to: “query_PBMC/Parent_NGSC3_DI_PBMC_filtered_feature_bc_matrix.tar.gz”\n",
      "\n",
      "100%[======================================>] 92,815,798  15.2M/s   in 5.9s    \n",
      "\n",
      "2024-05-20 14:11:05 (15.1 MB/s) - “query_PBMC/Parent_NGSC3_DI_PBMC_filtered_feature_bc_matrix.tar.gz” saved [92815798/92815798]\n",
      "\n",
      "filtered_feature_bc_matrix/\n",
      "filtered_feature_bc_matrix/features.tsv.gz\n",
      "filtered_feature_bc_matrix/matrix.mtx.gz\n",
      "filtered_feature_bc_matrix/barcodes.tsv.gz\n"
     ]
    }
   ],
   "source": [
    "! wget -O query_PBMC/Parent_NGSC3_DI_PBMC_filtered_feature_bc_matrix.tar.gz https://cf.10xgenomics.com/samples/cell-exp/4.0.0/Parent_NGSC3_DI_PBMC/Parent_NGSC3_DI_PBMC_filtered_feature_bc_matrix.tar.gz\n",
    "! tar -zxvf query_PBMC/Parent_NGSC3_DI_PBMC_filtered_feature_bc_matrix.tar.gz    \n",
    "! mv filtered_feature_bc_matrix query_PBMC\n",
    "! rm  query_PBMC/Parent_NGSC3_DI_PBMC_filtered_feature_bc_matrix.tar.gz"
   ]
  },
  {
   "cell_type": "markdown",
   "id": "e7bb571e-8529-4d4c-8c1a-effedec85e06",
   "metadata": {},
   "source": [
    "## Run starCAT on query"
   ]
  },
  {
   "cell_type": "code",
   "execution_count": 81,
   "id": "792ae82f-3ac4-4719-9562-30b6c9c773c5",
   "metadata": {},
   "outputs": [
    {
     "name": "stdout",
     "output_type": "stream",
     "text": [
      "Using user specified reference spectra file ./example_PBMC/cNMF/pbmc_cNMF/pbmc_cNMF.starcat_spectra.k_7.dt_0_1.txt\n",
      "No scores provided\n"
     ]
    }
   ],
   "source": [
    "tcat = starCAT(reference='./example_PBMC/cNMF/pbmc_cNMF/pbmc_cNMF.starcat_spectra.k_7.dt_0_1.txt', \n",
    "               cachedir='./query_PBMC/cache')"
   ]
  },
  {
   "cell_type": "code",
   "execution_count": 85,
   "id": "f46c329e-ebee-48fa-9875-ca6c227f7688",
   "metadata": {},
   "outputs": [
    {
     "data": {
      "text/html": [
       "<div>\n",
       "<style scoped>\n",
       "    .dataframe tbody tr th:only-of-type {\n",
       "        vertical-align: middle;\n",
       "    }\n",
       "\n",
       "    .dataframe tbody tr th {\n",
       "        vertical-align: top;\n",
       "    }\n",
       "\n",
       "    .dataframe thead th {\n",
       "        text-align: right;\n",
       "    }\n",
       "</style>\n",
       "<table border=\"1\" class=\"dataframe\">\n",
       "  <thead>\n",
       "    <tr style=\"text-align: right;\">\n",
       "      <th></th>\n",
       "      <th>ISG15</th>\n",
       "      <th>CPSF3L</th>\n",
       "      <th>MRPL20</th>\n",
       "      <th>ATAD3C</th>\n",
       "      <th>C1orf86</th>\n",
       "      <th>RER1</th>\n",
       "      <th>TNFRSF25</th>\n",
       "      <th>CAMTA1</th>\n",
       "      <th>TNFRSF9</th>\n",
       "      <th>ENO1</th>\n",
       "      <th>...</th>\n",
       "      <th>PRMT2</th>\n",
       "      <th>MT-ND1</th>\n",
       "      <th>MT-ND2</th>\n",
       "      <th>MT-CO1</th>\n",
       "      <th>MT-CO2</th>\n",
       "      <th>MT-ATP6</th>\n",
       "      <th>MT-CO3</th>\n",
       "      <th>MT-ND4</th>\n",
       "      <th>MT-ND5</th>\n",
       "      <th>MT-CYB</th>\n",
       "    </tr>\n",
       "  </thead>\n",
       "  <tbody>\n",
       "    <tr>\n",
       "      <th>GEP1</th>\n",
       "      <td>0.213573</td>\n",
       "      <td>0.059395</td>\n",
       "      <td>0.291212</td>\n",
       "      <td>0.000000</td>\n",
       "      <td>0.192421</td>\n",
       "      <td>0.119510</td>\n",
       "      <td>0.232727</td>\n",
       "      <td>0.137690</td>\n",
       "      <td>0.025416</td>\n",
       "      <td>0.381694</td>\n",
       "      <td>...</td>\n",
       "      <td>0.293640</td>\n",
       "      <td>0.909563</td>\n",
       "      <td>1.230623</td>\n",
       "      <td>1.103495</td>\n",
       "      <td>0.801094</td>\n",
       "      <td>0.645041</td>\n",
       "      <td>1.143398</td>\n",
       "      <td>1.330294</td>\n",
       "      <td>0.339570</td>\n",
       "      <td>1.030652</td>\n",
       "    </tr>\n",
       "    <tr>\n",
       "      <th>GEP2</th>\n",
       "      <td>1.040371</td>\n",
       "      <td>0.017063</td>\n",
       "      <td>0.421599</td>\n",
       "      <td>0.000000</td>\n",
       "      <td>0.514873</td>\n",
       "      <td>0.224933</td>\n",
       "      <td>0.000000</td>\n",
       "      <td>0.159497</td>\n",
       "      <td>0.055715</td>\n",
       "      <td>0.688915</td>\n",
       "      <td>...</td>\n",
       "      <td>0.128932</td>\n",
       "      <td>1.815674</td>\n",
       "      <td>0.611675</td>\n",
       "      <td>2.032145</td>\n",
       "      <td>0.815297</td>\n",
       "      <td>0.770144</td>\n",
       "      <td>1.097263</td>\n",
       "      <td>0.888587</td>\n",
       "      <td>0.367350</td>\n",
       "      <td>0.952296</td>\n",
       "    </tr>\n",
       "    <tr>\n",
       "      <th>GEP3</th>\n",
       "      <td>0.193707</td>\n",
       "      <td>0.250315</td>\n",
       "      <td>0.198822</td>\n",
       "      <td>0.000000</td>\n",
       "      <td>0.258690</td>\n",
       "      <td>0.206760</td>\n",
       "      <td>0.000000</td>\n",
       "      <td>0.205168</td>\n",
       "      <td>0.000000</td>\n",
       "      <td>0.190324</td>\n",
       "      <td>...</td>\n",
       "      <td>0.012787</td>\n",
       "      <td>0.983346</td>\n",
       "      <td>0.902678</td>\n",
       "      <td>1.764107</td>\n",
       "      <td>0.856400</td>\n",
       "      <td>0.561714</td>\n",
       "      <td>1.415078</td>\n",
       "      <td>1.373947</td>\n",
       "      <td>0.257519</td>\n",
       "      <td>0.819548</td>\n",
       "    </tr>\n",
       "    <tr>\n",
       "      <th>GEP4</th>\n",
       "      <td>0.516527</td>\n",
       "      <td>0.102063</td>\n",
       "      <td>0.334910</td>\n",
       "      <td>0.383978</td>\n",
       "      <td>0.232708</td>\n",
       "      <td>0.308342</td>\n",
       "      <td>0.057103</td>\n",
       "      <td>0.121057</td>\n",
       "      <td>0.219432</td>\n",
       "      <td>0.706243</td>\n",
       "      <td>...</td>\n",
       "      <td>0.861041</td>\n",
       "      <td>0.830861</td>\n",
       "      <td>1.007107</td>\n",
       "      <td>1.948806</td>\n",
       "      <td>1.014349</td>\n",
       "      <td>0.913621</td>\n",
       "      <td>1.299510</td>\n",
       "      <td>1.255432</td>\n",
       "      <td>0.372176</td>\n",
       "      <td>0.915217</td>\n",
       "    </tr>\n",
       "    <tr>\n",
       "      <th>GEP5</th>\n",
       "      <td>1.538717</td>\n",
       "      <td>0.027625</td>\n",
       "      <td>0.247977</td>\n",
       "      <td>0.000000</td>\n",
       "      <td>0.203778</td>\n",
       "      <td>0.286007</td>\n",
       "      <td>0.026766</td>\n",
       "      <td>0.122523</td>\n",
       "      <td>0.000000</td>\n",
       "      <td>0.694238</td>\n",
       "      <td>...</td>\n",
       "      <td>0.247758</td>\n",
       "      <td>1.059718</td>\n",
       "      <td>1.055433</td>\n",
       "      <td>2.310755</td>\n",
       "      <td>1.349492</td>\n",
       "      <td>0.731056</td>\n",
       "      <td>1.077800</td>\n",
       "      <td>1.155318</td>\n",
       "      <td>0.407248</td>\n",
       "      <td>0.636162</td>\n",
       "    </tr>\n",
       "    <tr>\n",
       "      <th>GEP6</th>\n",
       "      <td>0.416025</td>\n",
       "      <td>0.017946</td>\n",
       "      <td>0.354892</td>\n",
       "      <td>0.000000</td>\n",
       "      <td>0.233847</td>\n",
       "      <td>0.499674</td>\n",
       "      <td>0.116113</td>\n",
       "      <td>0.374859</td>\n",
       "      <td>0.078547</td>\n",
       "      <td>2.124893</td>\n",
       "      <td>...</td>\n",
       "      <td>0.027216</td>\n",
       "      <td>0.615830</td>\n",
       "      <td>0.000000</td>\n",
       "      <td>1.269225</td>\n",
       "      <td>0.000000</td>\n",
       "      <td>0.000000</td>\n",
       "      <td>1.004581</td>\n",
       "      <td>0.346307</td>\n",
       "      <td>0.430923</td>\n",
       "      <td>0.000000</td>\n",
       "    </tr>\n",
       "    <tr>\n",
       "      <th>GEP7</th>\n",
       "      <td>0.134771</td>\n",
       "      <td>0.012192</td>\n",
       "      <td>0.008382</td>\n",
       "      <td>0.000000</td>\n",
       "      <td>0.016016</td>\n",
       "      <td>0.000000</td>\n",
       "      <td>0.000000</td>\n",
       "      <td>2.894347</td>\n",
       "      <td>0.026261</td>\n",
       "      <td>0.344913</td>\n",
       "      <td>...</td>\n",
       "      <td>0.605626</td>\n",
       "      <td>1.070769</td>\n",
       "      <td>0.930944</td>\n",
       "      <td>0.742003</td>\n",
       "      <td>0.741356</td>\n",
       "      <td>1.840834</td>\n",
       "      <td>0.806375</td>\n",
       "      <td>0.539854</td>\n",
       "      <td>0.266425</td>\n",
       "      <td>0.966455</td>\n",
       "    </tr>\n",
       "  </tbody>\n",
       "</table>\n",
       "<p>7 rows × 2000 columns</p>\n",
       "</div>"
      ],
      "text/plain": [
       "         ISG15    CPSF3L    MRPL20    ATAD3C   C1orf86      RER1  TNFRSF25  \\\n",
       "GEP1  0.213573  0.059395  0.291212  0.000000  0.192421  0.119510  0.232727   \n",
       "GEP2  1.040371  0.017063  0.421599  0.000000  0.514873  0.224933  0.000000   \n",
       "GEP3  0.193707  0.250315  0.198822  0.000000  0.258690  0.206760  0.000000   \n",
       "GEP4  0.516527  0.102063  0.334910  0.383978  0.232708  0.308342  0.057103   \n",
       "GEP5  1.538717  0.027625  0.247977  0.000000  0.203778  0.286007  0.026766   \n",
       "GEP6  0.416025  0.017946  0.354892  0.000000  0.233847  0.499674  0.116113   \n",
       "GEP7  0.134771  0.012192  0.008382  0.000000  0.016016  0.000000  0.000000   \n",
       "\n",
       "        CAMTA1   TNFRSF9      ENO1  ...     PRMT2    MT-ND1    MT-ND2  \\\n",
       "GEP1  0.137690  0.025416  0.381694  ...  0.293640  0.909563  1.230623   \n",
       "GEP2  0.159497  0.055715  0.688915  ...  0.128932  1.815674  0.611675   \n",
       "GEP3  0.205168  0.000000  0.190324  ...  0.012787  0.983346  0.902678   \n",
       "GEP4  0.121057  0.219432  0.706243  ...  0.861041  0.830861  1.007107   \n",
       "GEP5  0.122523  0.000000  0.694238  ...  0.247758  1.059718  1.055433   \n",
       "GEP6  0.374859  0.078547  2.124893  ...  0.027216  0.615830  0.000000   \n",
       "GEP7  2.894347  0.026261  0.344913  ...  0.605626  1.070769  0.930944   \n",
       "\n",
       "        MT-CO1    MT-CO2   MT-ATP6    MT-CO3    MT-ND4    MT-ND5    MT-CYB  \n",
       "GEP1  1.103495  0.801094  0.645041  1.143398  1.330294  0.339570  1.030652  \n",
       "GEP2  2.032145  0.815297  0.770144  1.097263  0.888587  0.367350  0.952296  \n",
       "GEP3  1.764107  0.856400  0.561714  1.415078  1.373947  0.257519  0.819548  \n",
       "GEP4  1.948806  1.014349  0.913621  1.299510  1.255432  0.372176  0.915217  \n",
       "GEP5  2.310755  1.349492  0.731056  1.077800  1.155318  0.407248  0.636162  \n",
       "GEP6  1.269225  0.000000  0.000000  1.004581  0.346307  0.430923  0.000000  \n",
       "GEP7  0.742003  0.741356  1.840834  0.806375  0.539854  0.266425  0.966455  \n",
       "\n",
       "[7 rows x 2000 columns]"
      ]
     },
     "execution_count": 85,
     "metadata": {},
     "output_type": "execute_result"
    }
   ],
   "source": [
    "tcat.ref"
   ]
  },
  {
   "cell_type": "code",
   "execution_count": 86,
   "id": "54408b5b-84b3-4377-b72b-47a07795ab9f",
   "metadata": {},
   "outputs": [],
   "source": [
    "# Load query counts data\n",
    "adata = tcat.load_counts('./query_PBMC/filtered_feature_bc_matrix/matrix.mtx.gz')"
   ]
  },
  {
   "cell_type": "code",
   "execution_count": 97,
   "id": "775a4a1c-c0a4-4f4e-b2e3-98b1f4f88533",
   "metadata": {},
   "outputs": [
    {
     "name": "stdout",
     "output_type": "stream",
     "text": [
      "1840 out of 2000 genes in the reference overlap with the query\n"
     ]
    }
   ],
   "source": [
    "# Run starCAT \n",
    "usage, _ = tcat.fit_transform(adata)"
   ]
  },
  {
   "cell_type": "code",
   "execution_count": 107,
   "id": "85420848-db11-4cec-a930-353d241b9c37",
   "metadata": {},
   "outputs": [
    {
     "data": {
      "text/html": [
       "<div>\n",
       "<style scoped>\n",
       "    .dataframe tbody tr th:only-of-type {\n",
       "        vertical-align: middle;\n",
       "    }\n",
       "\n",
       "    .dataframe tbody tr th {\n",
       "        vertical-align: top;\n",
       "    }\n",
       "\n",
       "    .dataframe thead th {\n",
       "        text-align: right;\n",
       "    }\n",
       "</style>\n",
       "<table border=\"1\" class=\"dataframe\">\n",
       "  <thead>\n",
       "    <tr style=\"text-align: right;\">\n",
       "      <th></th>\n",
       "      <th>GEP1</th>\n",
       "      <th>GEP2</th>\n",
       "      <th>GEP3</th>\n",
       "      <th>GEP4</th>\n",
       "      <th>GEP5</th>\n",
       "      <th>GEP6</th>\n",
       "      <th>GEP7</th>\n",
       "    </tr>\n",
       "  </thead>\n",
       "  <tbody>\n",
       "    <tr>\n",
       "      <th>AAACCCACATAACTCG-1</th>\n",
       "      <td>0.555852</td>\n",
       "      <td>0.171307</td>\n",
       "      <td>0.055815</td>\n",
       "      <td>0.059038</td>\n",
       "      <td>0.033111</td>\n",
       "      <td>0.119420</td>\n",
       "      <td>0.005457</td>\n",
       "    </tr>\n",
       "    <tr>\n",
       "      <th>AAACCCACATGTAACC-1</th>\n",
       "      <td>0.322750</td>\n",
       "      <td>0.000160</td>\n",
       "      <td>0.559939</td>\n",
       "      <td>0.039901</td>\n",
       "      <td>0.000076</td>\n",
       "      <td>0.069805</td>\n",
       "      <td>0.007368</td>\n",
       "    </tr>\n",
       "    <tr>\n",
       "      <th>AAACCCAGTGAGTCAG-1</th>\n",
       "      <td>0.155966</td>\n",
       "      <td>0.127428</td>\n",
       "      <td>0.241674</td>\n",
       "      <td>0.068205</td>\n",
       "      <td>0.239079</td>\n",
       "      <td>0.160350</td>\n",
       "      <td>0.007298</td>\n",
       "    </tr>\n",
       "    <tr>\n",
       "      <th>AAACCCAGTGCTTATG-1</th>\n",
       "      <td>0.827537</td>\n",
       "      <td>0.000166</td>\n",
       "      <td>0.052788</td>\n",
       "      <td>0.076342</td>\n",
       "      <td>0.000711</td>\n",
       "      <td>0.032717</td>\n",
       "      <td>0.009740</td>\n",
       "    </tr>\n",
       "    <tr>\n",
       "      <th>AAACGAACAGTCAGTT-1</th>\n",
       "      <td>0.261713</td>\n",
       "      <td>0.243788</td>\n",
       "      <td>0.150268</td>\n",
       "      <td>0.150840</td>\n",
       "      <td>0.052973</td>\n",
       "      <td>0.125293</td>\n",
       "      <td>0.015126</td>\n",
       "    </tr>\n",
       "    <tr>\n",
       "      <th>...</th>\n",
       "      <td>...</td>\n",
       "      <td>...</td>\n",
       "      <td>...</td>\n",
       "      <td>...</td>\n",
       "      <td>...</td>\n",
       "      <td>...</td>\n",
       "      <td>...</td>\n",
       "    </tr>\n",
       "    <tr>\n",
       "      <th>TTTGTTGGTCCGTACG-1</th>\n",
       "      <td>0.309050</td>\n",
       "      <td>0.316715</td>\n",
       "      <td>0.111934</td>\n",
       "      <td>0.054564</td>\n",
       "      <td>0.106098</td>\n",
       "      <td>0.086757</td>\n",
       "      <td>0.014882</td>\n",
       "    </tr>\n",
       "    <tr>\n",
       "      <th>TTTGTTGGTCGGAACA-1</th>\n",
       "      <td>0.835987</td>\n",
       "      <td>0.000323</td>\n",
       "      <td>0.033394</td>\n",
       "      <td>0.018343</td>\n",
       "      <td>0.000112</td>\n",
       "      <td>0.104722</td>\n",
       "      <td>0.007119</td>\n",
       "    </tr>\n",
       "    <tr>\n",
       "      <th>TTTGTTGGTTTACGAC-1</th>\n",
       "      <td>0.885994</td>\n",
       "      <td>0.000487</td>\n",
       "      <td>0.037010</td>\n",
       "      <td>0.010578</td>\n",
       "      <td>0.000137</td>\n",
       "      <td>0.061216</td>\n",
       "      <td>0.004578</td>\n",
       "    </tr>\n",
       "    <tr>\n",
       "      <th>TTTGTTGTCGTTATCT-1</th>\n",
       "      <td>0.219369</td>\n",
       "      <td>0.078509</td>\n",
       "      <td>0.105357</td>\n",
       "      <td>0.091927</td>\n",
       "      <td>0.367954</td>\n",
       "      <td>0.129679</td>\n",
       "      <td>0.007205</td>\n",
       "    </tr>\n",
       "    <tr>\n",
       "      <th>TTTGTTGTCTTTGCTA-1</th>\n",
       "      <td>0.235764</td>\n",
       "      <td>0.283244</td>\n",
       "      <td>0.097767</td>\n",
       "      <td>0.050876</td>\n",
       "      <td>0.207134</td>\n",
       "      <td>0.113670</td>\n",
       "      <td>0.011544</td>\n",
       "    </tr>\n",
       "  </tbody>\n",
       "</table>\n",
       "<p>10194 rows × 7 columns</p>\n",
       "</div>"
      ],
      "text/plain": [
       "                        GEP1      GEP2      GEP3      GEP4      GEP5  \\\n",
       "AAACCCACATAACTCG-1  0.555852  0.171307  0.055815  0.059038  0.033111   \n",
       "AAACCCACATGTAACC-1  0.322750  0.000160  0.559939  0.039901  0.000076   \n",
       "AAACCCAGTGAGTCAG-1  0.155966  0.127428  0.241674  0.068205  0.239079   \n",
       "AAACCCAGTGCTTATG-1  0.827537  0.000166  0.052788  0.076342  0.000711   \n",
       "AAACGAACAGTCAGTT-1  0.261713  0.243788  0.150268  0.150840  0.052973   \n",
       "...                      ...       ...       ...       ...       ...   \n",
       "TTTGTTGGTCCGTACG-1  0.309050  0.316715  0.111934  0.054564  0.106098   \n",
       "TTTGTTGGTCGGAACA-1  0.835987  0.000323  0.033394  0.018343  0.000112   \n",
       "TTTGTTGGTTTACGAC-1  0.885994  0.000487  0.037010  0.010578  0.000137   \n",
       "TTTGTTGTCGTTATCT-1  0.219369  0.078509  0.105357  0.091927  0.367954   \n",
       "TTTGTTGTCTTTGCTA-1  0.235764  0.283244  0.097767  0.050876  0.207134   \n",
       "\n",
       "                        GEP6      GEP7  \n",
       "AAACCCACATAACTCG-1  0.119420  0.005457  \n",
       "AAACCCACATGTAACC-1  0.069805  0.007368  \n",
       "AAACCCAGTGAGTCAG-1  0.160350  0.007298  \n",
       "AAACCCAGTGCTTATG-1  0.032717  0.009740  \n",
       "AAACGAACAGTCAGTT-1  0.125293  0.015126  \n",
       "...                      ...       ...  \n",
       "TTTGTTGGTCCGTACG-1  0.086757  0.014882  \n",
       "TTTGTTGGTCGGAACA-1  0.104722  0.007119  \n",
       "TTTGTTGGTTTACGAC-1  0.061216  0.004578  \n",
       "TTTGTTGTCGTTATCT-1  0.129679  0.007205  \n",
       "TTTGTTGTCTTTGCTA-1  0.113670  0.011544  \n",
       "\n",
       "[10194 rows x 7 columns]"
      ]
     },
     "execution_count": 107,
     "metadata": {},
     "output_type": "execute_result"
    }
   ],
   "source": [
    "usage"
   ]
  },
  {
   "cell_type": "markdown",
   "id": "a5f44bba-e366-4855-bdbe-d8622191eac6",
   "metadata": {},
   "source": [
    "By default, pre-built reference spectra and scores files are cached, and specifying score path is not necessary. If score add-ons for custom references are desired, pass a filepath to the custom scores.yaml file during initialization of the *CAT object.\n",
    "\n",
    "Please refer to example references (ex. TCAT.V1) for formatting of the scores file and related files. The scores file should be a yaml file defining relevant weighted linear combinations of GEPs in defining a score (ex. 3 GEPs summed to define Cell Cycle score). It also may include may include code blocks for other types of calculations of scores. Any files referenced by the scores file should be present within the same directory.\n",
    "\n",
    "An example file structure for TCAT.V1:\n",
    "\n",
    "```\n",
    "--TCAT.V1\n",
    "---TCAT.V1.reference.tsv\n",
    "---TCAT.V1.scores.yaml\n",
    "---TCAT.V1.MultiLogRegression.pkl\n",
    "---multinomial_lineage_classifier.py\n",
    "```"
   ]
  }
 ],
 "metadata": {
  "kernelspec": {
   "display_name": "Python 3 (ipykernel)",
   "language": "python",
   "name": "python3"
  },
  "language_info": {
   "codemirror_mode": {
    "name": "ipython",
    "version": 3
   },
   "file_extension": ".py",
   "mimetype": "text/x-python",
   "name": "python",
   "nbconvert_exporter": "python",
   "pygments_lexer": "ipython3",
   "version": "3.8.19"
  }
 },
 "nbformat": 4,
 "nbformat_minor": 5
}
