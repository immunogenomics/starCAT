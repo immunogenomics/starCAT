{
 "cells": [
  {
   "cell_type": "markdown",
   "id": "b9115e6a-c142-4b4f-874f-81bda3bebd3e",
   "metadata": {},
   "source": [
    "This notebook provides example code for converting a sparse counts matrix in R (i.e. from Seurat) into a compressed Matrix Market object (.mtx.gz, default output from cellranger) readable by *CAT python code. \n",
    "\n",
    "Acceptable *CAT inputs are .mtx.gz and .h5ad counts matrices."
   ]
  },
  {
   "cell_type": "code",
   "execution_count": 1,
   "id": "4f0e6378-befc-4678-9b01-60438a8207da",
   "metadata": {},
   "outputs": [
    {
     "name": "stderr",
     "output_type": "stream",
     "text": [
      "Warning message:\n",
      "“package ‘tidyr’ was built under R version 4.1.2”\n",
      "Warning message:\n",
      "“package ‘readr’ was built under R version 4.1.2”\n",
      "Warning message:\n",
      "“package ‘Matrix’ was built under R version 4.1.2”\n"
     ]
    }
   ],
   "source": [
    "suppressPackageStartupMessages({\n",
    "    library(tidyverse)\n",
    "    library(data.table)\n",
    "    library(Matrix)\n",
    "    library(Seurat)\n",
    "    library(R.utils)\n",
    "})"
   ]
  },
  {
   "cell_type": "code",
   "execution_count": 15,
   "id": "41b39a93-1e06-40de-8d9a-c9bb7171315e",
   "metadata": {},
   "outputs": [],
   "source": [
    "seu_path = '/Sparks2023/GSE206265_covid_flu.CITEseq.Seurat.obj.RDS'\n",
    "seu = readRDS(seu_path)"
   ]
  },
  {
   "cell_type": "code",
   "execution_count": 20,
   "id": "8e92d4c2-7574-486b-b0fe-ff432ad60197",
   "metadata": {},
   "outputs": [
    {
     "name": "stdout",
     "output_type": "stream",
     "text": [
      "Formal class 'Seurat' [package \"SeuratObject\"] with 13 slots\n",
      "  ..@ assays      :List of 4\n",
      "  ..@ meta.data   :'data.frame':\t632100 obs. of  26 variables:\n",
      "  ..@ active.assay: chr \"CITE\"\n",
      "  ..@ active.ident: Factor w/ 32 levels \"Mono_Classical\",..: 1 2 3 1 3 3 1 5 1 3 ...\n",
      "  .. ..- attr(*, \"names\")= chr [1:632100] \"Batch1_COVFLU_CITE_multi5P12_ACTGATGGTTCAGCGC-1\" \"Batch1_COVFLU_CITE_multi5P16_CCCAGTTTCGGCTTGG-1\" \"Batch1_COVFLU_CITE_multi5P09_GCATGCGCAGCCTATA-1\" \"Batch1_COVFLU_CITE_multi5P11_CATCCACAGCTCTCGG-1\" ...\n",
      "  ..@ graphs      : list()\n",
      "  ..@ neighbors   : list()\n",
      "  ..@ reductions  :List of 1\n",
      "  ..@ images      : list()\n",
      "  ..@ project.name: chr \"SeuratProject\"\n",
      "  ..@ misc        : list()\n",
      "  ..@ version     :Classes 'package_version', 'numeric_version'  hidden list of 1\n",
      "  ..@ commands    :List of 5\n",
      "  ..@ tools       : list()\n"
     ]
    }
   ],
   "source": [
    "seu %>% str(2)"
   ]
  },
  {
   "cell_type": "code",
   "execution_count": 22,
   "id": "ddabd965-3696-4c01-9fb8-83a788feff9b",
   "metadata": {},
   "outputs": [
    {
     "data": {
      "text/html": [
       "<style>\n",
       ".list-inline {list-style: none; margin:0; padding: 0}\n",
       ".list-inline>li {display: inline-block}\n",
       ".list-inline>li:not(:last-child)::after {content: \"\\00b7\"; padding: 0 .5ex}\n",
       "</style>\n",
       "<ol class=list-inline><li>'alt.subject.id'</li><li>'visit'</li><li>'covid.diagnosis.start.date.to.sample.drawn'</li><li>'group'</li><li>'sex'</li><li>'age'</li><li>'race'</li><li>'ethnicity'</li><li>'flu.vax.count.10yr'</li><li>'vaccine'</li><li>'vaccine.side.effects'</li><li>'long.covid.symptoms'</li><li>'Batch'</li><li>'nCount_RNA'</li><li>'nCount_HTO'</li><li>'nCount_CITE'</li><li>'nCount_RNA_largest.gene'</li><li>'nCount_SCT'</li><li>'nFeature_RNA'</li><li>'nFeature_HTO'</li><li>'nFeature_CITE'</li><li>'nFeature_SCT'</li><li>'percent.mt'</li><li>'percent.largest.gene'</li><li>'coarse.cell.type'</li><li>'cell.type'</li></ol>\n"
      ],
      "text/latex": [
       "\\begin{enumerate*}\n",
       "\\item 'alt.subject.id'\n",
       "\\item 'visit'\n",
       "\\item 'covid.diagnosis.start.date.to.sample.drawn'\n",
       "\\item 'group'\n",
       "\\item 'sex'\n",
       "\\item 'age'\n",
       "\\item 'race'\n",
       "\\item 'ethnicity'\n",
       "\\item 'flu.vax.count.10yr'\n",
       "\\item 'vaccine'\n",
       "\\item 'vaccine.side.effects'\n",
       "\\item 'long.covid.symptoms'\n",
       "\\item 'Batch'\n",
       "\\item 'nCount\\_RNA'\n",
       "\\item 'nCount\\_HTO'\n",
       "\\item 'nCount\\_CITE'\n",
       "\\item 'nCount\\_RNA\\_largest.gene'\n",
       "\\item 'nCount\\_SCT'\n",
       "\\item 'nFeature\\_RNA'\n",
       "\\item 'nFeature\\_HTO'\n",
       "\\item 'nFeature\\_CITE'\n",
       "\\item 'nFeature\\_SCT'\n",
       "\\item 'percent.mt'\n",
       "\\item 'percent.largest.gene'\n",
       "\\item 'coarse.cell.type'\n",
       "\\item 'cell.type'\n",
       "\\end{enumerate*}\n"
      ],
      "text/markdown": [
       "1. 'alt.subject.id'\n",
       "2. 'visit'\n",
       "3. 'covid.diagnosis.start.date.to.sample.drawn'\n",
       "4. 'group'\n",
       "5. 'sex'\n",
       "6. 'age'\n",
       "7. 'race'\n",
       "8. 'ethnicity'\n",
       "9. 'flu.vax.count.10yr'\n",
       "10. 'vaccine'\n",
       "11. 'vaccine.side.effects'\n",
       "12. 'long.covid.symptoms'\n",
       "13. 'Batch'\n",
       "14. 'nCount_RNA'\n",
       "15. 'nCount_HTO'\n",
       "16. 'nCount_CITE'\n",
       "17. 'nCount_RNA_largest.gene'\n",
       "18. 'nCount_SCT'\n",
       "19. 'nFeature_RNA'\n",
       "20. 'nFeature_HTO'\n",
       "21. 'nFeature_CITE'\n",
       "22. 'nFeature_SCT'\n",
       "23. 'percent.mt'\n",
       "24. 'percent.largest.gene'\n",
       "25. 'coarse.cell.type'\n",
       "26. 'cell.type'\n",
       "\n",
       "\n"
      ],
      "text/plain": [
       " [1] \"alt.subject.id\"                            \n",
       " [2] \"visit\"                                     \n",
       " [3] \"covid.diagnosis.start.date.to.sample.drawn\"\n",
       " [4] \"group\"                                     \n",
       " [5] \"sex\"                                       \n",
       " [6] \"age\"                                       \n",
       " [7] \"race\"                                      \n",
       " [8] \"ethnicity\"                                 \n",
       " [9] \"flu.vax.count.10yr\"                        \n",
       "[10] \"vaccine\"                                   \n",
       "[11] \"vaccine.side.effects\"                      \n",
       "[12] \"long.covid.symptoms\"                       \n",
       "[13] \"Batch\"                                     \n",
       "[14] \"nCount_RNA\"                                \n",
       "[15] \"nCount_HTO\"                                \n",
       "[16] \"nCount_CITE\"                               \n",
       "[17] \"nCount_RNA_largest.gene\"                   \n",
       "[18] \"nCount_SCT\"                                \n",
       "[19] \"nFeature_RNA\"                              \n",
       "[20] \"nFeature_HTO\"                              \n",
       "[21] \"nFeature_CITE\"                             \n",
       "[22] \"nFeature_SCT\"                              \n",
       "[23] \"percent.mt\"                                \n",
       "[24] \"percent.largest.gene\"                      \n",
       "[25] \"coarse.cell.type\"                          \n",
       "[26] \"cell.type\"                                 "
      ]
     },
     "metadata": {},
     "output_type": "display_data"
    }
   ],
   "source": [
    "seu@meta.data %>% colnames"
   ]
  },
  {
   "cell_type": "code",
   "execution_count": 67,
   "id": "ec6dd1d1-abdf-45fb-adbf-acdf4e72f0fa",
   "metadata": {},
   "outputs": [],
   "source": [
    "rna = seu@assays$RNA@counts\n",
    "adt = seu@assays$CITE@counts\n",
    "counts = rbind(rna, adt)"
   ]
  },
  {
   "cell_type": "code",
   "execution_count": 80,
   "id": "4265515b-fa4b-4230-ad80-392600ce9c6d",
   "metadata": {},
   "outputs": [
    {
     "name": "stderr",
     "output_type": "stream",
     "text": [
      "   [[ suppressing 34 column names ‘Batch1_COVFLU_CITE_multi5P09_GCATGCGCAGCCTATA-1’, ‘Batch1_COVFLU_CITE_multi5P02_TTGTAGGCAGTATCTG-1’, ‘Batch1_COVFLU_CITE_multi5P02_GATGCTACAGCTTAAC-1’ ... ]]\n",
      "\n"
     ]
    },
    {
     "data": {
      "text/plain": [
       "6 x 336739 sparse Matrix of class \"dgCMatrix\"\n",
       "                                                                               \n",
       "RP11-34P13.7  . . . . . . . . . . . . . . . . . . . . . . . . . . . . . . . . .\n",
       "AL627309.1    . . . . . . . . . . . . . . . . . . . . . . . . . . . . . . . . .\n",
       "RP11-34P13.14 . . . . . . . . . . . . . . . . . . . . . . . . . . . . . . . . .\n",
       "RP11-34P13.9  . . . . . . . . . . . . . . . . . . . . . . . . . . . . . . . . .\n",
       "AP006222.2    . . . . . . . . . . . . . . . . . . . . . . . . . . . . . . . . .\n",
       "RP4-669L17.10 . . . . . . . . . . . . . . . . . . . . . . . . . . . . . . . . .\n",
       "                      \n",
       "RP11-34P13.7  . ......\n",
       "AL627309.1    . ......\n",
       "RP11-34P13.14 . ......\n",
       "RP11-34P13.9  . ......\n",
       "AP006222.2    . ......\n",
       "RP4-669L17.10 . ......\n",
       "\n",
       " .....suppressing 336705 columns in show(); maybe adjust 'options(max.print= *, width = *)'\n",
       " .............................."
      ]
     },
     "metadata": {},
     "output_type": "display_data"
    }
   ],
   "source": [
    "counts %>% head"
   ]
  },
  {
   "cell_type": "code",
   "execution_count": 89,
   "id": "f55ef106-cb3b-40e5-b65c-80df3951bafe",
   "metadata": {},
   "outputs": [],
   "source": [
    "# Output counts matrix\n",
    "writeMM(counts, \n",
    "        '/Sparks2023/T_fromSeurat_RNA_ADT_HTO/matrix.mtx')\n",
    "gzip('/Sparks2023/T_fromSeurat_RNA_ADT_HTO/matrix.mtx')\n",
    "\n",
    "# Output cell barcodes\n",
    "barcodes <- colnames(counts)\n",
    "write_delim(as.data.frame(barcodes),\n",
    "            '/Sparks2023/T_fromSeurat_RNA_ADT_HTO/barcodes.tsv',\n",
    "           col_names = FALSE)\n",
    "gzip('/Sparks2023/T_fromSeurat_RNA_ADT_HTO/barcodes.tsv')\n",
    "\n",
    "# Output feature names\n",
    "gene_names <- rownames(counts)\n",
    "features <- data.frame(\"gene_id\" = gene_names,\"gene_name\" = gene_names,type = \"Gene Expression\")\n",
    "write_delim(as.data.frame(features),delim = \"\\t\",\n",
    "            '/Sparks2023/T_fromSeurat_RNA_ADT_HTO/features.tsv',\n",
    "           col_names = FALSE)\n",
    "gzip('/Sparks2023/T_fromSeurat_RNA_ADT_HTO/features.tsv')"
   ]
  },
  {
   "cell_type": "code",
   "execution_count": 105,
   "id": "a74ed4f0-6a03-47c0-b2e9-d911c8ca1ba4",
   "metadata": {},
   "outputs": [],
   "source": [
    "# Output cell metadata\n",
    "write.table(x = seu@meta.data, quote = FALSE, row.names = TRUE,\n",
    "            file =  '/Sparks2023/T_fromSeurat_metadata.txt',\n",
    "           sep = '\\t', )"
   ]
  }
 ],
 "metadata": {
  "kernelspec": {
   "display_name": "R",
   "language": "R",
   "name": "ir"
  },
  "language_info": {
   "codemirror_mode": "r",
   "file_extension": ".r",
   "mimetype": "text/x-r-source",
   "name": "R",
   "pygments_lexer": "r",
   "version": "4.1.1"
  }
 },
 "nbformat": 4,
 "nbformat_minor": 5
}
