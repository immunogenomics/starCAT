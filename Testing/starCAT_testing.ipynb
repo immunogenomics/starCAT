{
 "cells": [
  {
   "cell_type": "code",
   "execution_count": 1,
   "id": "31983328-911e-4e5c-9a34-94d3126cb1b1",
   "metadata": {},
   "outputs": [],
   "source": [
    "import pandas as pd\n",
    "import numpy as np\n",
    "from cnmf import cNMF, load_df_from_npz\n",
    "import scanpy as sc\n",
    "import os\n",
    "import scipy.sparse as sp\n",
    "import yaml\n",
    "import requests"
   ]
  },
  {
   "cell_type": "code",
   "execution_count": 2,
   "id": "a6bae038-44f3-4a09-992c-ca1ef2346c5e",
   "metadata": {},
   "outputs": [],
   "source": [
    "test_dir = '/data/srlab1/TCAT/Data/starCAT/Testing/'\n",
    "code_dir = '../../Code/starCAT/'"
   ]
  },
  {
   "cell_type": "code",
   "execution_count": 3,
   "id": "f4c76a64-4c9a-4a05-b7c9-bb16acb17aa5",
   "metadata": {},
   "outputs": [],
   "source": [
    "import sys\n",
    "sys.path.append(code_dir)\n",
    "from starcat import starCAT"
   ]
  },
  {
   "cell_type": "markdown",
   "id": "b1febe46-4c21-45b3-b2de-1c71fc986940",
   "metadata": {
    "tags": []
   },
   "source": [
    "## Test initialization"
   ]
  },
  {
   "cell_type": "code",
   "execution_count": 4,
   "id": "583c4ba3-b1ab-4d49-8176-8632c3f17738",
   "metadata": {},
   "outputs": [
    {
     "name": "stdout",
     "output_type": "stream",
     "text": [
      "Using reference from starCAT database\n",
      "Loading reference from existing cache file for reference TCAT.V1\n"
     ]
    }
   ],
   "source": [
    "cat_obj = starCAT()"
   ]
  },
  {
   "cell_type": "code",
   "execution_count": 5,
   "id": "27146e06-5be0-4d63-be7c-3af70f7db576",
   "metadata": {},
   "outputs": [
    {
     "data": {
      "text/html": [
       "<div>\n",
       "<style scoped>\n",
       "    .dataframe tbody tr th:only-of-type {\n",
       "        vertical-align: middle;\n",
       "    }\n",
       "\n",
       "    .dataframe tbody tr th {\n",
       "        vertical-align: top;\n",
       "    }\n",
       "\n",
       "    .dataframe thead th {\n",
       "        text-align: right;\n",
       "    }\n",
       "</style>\n",
       "<table border=\"1\" class=\"dataframe\">\n",
       "  <thead>\n",
       "    <tr style=\"text-align: right;\">\n",
       "      <th></th>\n",
       "      <th>A1BG</th>\n",
       "      <th>AARD</th>\n",
       "      <th>AARSD1</th>\n",
       "      <th>ABCA1</th>\n",
       "      <th>ABCB1</th>\n",
       "    </tr>\n",
       "  </thead>\n",
       "  <tbody>\n",
       "    <tr>\n",
       "      <th>CellCycle-G2M</th>\n",
       "      <td>2.032614</td>\n",
       "      <td>22.965553</td>\n",
       "      <td>17.423538</td>\n",
       "      <td>3.478179</td>\n",
       "      <td>2.297279</td>\n",
       "    </tr>\n",
       "    <tr>\n",
       "      <th>Translation</th>\n",
       "      <td>35.445282</td>\n",
       "      <td>0.000000</td>\n",
       "      <td>9.245893</td>\n",
       "      <td>0.477994</td>\n",
       "      <td>0.000000</td>\n",
       "    </tr>\n",
       "    <tr>\n",
       "      <th>HLA</th>\n",
       "      <td>18.192997</td>\n",
       "      <td>14.632670</td>\n",
       "      <td>2.686475</td>\n",
       "      <td>3.937182</td>\n",
       "      <td>0.000000</td>\n",
       "    </tr>\n",
       "    <tr>\n",
       "      <th>ISG</th>\n",
       "      <td>0.436212</td>\n",
       "      <td>0.000000</td>\n",
       "      <td>18.078197</td>\n",
       "      <td>17.354506</td>\n",
       "      <td>0.000000</td>\n",
       "    </tr>\n",
       "    <tr>\n",
       "      <th>Mito</th>\n",
       "      <td>10.293049</td>\n",
       "      <td>0.000000</td>\n",
       "      <td>52.669895</td>\n",
       "      <td>14.615502</td>\n",
       "      <td>3.341488</td>\n",
       "    </tr>\n",
       "  </tbody>\n",
       "</table>\n",
       "</div>"
      ],
      "text/plain": [
       "                    A1BG       AARD     AARSD1      ABCA1     ABCB1\n",
       "CellCycle-G2M   2.032614  22.965553  17.423538   3.478179  2.297279\n",
       "Translation    35.445282   0.000000   9.245893   0.477994  0.000000\n",
       "HLA            18.192997  14.632670   2.686475   3.937182  0.000000\n",
       "ISG             0.436212   0.000000  18.078197  17.354506  0.000000\n",
       "Mito           10.293049   0.000000  52.669895  14.615502  3.341488"
      ]
     },
     "execution_count": 5,
     "metadata": {},
     "output_type": "execute_result"
    }
   ],
   "source": [
    "cat_obj.ref.iloc[0:5, 0:5]"
   ]
  },
  {
   "cell_type": "code",
   "execution_count": 12,
   "id": "0e58847f-4b4e-4a6f-bd76-5b40c230cc5b",
   "metadata": {},
   "outputs": [
    {
     "data": {
      "text/plain": [
       "(None,\n",
       " {'scores': {'continuous': [{'name': 'ASA',\n",
       "     'normalization': 'normalized',\n",
       "     'columns': ['TIMD4/TIM3', 'ICOS/CD38', 'CTLA4/CD38', 'OX40/EBI3']},\n",
       "    {'name': 'Proliferation',\n",
       "     'normalization': 'normalized',\n",
       "     'columns': ['CellCycle-G2M', 'CellCycle-S', 'CellCycle-Late-S']}],\n",
       "   'discrete': [{'name': 'ASA_binary',\n",
       "     'normalization': 'normalized',\n",
       "     'columns': ['TIMD4/TIM3', 'ICOS/CD38', 'CTLA4/CD38', 'OX40/EBI3'],\n",
       "     'threshold': 0.0625},\n",
       "    {'name': 'Proliferation_binary',\n",
       "     'normalization': 'normalized',\n",
       "     'columns': ['CellCycle-G2M', 'CellCycle-S', 'CellCycle-Late-S'],\n",
       "     'threshold': 0.1},\n",
       "    {'name': 'Multinomial_Label',\n",
       "     'normalization': 'normalized',\n",
       "     'file': 'multinomial_lineage_classifier.py',\n",
       "     'function': 'compute_lineage'}]}})"
      ]
     },
     "execution_count": 12,
     "metadata": {},
     "output_type": "execute_result"
    }
   ],
   "source": [
    "cat_obj.scores, cat_obj.score_data"
   ]
  },
  {
   "cell_type": "code",
   "execution_count": 6,
   "id": "e668a0b6-6aff-4fc2-b219-2365bdc193cc",
   "metadata": {},
   "outputs": [
    {
     "data": {
      "text/plain": [
       "('TCAT.V1', './cache/TCAT.V1/TCAT.V1.scores.yaml')"
      ]
     },
     "execution_count": 6,
     "metadata": {},
     "output_type": "execute_result"
    }
   ],
   "source": [
    "cat_obj.ref_name, cat_obj.score_path"
   ]
  },
  {
   "cell_type": "code",
   "execution_count": 7,
   "id": "d61cada0-bf22-4a08-bd4a-e156e1e414df",
   "metadata": {},
   "outputs": [
    {
     "name": "stdout",
     "output_type": "stream",
     "text": [
      "Using user specified reference spectra file ./cache/TCAT.V1/TCAT.V1.reference.tsv\n",
      "No scores provided\n"
     ]
    }
   ],
   "source": [
    "cat_obj = starCAT(reference = './cache/TCAT.V1/TCAT.V1.reference.tsv')\n"
   ]
  },
  {
   "cell_type": "code",
   "execution_count": 8,
   "id": "27659ed8-f38d-4d5f-ad86-53b4054cbaed",
   "metadata": {},
   "outputs": [
    {
     "data": {
      "text/html": [
       "<div>\n",
       "<style scoped>\n",
       "    .dataframe tbody tr th:only-of-type {\n",
       "        vertical-align: middle;\n",
       "    }\n",
       "\n",
       "    .dataframe tbody tr th {\n",
       "        vertical-align: top;\n",
       "    }\n",
       "\n",
       "    .dataframe thead th {\n",
       "        text-align: right;\n",
       "    }\n",
       "</style>\n",
       "<table border=\"1\" class=\"dataframe\">\n",
       "  <thead>\n",
       "    <tr style=\"text-align: right;\">\n",
       "      <th></th>\n",
       "      <th>A1BG</th>\n",
       "      <th>AARD</th>\n",
       "      <th>AARSD1</th>\n",
       "      <th>ABCA1</th>\n",
       "      <th>ABCB1</th>\n",
       "    </tr>\n",
       "  </thead>\n",
       "  <tbody>\n",
       "    <tr>\n",
       "      <th>CellCycle-G2M</th>\n",
       "      <td>2.032614</td>\n",
       "      <td>22.965553</td>\n",
       "      <td>17.423538</td>\n",
       "      <td>3.478179</td>\n",
       "      <td>2.297279</td>\n",
       "    </tr>\n",
       "    <tr>\n",
       "      <th>Translation</th>\n",
       "      <td>35.445282</td>\n",
       "      <td>0.000000</td>\n",
       "      <td>9.245893</td>\n",
       "      <td>0.477994</td>\n",
       "      <td>0.000000</td>\n",
       "    </tr>\n",
       "    <tr>\n",
       "      <th>HLA</th>\n",
       "      <td>18.192997</td>\n",
       "      <td>14.632670</td>\n",
       "      <td>2.686475</td>\n",
       "      <td>3.937182</td>\n",
       "      <td>0.000000</td>\n",
       "    </tr>\n",
       "    <tr>\n",
       "      <th>ISG</th>\n",
       "      <td>0.436212</td>\n",
       "      <td>0.000000</td>\n",
       "      <td>18.078197</td>\n",
       "      <td>17.354506</td>\n",
       "      <td>0.000000</td>\n",
       "    </tr>\n",
       "    <tr>\n",
       "      <th>Mito</th>\n",
       "      <td>10.293049</td>\n",
       "      <td>0.000000</td>\n",
       "      <td>52.669895</td>\n",
       "      <td>14.615502</td>\n",
       "      <td>3.341488</td>\n",
       "    </tr>\n",
       "  </tbody>\n",
       "</table>\n",
       "</div>"
      ],
      "text/plain": [
       "                    A1BG       AARD     AARSD1      ABCA1     ABCB1\n",
       "CellCycle-G2M   2.032614  22.965553  17.423538   3.478179  2.297279\n",
       "Translation    35.445282   0.000000   9.245893   0.477994  0.000000\n",
       "HLA            18.192997  14.632670   2.686475   3.937182  0.000000\n",
       "ISG             0.436212   0.000000  18.078197  17.354506  0.000000\n",
       "Mito           10.293049   0.000000  52.669895  14.615502  3.341488"
      ]
     },
     "execution_count": 8,
     "metadata": {},
     "output_type": "execute_result"
    }
   ],
   "source": [
    "cat_obj.ref.iloc[0:5, 0:5]"
   ]
  },
  {
   "cell_type": "code",
   "execution_count": 10,
   "id": "8447fc79-f3d2-4cc4-b6b8-a7534a539366",
   "metadata": {},
   "outputs": [
    {
     "data": {
      "text/plain": [
       "(None, {})"
      ]
     },
     "execution_count": 10,
     "metadata": {},
     "output_type": "execute_result"
    }
   ],
   "source": [
    "cat_obj.scores, cat_obj.score_data"
   ]
  },
  {
   "cell_type": "code",
   "execution_count": 13,
   "id": "56942df9-76f9-4bcd-b2d3-efd203f9154b",
   "metadata": {},
   "outputs": [
    {
     "name": "stdout",
     "output_type": "stream",
     "text": [
      "Using reference from starCAT database\n"
     ]
    },
    {
     "ename": "Exception",
     "evalue": "other is not found in list of pre-built reference names. It is also not a valid path to a reference file which would need to end in .tsv or .txt. Please provide a valid file path or a reference string from among the following [TCAT.V1]",
     "output_type": "error",
     "traceback": [
      "\u001b[0;31m---------------------------------------------------------------------------\u001b[0m",
      "\u001b[0;31mException\u001b[0m                                 Traceback (most recent call last)",
      "\u001b[0;32m/tmp/ipykernel_65015/2157748571.py\u001b[0m in \u001b[0;36m<module>\u001b[0;34m\u001b[0m\n\u001b[1;32m      1\u001b[0m \u001b[0mreference\u001b[0m \u001b[0;34m=\u001b[0m \u001b[0;34m'other'\u001b[0m\u001b[0;34m\u001b[0m\u001b[0;34m\u001b[0m\u001b[0m\n\u001b[0;32m----> 2\u001b[0;31m \u001b[0mcat_obj\u001b[0m \u001b[0;34m=\u001b[0m \u001b[0mstarCAT\u001b[0m\u001b[0;34m(\u001b[0m\u001b[0mreference\u001b[0m \u001b[0;34m=\u001b[0m \u001b[0mreference\u001b[0m\u001b[0;34m)\u001b[0m\u001b[0;34m\u001b[0m\u001b[0;34m\u001b[0m\u001b[0m\n\u001b[0m",
      "\u001b[0;32m/data/srlab1/mcurtis/TCAT/Code/starCAT/starcat.py\u001b[0m in \u001b[0;36m__init__\u001b[0;34m(self, reference, score_path, cachedir)\u001b[0m\n\u001b[1;32m     77\u001b[0m             \u001b[0;31m# Download cache if necessary and load references and scores from cache\u001b[0m\u001b[0;34m\u001b[0m\u001b[0;34m\u001b[0m\u001b[0;34m\u001b[0m\u001b[0m\n\u001b[1;32m     78\u001b[0m             \u001b[0mprint\u001b[0m\u001b[0;34m(\u001b[0m\u001b[0;34m\"Using reference from starCAT database\"\u001b[0m\u001b[0;34m)\u001b[0m\u001b[0;34m\u001b[0m\u001b[0;34m\u001b[0m\u001b[0m\n\u001b[0;32m---> 79\u001b[0;31m             \u001b[0mself\u001b[0m\u001b[0;34m.\u001b[0m\u001b[0mref\u001b[0m\u001b[0;34m,\u001b[0m \u001b[0mself\u001b[0m\u001b[0;34m.\u001b[0m\u001b[0mscore_data\u001b[0m\u001b[0;34m,\u001b[0m \u001b[0mself\u001b[0m\u001b[0;34m.\u001b[0m\u001b[0mscore_path\u001b[0m \u001b[0;34m=\u001b[0m \u001b[0mself\u001b[0m\u001b[0;34m.\u001b[0m\u001b[0m_initialize_ref\u001b[0m\u001b[0;34m(\u001b[0m\u001b[0;34m)\u001b[0m\u001b[0;34m\u001b[0m\u001b[0;34m\u001b[0m\u001b[0m\n\u001b[0m\u001b[1;32m     80\u001b[0m \u001b[0;34m\u001b[0m\u001b[0m\n\u001b[1;32m     81\u001b[0m         \u001b[0;31m#Filter genes with NaN in them from reference\u001b[0m\u001b[0;34m\u001b[0m\u001b[0;34m\u001b[0m\u001b[0;34m\u001b[0m\u001b[0m\n",
      "\u001b[0;32m/data/srlab1/mcurtis/TCAT/Code/starCAT/starcat.py\u001b[0m in \u001b[0;36m_initialize_ref\u001b[0;34m(self)\u001b[0m\n\u001b[1;32m    107\u001b[0m                 \u001b[0;34m\"need to end in .tsv or .txt. Please provide a valid file path \"\u001b[0m\u001b[0;34m\u001b[0m\u001b[0;34m\u001b[0m\u001b[0m\n\u001b[1;32m    108\u001b[0m                 \"or a reference string from among the following [{posrefs}]\".format(ref=self.ref_name,\n\u001b[0;32m--> 109\u001b[0;31m                                                                                     posrefs=refliststr)\n\u001b[0m\u001b[1;32m    110\u001b[0m             )\n\u001b[1;32m    111\u001b[0m \u001b[0;34m\u001b[0m\u001b[0m\n",
      "\u001b[0;31mException\u001b[0m: other is not found in list of pre-built reference names. It is also not a valid path to a reference file which would need to end in .tsv or .txt. Please provide a valid file path or a reference string from among the following [TCAT.V1]"
     ]
    }
   ],
   "source": [
    "reference = 'other'\n",
    "cat_obj = starCAT(reference = reference)"
   ]
  },
  {
   "cell_type": "markdown",
   "id": "5f178047-45c0-44d1-a05c-783d36f38579",
   "metadata": {},
   "source": [
    "## Test ```load_counts```"
   ]
  },
  {
   "cell_type": "code",
   "execution_count": 5,
   "id": "c814a059-cb10-470d-9103-8910a6b9e412",
   "metadata": {},
   "outputs": [
    {
     "name": "stdout",
     "output_type": "stream",
     "text": [
      "WARNING: Your filename has more than two extensions: ['.merged', '.T', '.raw', '.ADTfixedADT_70', '.20221022FiltForcNMF', '.h5ad'].\n",
      "Only considering the two last: ['.20221022FiltForcNMF', '.h5ad'].\n",
      "WARNING: Your filename has more than two extensions: ['.merged', '.T', '.raw', '.ADTfixedADT_70', '.20221022FiltForcNMF', '.h5ad'].\n",
      "Only considering the two last: ['.20221022FiltForcNMF', '.h5ad'].\n"
     ]
    }
   ],
   "source": [
    "counts_fn = '/data/srlab1/TCAT/Data/PerDataset/HaoEtAl/haoetal_pbmc_multimodal.merged.T.raw.ADTfixedADT_70.20221022FiltForcNMF.h5ad'\n",
    "adata = cat_obj.load_counts(counts_fn)"
   ]
  },
  {
   "cell_type": "code",
   "execution_count": 15,
   "id": "2d1432bf-0477-4cf9-a260-43682cc746fb",
   "metadata": {},
   "outputs": [
    {
     "data": {
      "text/plain": [
       "'/data/srlab1/TCAT/Data/starCAT/Testing/'"
      ]
     },
     "execution_count": 15,
     "metadata": {},
     "output_type": "execute_result"
    }
   ],
   "source": [
    "test_dir"
   ]
  },
  {
   "cell_type": "code",
   "execution_count": 16,
   "id": "1be573de-6520-4de4-87f3-8d0720793d89",
   "metadata": {},
   "outputs": [],
   "source": [
    "X = pd.DataFrame(adata.X.todense(), index = adata.obs.index, columns = adata.var.index)\n",
    "X_filt = X.head(5000)"
   ]
  },
  {
   "cell_type": "code",
   "execution_count": 21,
   "id": "965b2f1c-ea95-41bc-a2fe-125c80c4cba3",
   "metadata": {
    "collapsed": true,
    "jupyter": {
     "outputs_hidden": true
    },
    "tags": []
   },
   "outputs": [
    {
     "data": {
      "text/html": [
       "<div>\n",
       "<style scoped>\n",
       "    .dataframe tbody tr th:only-of-type {\n",
       "        vertical-align: middle;\n",
       "    }\n",
       "\n",
       "    .dataframe tbody tr th {\n",
       "        vertical-align: top;\n",
       "    }\n",
       "\n",
       "    .dataframe thead th {\n",
       "        text-align: right;\n",
       "    }\n",
       "</style>\n",
       "<table border=\"1\" class=\"dataframe\">\n",
       "  <thead>\n",
       "    <tr style=\"text-align: right;\">\n",
       "      <th>Name_ADT_Fixed</th>\n",
       "      <th>AL627309.1</th>\n",
       "      <th>AL669831.5</th>\n",
       "      <th>LINC00115</th>\n",
       "      <th>FAM41C</th>\n",
       "      <th>NOC2L</th>\n",
       "      <th>KLHL17</th>\n",
       "      <th>PLEKHN1</th>\n",
       "      <th>AL645608.8</th>\n",
       "      <th>HES4</th>\n",
       "      <th>ISG15</th>\n",
       "      <th>...</th>\n",
       "      <th>AB_CD169</th>\n",
       "      <th>AB_CD28</th>\n",
       "      <th>AB_CD161</th>\n",
       "      <th>AB_CD163</th>\n",
       "      <th>AB_CD138-1</th>\n",
       "      <th>AB_CD164</th>\n",
       "      <th>AB_CD138-2</th>\n",
       "      <th>AB_CD144</th>\n",
       "      <th>AB_CD202b</th>\n",
       "      <th>AB_CD11c</th>\n",
       "    </tr>\n",
       "  </thead>\n",
       "  <tbody>\n",
       "    <tr>\n",
       "      <th>L1_AAACCCAAGACATACA</th>\n",
       "      <td>0.0</td>\n",
       "      <td>0.0</td>\n",
       "      <td>0.0</td>\n",
       "      <td>0.0</td>\n",
       "      <td>0.0</td>\n",
       "      <td>0.0</td>\n",
       "      <td>0.0</td>\n",
       "      <td>0.0</td>\n",
       "      <td>0.0</td>\n",
       "      <td>0.0</td>\n",
       "      <td>...</td>\n",
       "      <td>4.0</td>\n",
       "      <td>61.0</td>\n",
       "      <td>12.0</td>\n",
       "      <td>8.0</td>\n",
       "      <td>4.0</td>\n",
       "      <td>1.0</td>\n",
       "      <td>3.0</td>\n",
       "      <td>7.0</td>\n",
       "      <td>10.0</td>\n",
       "      <td>22.0</td>\n",
       "    </tr>\n",
       "    <tr>\n",
       "      <th>L1_AAACCCACAACTGGTT</th>\n",
       "      <td>0.0</td>\n",
       "      <td>0.0</td>\n",
       "      <td>0.0</td>\n",
       "      <td>0.0</td>\n",
       "      <td>0.0</td>\n",
       "      <td>0.0</td>\n",
       "      <td>0.0</td>\n",
       "      <td>0.0</td>\n",
       "      <td>0.0</td>\n",
       "      <td>0.0</td>\n",
       "      <td>...</td>\n",
       "      <td>5.0</td>\n",
       "      <td>37.0</td>\n",
       "      <td>0.0</td>\n",
       "      <td>6.0</td>\n",
       "      <td>5.0</td>\n",
       "      <td>1.0</td>\n",
       "      <td>13.0</td>\n",
       "      <td>7.0</td>\n",
       "      <td>8.0</td>\n",
       "      <td>13.0</td>\n",
       "    </tr>\n",
       "    <tr>\n",
       "      <th>L1_AAACCCACAGCATACT</th>\n",
       "      <td>0.0</td>\n",
       "      <td>0.0</td>\n",
       "      <td>0.0</td>\n",
       "      <td>1.0</td>\n",
       "      <td>0.0</td>\n",
       "      <td>0.0</td>\n",
       "      <td>0.0</td>\n",
       "      <td>0.0</td>\n",
       "      <td>0.0</td>\n",
       "      <td>0.0</td>\n",
       "      <td>...</td>\n",
       "      <td>4.0</td>\n",
       "      <td>46.0</td>\n",
       "      <td>0.0</td>\n",
       "      <td>1.0</td>\n",
       "      <td>4.0</td>\n",
       "      <td>1.0</td>\n",
       "      <td>12.0</td>\n",
       "      <td>5.0</td>\n",
       "      <td>13.0</td>\n",
       "      <td>12.0</td>\n",
       "    </tr>\n",
       "    <tr>\n",
       "      <th>L1_AAACCCACATCAGTCA</th>\n",
       "      <td>0.0</td>\n",
       "      <td>0.0</td>\n",
       "      <td>0.0</td>\n",
       "      <td>0.0</td>\n",
       "      <td>0.0</td>\n",
       "      <td>0.0</td>\n",
       "      <td>0.0</td>\n",
       "      <td>0.0</td>\n",
       "      <td>0.0</td>\n",
       "      <td>0.0</td>\n",
       "      <td>...</td>\n",
       "      <td>6.0</td>\n",
       "      <td>67.0</td>\n",
       "      <td>2.0</td>\n",
       "      <td>6.0</td>\n",
       "      <td>6.0</td>\n",
       "      <td>2.0</td>\n",
       "      <td>7.0</td>\n",
       "      <td>7.0</td>\n",
       "      <td>16.0</td>\n",
       "      <td>8.0</td>\n",
       "    </tr>\n",
       "    <tr>\n",
       "      <th>L1_AAACCCATCCACACCT</th>\n",
       "      <td>0.0</td>\n",
       "      <td>0.0</td>\n",
       "      <td>0.0</td>\n",
       "      <td>0.0</td>\n",
       "      <td>0.0</td>\n",
       "      <td>0.0</td>\n",
       "      <td>0.0</td>\n",
       "      <td>0.0</td>\n",
       "      <td>0.0</td>\n",
       "      <td>0.0</td>\n",
       "      <td>...</td>\n",
       "      <td>8.0</td>\n",
       "      <td>37.0</td>\n",
       "      <td>1.0</td>\n",
       "      <td>7.0</td>\n",
       "      <td>4.0</td>\n",
       "      <td>2.0</td>\n",
       "      <td>11.0</td>\n",
       "      <td>8.0</td>\n",
       "      <td>13.0</td>\n",
       "      <td>12.0</td>\n",
       "    </tr>\n",
       "    <tr>\n",
       "      <th>...</th>\n",
       "      <td>...</td>\n",
       "      <td>...</td>\n",
       "      <td>...</td>\n",
       "      <td>...</td>\n",
       "      <td>...</td>\n",
       "      <td>...</td>\n",
       "      <td>...</td>\n",
       "      <td>...</td>\n",
       "      <td>...</td>\n",
       "      <td>...</td>\n",
       "      <td>...</td>\n",
       "      <td>...</td>\n",
       "      <td>...</td>\n",
       "      <td>...</td>\n",
       "      <td>...</td>\n",
       "      <td>...</td>\n",
       "      <td>...</td>\n",
       "      <td>...</td>\n",
       "      <td>...</td>\n",
       "      <td>...</td>\n",
       "      <td>...</td>\n",
       "    </tr>\n",
       "    <tr>\n",
       "      <th>L1_GTAGGTTAGTGGGAAA</th>\n",
       "      <td>0.0</td>\n",
       "      <td>0.0</td>\n",
       "      <td>0.0</td>\n",
       "      <td>0.0</td>\n",
       "      <td>0.0</td>\n",
       "      <td>0.0</td>\n",
       "      <td>0.0</td>\n",
       "      <td>0.0</td>\n",
       "      <td>0.0</td>\n",
       "      <td>0.0</td>\n",
       "      <td>...</td>\n",
       "      <td>2.0</td>\n",
       "      <td>56.0</td>\n",
       "      <td>1.0</td>\n",
       "      <td>4.0</td>\n",
       "      <td>6.0</td>\n",
       "      <td>3.0</td>\n",
       "      <td>9.0</td>\n",
       "      <td>7.0</td>\n",
       "      <td>7.0</td>\n",
       "      <td>11.0</td>\n",
       "    </tr>\n",
       "    <tr>\n",
       "      <th>L1_GTAGGTTCAATGAGCG</th>\n",
       "      <td>0.0</td>\n",
       "      <td>0.0</td>\n",
       "      <td>1.0</td>\n",
       "      <td>0.0</td>\n",
       "      <td>0.0</td>\n",
       "      <td>0.0</td>\n",
       "      <td>0.0</td>\n",
       "      <td>0.0</td>\n",
       "      <td>0.0</td>\n",
       "      <td>0.0</td>\n",
       "      <td>...</td>\n",
       "      <td>4.0</td>\n",
       "      <td>39.0</td>\n",
       "      <td>1.0</td>\n",
       "      <td>6.0</td>\n",
       "      <td>6.0</td>\n",
       "      <td>0.0</td>\n",
       "      <td>15.0</td>\n",
       "      <td>7.0</td>\n",
       "      <td>7.0</td>\n",
       "      <td>16.0</td>\n",
       "    </tr>\n",
       "    <tr>\n",
       "      <th>L1_GTAGGTTGTAGGAGGG</th>\n",
       "      <td>0.0</td>\n",
       "      <td>0.0</td>\n",
       "      <td>0.0</td>\n",
       "      <td>0.0</td>\n",
       "      <td>0.0</td>\n",
       "      <td>0.0</td>\n",
       "      <td>0.0</td>\n",
       "      <td>0.0</td>\n",
       "      <td>0.0</td>\n",
       "      <td>0.0</td>\n",
       "      <td>...</td>\n",
       "      <td>3.0</td>\n",
       "      <td>45.0</td>\n",
       "      <td>0.0</td>\n",
       "      <td>1.0</td>\n",
       "      <td>5.0</td>\n",
       "      <td>1.0</td>\n",
       "      <td>5.0</td>\n",
       "      <td>7.0</td>\n",
       "      <td>5.0</td>\n",
       "      <td>17.0</td>\n",
       "    </tr>\n",
       "    <tr>\n",
       "      <th>L1_GTAGGTTGTTTACACG</th>\n",
       "      <td>0.0</td>\n",
       "      <td>0.0</td>\n",
       "      <td>0.0</td>\n",
       "      <td>0.0</td>\n",
       "      <td>0.0</td>\n",
       "      <td>0.0</td>\n",
       "      <td>0.0</td>\n",
       "      <td>0.0</td>\n",
       "      <td>0.0</td>\n",
       "      <td>0.0</td>\n",
       "      <td>...</td>\n",
       "      <td>4.0</td>\n",
       "      <td>63.0</td>\n",
       "      <td>3.0</td>\n",
       "      <td>7.0</td>\n",
       "      <td>1.0</td>\n",
       "      <td>3.0</td>\n",
       "      <td>17.0</td>\n",
       "      <td>7.0</td>\n",
       "      <td>14.0</td>\n",
       "      <td>19.0</td>\n",
       "    </tr>\n",
       "    <tr>\n",
       "      <th>L1_GTAGGTTTCTCAATCT</th>\n",
       "      <td>0.0</td>\n",
       "      <td>0.0</td>\n",
       "      <td>0.0</td>\n",
       "      <td>0.0</td>\n",
       "      <td>0.0</td>\n",
       "      <td>0.0</td>\n",
       "      <td>0.0</td>\n",
       "      <td>0.0</td>\n",
       "      <td>0.0</td>\n",
       "      <td>1.0</td>\n",
       "      <td>...</td>\n",
       "      <td>0.0</td>\n",
       "      <td>44.0</td>\n",
       "      <td>3.0</td>\n",
       "      <td>4.0</td>\n",
       "      <td>5.0</td>\n",
       "      <td>4.0</td>\n",
       "      <td>7.0</td>\n",
       "      <td>7.0</td>\n",
       "      <td>9.0</td>\n",
       "      <td>13.0</td>\n",
       "    </tr>\n",
       "  </tbody>\n",
       "</table>\n",
       "<p>5000 rows × 20957 columns</p>\n",
       "</div>"
      ],
      "text/plain": [
       "Name_ADT_Fixed       AL627309.1  AL669831.5  LINC00115  FAM41C  NOC2L  KLHL17  \\\n",
       "L1_AAACCCAAGACATACA         0.0         0.0        0.0     0.0    0.0     0.0   \n",
       "L1_AAACCCACAACTGGTT         0.0         0.0        0.0     0.0    0.0     0.0   \n",
       "L1_AAACCCACAGCATACT         0.0         0.0        0.0     1.0    0.0     0.0   \n",
       "L1_AAACCCACATCAGTCA         0.0         0.0        0.0     0.0    0.0     0.0   \n",
       "L1_AAACCCATCCACACCT         0.0         0.0        0.0     0.0    0.0     0.0   \n",
       "...                         ...         ...        ...     ...    ...     ...   \n",
       "L1_GTAGGTTAGTGGGAAA         0.0         0.0        0.0     0.0    0.0     0.0   \n",
       "L1_GTAGGTTCAATGAGCG         0.0         0.0        1.0     0.0    0.0     0.0   \n",
       "L1_GTAGGTTGTAGGAGGG         0.0         0.0        0.0     0.0    0.0     0.0   \n",
       "L1_GTAGGTTGTTTACACG         0.0         0.0        0.0     0.0    0.0     0.0   \n",
       "L1_GTAGGTTTCTCAATCT         0.0         0.0        0.0     0.0    0.0     0.0   \n",
       "\n",
       "Name_ADT_Fixed       PLEKHN1  AL645608.8  HES4  ISG15  ...  AB_CD169  AB_CD28  \\\n",
       "L1_AAACCCAAGACATACA      0.0         0.0   0.0    0.0  ...       4.0     61.0   \n",
       "L1_AAACCCACAACTGGTT      0.0         0.0   0.0    0.0  ...       5.0     37.0   \n",
       "L1_AAACCCACAGCATACT      0.0         0.0   0.0    0.0  ...       4.0     46.0   \n",
       "L1_AAACCCACATCAGTCA      0.0         0.0   0.0    0.0  ...       6.0     67.0   \n",
       "L1_AAACCCATCCACACCT      0.0         0.0   0.0    0.0  ...       8.0     37.0   \n",
       "...                      ...         ...   ...    ...  ...       ...      ...   \n",
       "L1_GTAGGTTAGTGGGAAA      0.0         0.0   0.0    0.0  ...       2.0     56.0   \n",
       "L1_GTAGGTTCAATGAGCG      0.0         0.0   0.0    0.0  ...       4.0     39.0   \n",
       "L1_GTAGGTTGTAGGAGGG      0.0         0.0   0.0    0.0  ...       3.0     45.0   \n",
       "L1_GTAGGTTGTTTACACG      0.0         0.0   0.0    0.0  ...       4.0     63.0   \n",
       "L1_GTAGGTTTCTCAATCT      0.0         0.0   0.0    1.0  ...       0.0     44.0   \n",
       "\n",
       "Name_ADT_Fixed       AB_CD161  AB_CD163  AB_CD138-1  AB_CD164  AB_CD138-2  \\\n",
       "L1_AAACCCAAGACATACA      12.0       8.0         4.0       1.0         3.0   \n",
       "L1_AAACCCACAACTGGTT       0.0       6.0         5.0       1.0        13.0   \n",
       "L1_AAACCCACAGCATACT       0.0       1.0         4.0       1.0        12.0   \n",
       "L1_AAACCCACATCAGTCA       2.0       6.0         6.0       2.0         7.0   \n",
       "L1_AAACCCATCCACACCT       1.0       7.0         4.0       2.0        11.0   \n",
       "...                       ...       ...         ...       ...         ...   \n",
       "L1_GTAGGTTAGTGGGAAA       1.0       4.0         6.0       3.0         9.0   \n",
       "L1_GTAGGTTCAATGAGCG       1.0       6.0         6.0       0.0        15.0   \n",
       "L1_GTAGGTTGTAGGAGGG       0.0       1.0         5.0       1.0         5.0   \n",
       "L1_GTAGGTTGTTTACACG       3.0       7.0         1.0       3.0        17.0   \n",
       "L1_GTAGGTTTCTCAATCT       3.0       4.0         5.0       4.0         7.0   \n",
       "\n",
       "Name_ADT_Fixed       AB_CD144  AB_CD202b  AB_CD11c  \n",
       "L1_AAACCCAAGACATACA       7.0       10.0      22.0  \n",
       "L1_AAACCCACAACTGGTT       7.0        8.0      13.0  \n",
       "L1_AAACCCACAGCATACT       5.0       13.0      12.0  \n",
       "L1_AAACCCACATCAGTCA       7.0       16.0       8.0  \n",
       "L1_AAACCCATCCACACCT       8.0       13.0      12.0  \n",
       "...                       ...        ...       ...  \n",
       "L1_GTAGGTTAGTGGGAAA       7.0        7.0      11.0  \n",
       "L1_GTAGGTTCAATGAGCG       7.0        7.0      16.0  \n",
       "L1_GTAGGTTGTAGGAGGG       7.0        5.0      17.0  \n",
       "L1_GTAGGTTGTTTACACG       7.0       14.0      19.0  \n",
       "L1_GTAGGTTTCTCAATCT       7.0        9.0      13.0  \n",
       "\n",
       "[5000 rows x 20957 columns]"
      ]
     },
     "execution_count": 21,
     "metadata": {},
     "output_type": "execute_result"
    }
   ],
   "source": [
    "X_filt"
   ]
  },
  {
   "cell_type": "code",
   "execution_count": 16,
   "id": "aaa2344b-3208-49aa-8653-1f01ce3b4dcb",
   "metadata": {},
   "outputs": [],
   "source": [
    "fname = 'haoetal_pbmc_multimodal.merged.T.raw.ADTfixedADT_70.20221022FiltForcNMF'"
   ]
  },
  {
   "cell_type": "code",
   "execution_count": 22,
   "id": "47d44c3e-6bab-42f0-ad7f-471d5bb34b14",
   "metadata": {},
   "outputs": [],
   "source": [
    "# X_filt.to_csv(os.path.join(test_dir, '%s.txt' % fname), sep = '\\t')\n",
    "# save_df_to_npz(X_filt, os.path.join(test_dir, '%s.npz' % fname))"
   ]
  },
  {
   "cell_type": "code",
   "execution_count": null,
   "id": "e0c442f0-8f37-453d-8505-0243b3fa41eb",
   "metadata": {},
   "outputs": [],
   "source": [
    "counts_fn = os.path.join(test_dir, '%s.txt' % fname)\n",
    "adata = cat_obj.load_counts(counts_fn)"
   ]
  },
  {
   "cell_type": "code",
   "execution_count": 21,
   "id": "fc5957e1-950f-4595-96c2-9ddce45d7aee",
   "metadata": {},
   "outputs": [
    {
     "data": {
      "text/plain": [
       "(AnnData object with n_obs × n_vars = 5000 × 20957,\n",
       " <5000x20957 sparse matrix of type '<class 'numpy.float32'>'\n",
       " \twith 8102998 stored elements in Compressed Sparse Row format>)"
      ]
     },
     "execution_count": 21,
     "metadata": {},
     "output_type": "execute_result"
    }
   ],
   "source": [
    "adata, adata.X"
   ]
  },
  {
   "cell_type": "code",
   "execution_count": 22,
   "id": "bf1f06c4-998b-4419-b481-2b0f13b27e5a",
   "metadata": {},
   "outputs": [
    {
     "data": {
      "text/html": [
       "<div>\n",
       "<style scoped>\n",
       "    .dataframe tbody tr th:only-of-type {\n",
       "        vertical-align: middle;\n",
       "    }\n",
       "\n",
       "    .dataframe tbody tr th {\n",
       "        vertical-align: top;\n",
       "    }\n",
       "\n",
       "    .dataframe thead th {\n",
       "        text-align: right;\n",
       "    }\n",
       "</style>\n",
       "<table border=\"1\" class=\"dataframe\">\n",
       "  <thead>\n",
       "    <tr style=\"text-align: right;\">\n",
       "      <th></th>\n",
       "    </tr>\n",
       "  </thead>\n",
       "  <tbody>\n",
       "    <tr>\n",
       "      <th>L1_AAACCCAAGACATACA</th>\n",
       "    </tr>\n",
       "    <tr>\n",
       "      <th>L1_AAACCCACAACTGGTT</th>\n",
       "    </tr>\n",
       "  </tbody>\n",
       "</table>\n",
       "</div>"
      ],
      "text/plain": [
       "Empty DataFrame\n",
       "Columns: []\n",
       "Index: [L1_AAACCCAAGACATACA, L1_AAACCCACAACTGGTT]"
      ]
     },
     "metadata": {},
     "output_type": "display_data"
    },
    {
     "data": {
      "text/html": [
       "<div>\n",
       "<style scoped>\n",
       "    .dataframe tbody tr th:only-of-type {\n",
       "        vertical-align: middle;\n",
       "    }\n",
       "\n",
       "    .dataframe tbody tr th {\n",
       "        vertical-align: top;\n",
       "    }\n",
       "\n",
       "    .dataframe thead th {\n",
       "        text-align: right;\n",
       "    }\n",
       "</style>\n",
       "<table border=\"1\" class=\"dataframe\">\n",
       "  <thead>\n",
       "    <tr style=\"text-align: right;\">\n",
       "      <th></th>\n",
       "    </tr>\n",
       "  </thead>\n",
       "  <tbody>\n",
       "    <tr>\n",
       "      <th>AL627309.1</th>\n",
       "    </tr>\n",
       "    <tr>\n",
       "      <th>AL669831.5</th>\n",
       "    </tr>\n",
       "  </tbody>\n",
       "</table>\n",
       "</div>"
      ],
      "text/plain": [
       "Empty DataFrame\n",
       "Columns: []\n",
       "Index: [AL627309.1, AL669831.5]"
      ]
     },
     "metadata": {},
     "output_type": "display_data"
    },
    {
     "data": {
      "text/plain": [
       "(None, None)"
      ]
     },
     "execution_count": 22,
     "metadata": {},
     "output_type": "execute_result"
    }
   ],
   "source": [
    "display(adata.obs.head(2)), display(adata.var.head(2))"
   ]
  },
  {
   "cell_type": "code",
   "execution_count": 14,
   "id": "cc2df489-19c9-47bc-bc8e-f3a3987416ae",
   "metadata": {},
   "outputs": [],
   "source": [
    "# sc.read_10x_mtx only supports direct cellranger outputs (i.e. compressed)\n",
    "# Load from sample 10X matrix \n",
    "counts_fn = os.path.join(test_dir, '500_PBMC_3p_LT_Chromium_Controller/raw_feature_bc_matrix/matrix.mtx.gz')\n",
    "adata = cat_obj.load_counts(counts_fn)"
   ]
  },
  {
   "cell_type": "code",
   "execution_count": 15,
   "id": "e7eb0642-c219-4706-b2b7-b077d7648b02",
   "metadata": {},
   "outputs": [
    {
     "data": {
      "text/plain": [
       "(AnnData object with n_obs × n_vars = 13785 × 36601\n",
       "     var: 'gene_ids', 'feature_types',\n",
       " <13785x36601 sparse matrix of type '<class 'numpy.float32'>'\n",
       " \twith 2826293 stored elements in Compressed Sparse Row format>)"
      ]
     },
     "execution_count": 15,
     "metadata": {},
     "output_type": "execute_result"
    }
   ],
   "source": [
    "adata, adata.X"
   ]
  },
  {
   "cell_type": "code",
   "execution_count": 12,
   "id": "814b4a5a-9e9e-40a2-89ba-30d499d9bb74",
   "metadata": {},
   "outputs": [
    {
     "data": {
      "text/html": [
       "<div>\n",
       "<style scoped>\n",
       "    .dataframe tbody tr th:only-of-type {\n",
       "        vertical-align: middle;\n",
       "    }\n",
       "\n",
       "    .dataframe tbody tr th {\n",
       "        vertical-align: top;\n",
       "    }\n",
       "\n",
       "    .dataframe thead th {\n",
       "        text-align: right;\n",
       "    }\n",
       "</style>\n",
       "<table border=\"1\" class=\"dataframe\">\n",
       "  <thead>\n",
       "    <tr style=\"text-align: right;\">\n",
       "      <th></th>\n",
       "    </tr>\n",
       "  </thead>\n",
       "  <tbody>\n",
       "    <tr>\n",
       "      <th>AATCACGAGAAATTGC-1</th>\n",
       "    </tr>\n",
       "    <tr>\n",
       "      <th>AATCACGAGAAGAAAC-1</th>\n",
       "    </tr>\n",
       "  </tbody>\n",
       "</table>\n",
       "</div>"
      ],
      "text/plain": [
       "Empty DataFrame\n",
       "Columns: []\n",
       "Index: [AATCACGAGAAATTGC-1, AATCACGAGAAGAAAC-1]"
      ]
     },
     "metadata": {},
     "output_type": "display_data"
    },
    {
     "data": {
      "text/html": [
       "<div>\n",
       "<style scoped>\n",
       "    .dataframe tbody tr th:only-of-type {\n",
       "        vertical-align: middle;\n",
       "    }\n",
       "\n",
       "    .dataframe tbody tr th {\n",
       "        vertical-align: top;\n",
       "    }\n",
       "\n",
       "    .dataframe thead th {\n",
       "        text-align: right;\n",
       "    }\n",
       "</style>\n",
       "<table border=\"1\" class=\"dataframe\">\n",
       "  <thead>\n",
       "    <tr style=\"text-align: right;\">\n",
       "      <th></th>\n",
       "      <th>gene_ids</th>\n",
       "      <th>feature_types</th>\n",
       "    </tr>\n",
       "  </thead>\n",
       "  <tbody>\n",
       "    <tr>\n",
       "      <th>MIR1302-2HG</th>\n",
       "      <td>ENSG00000243485</td>\n",
       "      <td>Gene Expression</td>\n",
       "    </tr>\n",
       "    <tr>\n",
       "      <th>FAM138A</th>\n",
       "      <td>ENSG00000237613</td>\n",
       "      <td>Gene Expression</td>\n",
       "    </tr>\n",
       "  </tbody>\n",
       "</table>\n",
       "</div>"
      ],
      "text/plain": [
       "                    gene_ids    feature_types\n",
       "MIR1302-2HG  ENSG00000243485  Gene Expression\n",
       "FAM138A      ENSG00000237613  Gene Expression"
      ]
     },
     "metadata": {},
     "output_type": "display_data"
    },
    {
     "data": {
      "text/plain": [
       "(None, None)"
      ]
     },
     "execution_count": 12,
     "metadata": {},
     "output_type": "execute_result"
    }
   ],
   "source": [
    "display(adata.obs.head(2)), display(adata.var.head(2))"
   ]
  },
  {
   "cell_type": "markdown",
   "id": "5959397b-07c4-44ab-8a32-6ed9ad861709",
   "metadata": {},
   "source": [
    "## Test ```fit_transform```"
   ]
  },
  {
   "cell_type": "code",
   "execution_count": 17,
   "id": "ea657e7d-0249-49b4-9b07-dd446d3fddae",
   "metadata": {},
   "outputs": [
    {
     "name": "stdout",
     "output_type": "stream",
     "text": [
      "WARNING: Your filename has more than two extensions: ['.merged', '.T', '.raw', '.ADTfixedADT_70', '.20221022FiltForcNMF', '.h5ad'].\n",
      "Only considering the two last: ['.20221022FiltForcNMF', '.h5ad'].\n",
      "WARNING: Your filename has more than two extensions: ['.merged', '.T', '.raw', '.ADTfixedADT_70', '.20221022FiltForcNMF', '.h5ad'].\n",
      "Only considering the two last: ['.20221022FiltForcNMF', '.h5ad'].\n"
     ]
    }
   ],
   "source": [
    "counts_fn = '/data/srlab1/TCAT/Data/PerDataset/HaoEtAl/haoetal_pbmc_multimodal.merged.T.raw.ADTfixedADT_70.20221022FiltForcNMF.h5ad'\n",
    "adata = cat_obj.load_counts(counts_fn)"
   ]
  },
  {
   "cell_type": "code",
   "execution_count": 18,
   "id": "1436385a-e23f-4aeb-9337-10fce6896f80",
   "metadata": {},
   "outputs": [
    {
     "name": "stdout",
     "output_type": "stream",
     "text": [
      "3412 out of 3412 genes in the reference overlap with the query\n"
     ]
    },
    {
     "name": "stderr",
     "output_type": "stream",
     "text": [
      "/PHShome/mc1070/anaconda3/envs/cnmf_env2v2/lib/python3.7/site-packages/scanpy/preprocessing/_simple.py:843: UserWarning: Received a view of an AnnData. Making a copy.\n",
      "  view_to_actual(adata)\n"
     ]
    }
   ],
   "source": [
    "usage, scores = cat_obj.fit_transform(adata)"
   ]
  },
  {
   "cell_type": "code",
   "execution_count": 20,
   "id": "0e9a8eab-b7e9-4e01-94ec-82c2d7791a25",
   "metadata": {},
   "outputs": [
    {
     "data": {
      "text/html": [
       "<div>\n",
       "<style scoped>\n",
       "    .dataframe tbody tr th:only-of-type {\n",
       "        vertical-align: middle;\n",
       "    }\n",
       "\n",
       "    .dataframe tbody tr th {\n",
       "        vertical-align: top;\n",
       "    }\n",
       "\n",
       "    .dataframe thead th {\n",
       "        text-align: right;\n",
       "    }\n",
       "</style>\n",
       "<table border=\"1\" class=\"dataframe\">\n",
       "  <thead>\n",
       "    <tr style=\"text-align: right;\">\n",
       "      <th></th>\n",
       "      <th>CellCycle-G2M</th>\n",
       "      <th>Translation</th>\n",
       "      <th>HLA</th>\n",
       "      <th>ISG</th>\n",
       "      <th>Mito</th>\n",
       "      <th>Doublet-RBC</th>\n",
       "      <th>gdT</th>\n",
       "      <th>CellCycle-S</th>\n",
       "      <th>Cytotoxic</th>\n",
       "      <th>Doublet-Platelet</th>\n",
       "      <th>...</th>\n",
       "      <th>Tfh-2</th>\n",
       "      <th>OX40/EBI3</th>\n",
       "      <th>CD172a/MERTK</th>\n",
       "      <th>IEG3</th>\n",
       "      <th>Doublet-Fibroblast</th>\n",
       "      <th>SOX4/TOX2</th>\n",
       "      <th>CD40LG/TXNIP</th>\n",
       "      <th>Tph</th>\n",
       "      <th>Exhaustion</th>\n",
       "      <th>Tfh-1</th>\n",
       "    </tr>\n",
       "  </thead>\n",
       "  <tbody>\n",
       "    <tr>\n",
       "      <th>L1_AAACCCAAGACATACA</th>\n",
       "      <td>0.001557</td>\n",
       "      <td>0.171755</td>\n",
       "      <td>0.002625</td>\n",
       "      <td>0.001945</td>\n",
       "      <td>0.005562</td>\n",
       "      <td>0.001173</td>\n",
       "      <td>0.003777</td>\n",
       "      <td>0.005649</td>\n",
       "      <td>0.003786</td>\n",
       "      <td>0.002121</td>\n",
       "      <td>...</td>\n",
       "      <td>0.010761</td>\n",
       "      <td>0.001597</td>\n",
       "      <td>0.090117</td>\n",
       "      <td>0.030178</td>\n",
       "      <td>0.002268</td>\n",
       "      <td>0.007337</td>\n",
       "      <td>0.072857</td>\n",
       "      <td>0.001429</td>\n",
       "      <td>0.002088</td>\n",
       "      <td>0.008598</td>\n",
       "    </tr>\n",
       "    <tr>\n",
       "      <th>L1_AAACCCACAACTGGTT</th>\n",
       "      <td>0.000774</td>\n",
       "      <td>0.214818</td>\n",
       "      <td>0.005179</td>\n",
       "      <td>0.003329</td>\n",
       "      <td>0.031739</td>\n",
       "      <td>0.001086</td>\n",
       "      <td>0.004772</td>\n",
       "      <td>0.006168</td>\n",
       "      <td>0.007771</td>\n",
       "      <td>0.005516</td>\n",
       "      <td>...</td>\n",
       "      <td>0.004503</td>\n",
       "      <td>0.001213</td>\n",
       "      <td>0.125031</td>\n",
       "      <td>0.022496</td>\n",
       "      <td>0.008215</td>\n",
       "      <td>0.009476</td>\n",
       "      <td>0.007855</td>\n",
       "      <td>0.000929</td>\n",
       "      <td>0.001617</td>\n",
       "      <td>0.002818</td>\n",
       "    </tr>\n",
       "  </tbody>\n",
       "</table>\n",
       "<p>2 rows × 52 columns</p>\n",
       "</div>"
      ],
      "text/plain": [
       "                     CellCycle-G2M  Translation       HLA       ISG      Mito  \\\n",
       "L1_AAACCCAAGACATACA       0.001557     0.171755  0.002625  0.001945  0.005562   \n",
       "L1_AAACCCACAACTGGTT       0.000774     0.214818  0.005179  0.003329  0.031739   \n",
       "\n",
       "                     Doublet-RBC       gdT  CellCycle-S  Cytotoxic  \\\n",
       "L1_AAACCCAAGACATACA     0.001173  0.003777     0.005649   0.003786   \n",
       "L1_AAACCCACAACTGGTT     0.001086  0.004772     0.006168   0.007771   \n",
       "\n",
       "                     Doublet-Platelet  ...     Tfh-2  OX40/EBI3  CD172a/MERTK  \\\n",
       "L1_AAACCCAAGACATACA          0.002121  ...  0.010761   0.001597      0.090117   \n",
       "L1_AAACCCACAACTGGTT          0.005516  ...  0.004503   0.001213      0.125031   \n",
       "\n",
       "                         IEG3  Doublet-Fibroblast  SOX4/TOX2  CD40LG/TXNIP  \\\n",
       "L1_AAACCCAAGACATACA  0.030178            0.002268   0.007337      0.072857   \n",
       "L1_AAACCCACAACTGGTT  0.022496            0.008215   0.009476      0.007855   \n",
       "\n",
       "                          Tph  Exhaustion     Tfh-1  \n",
       "L1_AAACCCAAGACATACA  0.001429    0.002088  0.008598  \n",
       "L1_AAACCCACAACTGGTT  0.000929    0.001617  0.002818  \n",
       "\n",
       "[2 rows x 52 columns]"
      ]
     },
     "execution_count": 20,
     "metadata": {},
     "output_type": "execute_result"
    }
   ],
   "source": [
    "usage.head(2)"
   ]
  },
  {
   "cell_type": "code",
   "execution_count": 22,
   "id": "a58fe238-6f70-4763-b6a3-c0096f7d4ffd",
   "metadata": {},
   "outputs": [
    {
     "data": {
      "text/html": [
       "<div>\n",
       "<style scoped>\n",
       "    .dataframe tbody tr th:only-of-type {\n",
       "        vertical-align: middle;\n",
       "    }\n",
       "\n",
       "    .dataframe tbody tr th {\n",
       "        vertical-align: top;\n",
       "    }\n",
       "\n",
       "    .dataframe thead th {\n",
       "        text-align: right;\n",
       "    }\n",
       "</style>\n",
       "<table border=\"1\" class=\"dataframe\">\n",
       "  <thead>\n",
       "    <tr style=\"text-align: right;\">\n",
       "      <th></th>\n",
       "      <th>ASA</th>\n",
       "      <th>Proliferation</th>\n",
       "      <th>ASA_binary</th>\n",
       "      <th>Proliferation_binary</th>\n",
       "      <th>Multinomial_Label</th>\n",
       "    </tr>\n",
       "  </thead>\n",
       "  <tbody>\n",
       "    <tr>\n",
       "      <th>L1_AAACCCAAGACATACA</th>\n",
       "      <td>0.024724</td>\n",
       "      <td>0.009160</td>\n",
       "      <td>False</td>\n",
       "      <td>False</td>\n",
       "      <td>CD4_CM</td>\n",
       "    </tr>\n",
       "    <tr>\n",
       "      <th>L1_AAACCCACAACTGGTT</th>\n",
       "      <td>0.028785</td>\n",
       "      <td>0.007687</td>\n",
       "      <td>False</td>\n",
       "      <td>False</td>\n",
       "      <td>CD8_Naive</td>\n",
       "    </tr>\n",
       "  </tbody>\n",
       "</table>\n",
       "</div>"
      ],
      "text/plain": [
       "                          ASA  Proliferation  ASA_binary  \\\n",
       "L1_AAACCCAAGACATACA  0.024724       0.009160       False   \n",
       "L1_AAACCCACAACTGGTT  0.028785       0.007687       False   \n",
       "\n",
       "                     Proliferation_binary Multinomial_Label  \n",
       "L1_AAACCCAAGACATACA                 False            CD4_CM  \n",
       "L1_AAACCCACAACTGGTT                 False         CD8_Naive  "
      ]
     },
     "execution_count": 22,
     "metadata": {},
     "output_type": "execute_result"
    }
   ],
   "source": [
    "scores.head(2)"
   ]
  },
  {
   "cell_type": "code",
   "execution_count": 23,
   "id": "e58b6685-8e03-40e1-9b06-4246b015e36f",
   "metadata": {},
   "outputs": [],
   "source": [
    "adata.X = adata.X.todense()"
   ]
  },
  {
   "cell_type": "code",
   "execution_count": 11,
   "id": "c6d01d6a-12cf-492f-9d93-f1b5a23f06a9",
   "metadata": {},
   "outputs": [
    {
     "name": "stdout",
     "output_type": "stream",
     "text": [
      "3412 out of 3412 genes in the reference overlap with the query\n"
     ]
    },
    {
     "name": "stderr",
     "output_type": "stream",
     "text": [
      "/PHShome/mc1070/anaconda3/envs/cnmf_env2v2/lib/python3.7/site-packages/scanpy/preprocessing/_simple.py:843: UserWarning: Received a view of an AnnData. Making a copy.\n",
      "  view_to_actual(adata)\n"
     ]
    }
   ],
   "source": [
    "usage, scores = cat_obj.fit_transform(adata)"
   ]
  },
  {
   "cell_type": "code",
   "execution_count": 25,
   "id": "c540a83f-9fd5-475c-b884-9855df194b8c",
   "metadata": {},
   "outputs": [
    {
     "data": {
      "text/html": [
       "<div>\n",
       "<style scoped>\n",
       "    .dataframe tbody tr th:only-of-type {\n",
       "        vertical-align: middle;\n",
       "    }\n",
       "\n",
       "    .dataframe tbody tr th {\n",
       "        vertical-align: top;\n",
       "    }\n",
       "\n",
       "    .dataframe thead th {\n",
       "        text-align: right;\n",
       "    }\n",
       "</style>\n",
       "<table border=\"1\" class=\"dataframe\">\n",
       "  <thead>\n",
       "    <tr style=\"text-align: right;\">\n",
       "      <th></th>\n",
       "      <th>CellCycle-G2M</th>\n",
       "      <th>Translation</th>\n",
       "      <th>HLA</th>\n",
       "      <th>ISG</th>\n",
       "      <th>Mito</th>\n",
       "      <th>Doublet-RBC</th>\n",
       "      <th>gdT</th>\n",
       "      <th>CellCycle-S</th>\n",
       "      <th>Cytotoxic</th>\n",
       "      <th>Doublet-Platelet</th>\n",
       "      <th>...</th>\n",
       "      <th>Tfh-2</th>\n",
       "      <th>OX40/EBI3</th>\n",
       "      <th>CD172a/MERTK</th>\n",
       "      <th>IEG3</th>\n",
       "      <th>Doublet-Fibroblast</th>\n",
       "      <th>SOX4/TOX2</th>\n",
       "      <th>CD40LG/TXNIP</th>\n",
       "      <th>Tph</th>\n",
       "      <th>Exhaustion</th>\n",
       "      <th>Tfh-1</th>\n",
       "    </tr>\n",
       "  </thead>\n",
       "  <tbody>\n",
       "    <tr>\n",
       "      <th>L1_AAACCCAAGACATACA</th>\n",
       "      <td>0.001557</td>\n",
       "      <td>0.171756</td>\n",
       "      <td>0.002625</td>\n",
       "      <td>0.001945</td>\n",
       "      <td>0.005562</td>\n",
       "      <td>0.001173</td>\n",
       "      <td>0.003777</td>\n",
       "      <td>0.005649</td>\n",
       "      <td>0.003786</td>\n",
       "      <td>0.002121</td>\n",
       "      <td>...</td>\n",
       "      <td>0.010761</td>\n",
       "      <td>0.001597</td>\n",
       "      <td>0.090116</td>\n",
       "      <td>0.030178</td>\n",
       "      <td>0.002268</td>\n",
       "      <td>0.007337</td>\n",
       "      <td>0.072858</td>\n",
       "      <td>0.001429</td>\n",
       "      <td>0.002088</td>\n",
       "      <td>0.008598</td>\n",
       "    </tr>\n",
       "    <tr>\n",
       "      <th>L1_AAACCCACAACTGGTT</th>\n",
       "      <td>0.000774</td>\n",
       "      <td>0.214819</td>\n",
       "      <td>0.005179</td>\n",
       "      <td>0.003329</td>\n",
       "      <td>0.031739</td>\n",
       "      <td>0.001086</td>\n",
       "      <td>0.004772</td>\n",
       "      <td>0.006168</td>\n",
       "      <td>0.007772</td>\n",
       "      <td>0.005516</td>\n",
       "      <td>...</td>\n",
       "      <td>0.004503</td>\n",
       "      <td>0.001213</td>\n",
       "      <td>0.125030</td>\n",
       "      <td>0.022496</td>\n",
       "      <td>0.008215</td>\n",
       "      <td>0.009476</td>\n",
       "      <td>0.007855</td>\n",
       "      <td>0.000929</td>\n",
       "      <td>0.001617</td>\n",
       "      <td>0.002818</td>\n",
       "    </tr>\n",
       "  </tbody>\n",
       "</table>\n",
       "<p>2 rows × 52 columns</p>\n",
       "</div>"
      ],
      "text/plain": [
       "                     CellCycle-G2M  Translation       HLA       ISG      Mito  \\\n",
       "L1_AAACCCAAGACATACA       0.001557     0.171756  0.002625  0.001945  0.005562   \n",
       "L1_AAACCCACAACTGGTT       0.000774     0.214819  0.005179  0.003329  0.031739   \n",
       "\n",
       "                     Doublet-RBC       gdT  CellCycle-S  Cytotoxic  \\\n",
       "L1_AAACCCAAGACATACA     0.001173  0.003777     0.005649   0.003786   \n",
       "L1_AAACCCACAACTGGTT     0.001086  0.004772     0.006168   0.007772   \n",
       "\n",
       "                     Doublet-Platelet  ...     Tfh-2  OX40/EBI3  CD172a/MERTK  \\\n",
       "L1_AAACCCAAGACATACA          0.002121  ...  0.010761   0.001597      0.090116   \n",
       "L1_AAACCCACAACTGGTT          0.005516  ...  0.004503   0.001213      0.125030   \n",
       "\n",
       "                         IEG3  Doublet-Fibroblast  SOX4/TOX2  CD40LG/TXNIP  \\\n",
       "L1_AAACCCAAGACATACA  0.030178            0.002268   0.007337      0.072858   \n",
       "L1_AAACCCACAACTGGTT  0.022496            0.008215   0.009476      0.007855   \n",
       "\n",
       "                          Tph  Exhaustion     Tfh-1  \n",
       "L1_AAACCCAAGACATACA  0.001429    0.002088  0.008598  \n",
       "L1_AAACCCACAACTGGTT  0.000929    0.001617  0.002818  \n",
       "\n",
       "[2 rows x 52 columns]"
      ]
     },
     "execution_count": 25,
     "metadata": {},
     "output_type": "execute_result"
    }
   ],
   "source": [
    "usage.head(2)"
   ]
  },
  {
   "cell_type": "code",
   "execution_count": 26,
   "id": "11c1d2f0-ed59-4fc0-b1fa-159c23cb1802",
   "metadata": {},
   "outputs": [
    {
     "data": {
      "text/html": [
       "<div>\n",
       "<style scoped>\n",
       "    .dataframe tbody tr th:only-of-type {\n",
       "        vertical-align: middle;\n",
       "    }\n",
       "\n",
       "    .dataframe tbody tr th {\n",
       "        vertical-align: top;\n",
       "    }\n",
       "\n",
       "    .dataframe thead th {\n",
       "        text-align: right;\n",
       "    }\n",
       "</style>\n",
       "<table border=\"1\" class=\"dataframe\">\n",
       "  <thead>\n",
       "    <tr style=\"text-align: right;\">\n",
       "      <th></th>\n",
       "      <th>ASA</th>\n",
       "      <th>Proliferation</th>\n",
       "      <th>ASA_binary</th>\n",
       "      <th>Proliferation_binary</th>\n",
       "      <th>Multinomial_Label</th>\n",
       "    </tr>\n",
       "  </thead>\n",
       "  <tbody>\n",
       "    <tr>\n",
       "      <th>L1_AAACCCAAGACATACA</th>\n",
       "      <td>0.024724</td>\n",
       "      <td>0.009160</td>\n",
       "      <td>False</td>\n",
       "      <td>False</td>\n",
       "      <td>CD4_CM</td>\n",
       "    </tr>\n",
       "    <tr>\n",
       "      <th>L1_AAACCCACAACTGGTT</th>\n",
       "      <td>0.028785</td>\n",
       "      <td>0.007687</td>\n",
       "      <td>False</td>\n",
       "      <td>False</td>\n",
       "      <td>CD8_Naive</td>\n",
       "    </tr>\n",
       "  </tbody>\n",
       "</table>\n",
       "</div>"
      ],
      "text/plain": [
       "                          ASA  Proliferation  ASA_binary  \\\n",
       "L1_AAACCCAAGACATACA  0.024724       0.009160       False   \n",
       "L1_AAACCCACAACTGGTT  0.028785       0.007687       False   \n",
       "\n",
       "                     Proliferation_binary Multinomial_Label  \n",
       "L1_AAACCCAAGACATACA                 False            CD4_CM  \n",
       "L1_AAACCCACAACTGGTT                 False         CD8_Naive  "
      ]
     },
     "execution_count": 26,
     "metadata": {},
     "output_type": "execute_result"
    }
   ],
   "source": [
    "scores.head(2)"
   ]
  },
  {
   "cell_type": "code",
   "execution_count": 28,
   "id": "9be39c84-93a0-4a85-8fc3-a27791ce9db6",
   "metadata": {},
   "outputs": [
    {
     "data": {
      "text/plain": [
       "CD4_Naive    19703\n",
       "CD4_CM       11039\n",
       "CD8_Naive    10080\n",
       "CD4_EM       10052\n",
       "CD8_EM        6611\n",
       "CD8_TEMRA     5526\n",
       "CD8_CM        3727\n",
       "MAIT          3042\n",
       "Treg          1976\n",
       "gdT           1503\n",
       "Name: Multinomial_Label, dtype: int64"
      ]
     },
     "execution_count": 28,
     "metadata": {},
     "output_type": "execute_result"
    }
   ],
   "source": [
    "scores['Multinomial_Label'].value_counts()"
   ]
  },
  {
   "cell_type": "code",
   "execution_count": 29,
   "id": "f8f7a9ec-fa33-44fe-980c-c72adae98ed3",
   "metadata": {},
   "outputs": [
    {
     "name": "stdout",
     "output_type": "stream",
     "text": [
      "Using user specified reference spectra file ./cache/TCAT.V1/TCAT.V1.reference.tsv\n",
      "No scores provided\n"
     ]
    }
   ],
   "source": [
    "cat_obj_noscore = starCAT(reference = './cache/TCAT.V1/TCAT.V1.reference.tsv')"
   ]
  },
  {
   "cell_type": "code",
   "execution_count": 35,
   "id": "d8251997-a123-4c8a-815a-8cae054c6da7",
   "metadata": {},
   "outputs": [
    {
     "name": "stdout",
     "output_type": "stream",
     "text": [
      "3412 out of 3412 genes in the reference overlap with the query\n"
     ]
    },
    {
     "name": "stderr",
     "output_type": "stream",
     "text": [
      "/PHShome/mc1070/anaconda3/envs/cnmf_env2v2/lib/python3.7/site-packages/scanpy/preprocessing/_simple.py:843: UserWarning: Received a view of an AnnData. Making a copy.\n",
      "  view_to_actual(adata)\n"
     ]
    }
   ],
   "source": [
    "usage, scores = cat_obj_noscore.fit_transform(adata)"
   ]
  },
  {
   "cell_type": "code",
   "execution_count": 36,
   "id": "d30e0e70-e5aa-47d9-b7ae-c5335947abe3",
   "metadata": {},
   "outputs": [
    {
     "data": {
      "text/html": [
       "<div>\n",
       "<style scoped>\n",
       "    .dataframe tbody tr th:only-of-type {\n",
       "        vertical-align: middle;\n",
       "    }\n",
       "\n",
       "    .dataframe tbody tr th {\n",
       "        vertical-align: top;\n",
       "    }\n",
       "\n",
       "    .dataframe thead th {\n",
       "        text-align: right;\n",
       "    }\n",
       "</style>\n",
       "<table border=\"1\" class=\"dataframe\">\n",
       "  <thead>\n",
       "    <tr style=\"text-align: right;\">\n",
       "      <th></th>\n",
       "      <th>CellCycle-G2M</th>\n",
       "      <th>Translation</th>\n",
       "      <th>HLA</th>\n",
       "      <th>ISG</th>\n",
       "      <th>Mito</th>\n",
       "      <th>Doublet-RBC</th>\n",
       "      <th>gdT</th>\n",
       "      <th>CellCycle-S</th>\n",
       "      <th>Cytotoxic</th>\n",
       "      <th>Doublet-Platelet</th>\n",
       "      <th>...</th>\n",
       "      <th>Tfh-2</th>\n",
       "      <th>OX40/EBI3</th>\n",
       "      <th>CD172a/MERTK</th>\n",
       "      <th>IEG3</th>\n",
       "      <th>Doublet-Fibroblast</th>\n",
       "      <th>SOX4/TOX2</th>\n",
       "      <th>CD40LG/TXNIP</th>\n",
       "      <th>Tph</th>\n",
       "      <th>Exhaustion</th>\n",
       "      <th>Tfh-1</th>\n",
       "    </tr>\n",
       "  </thead>\n",
       "  <tbody>\n",
       "    <tr>\n",
       "      <th>L1_AAACCCAAGACATACA</th>\n",
       "      <td>0.001557</td>\n",
       "      <td>0.171756</td>\n",
       "      <td>0.002625</td>\n",
       "      <td>0.001945</td>\n",
       "      <td>0.005562</td>\n",
       "      <td>0.001173</td>\n",
       "      <td>0.003777</td>\n",
       "      <td>0.005649</td>\n",
       "      <td>0.003786</td>\n",
       "      <td>0.002121</td>\n",
       "      <td>...</td>\n",
       "      <td>0.010761</td>\n",
       "      <td>0.001597</td>\n",
       "      <td>0.090116</td>\n",
       "      <td>0.030178</td>\n",
       "      <td>0.002268</td>\n",
       "      <td>0.007337</td>\n",
       "      <td>0.072858</td>\n",
       "      <td>0.001429</td>\n",
       "      <td>0.002088</td>\n",
       "      <td>0.008598</td>\n",
       "    </tr>\n",
       "    <tr>\n",
       "      <th>L1_AAACCCACAACTGGTT</th>\n",
       "      <td>0.000774</td>\n",
       "      <td>0.214819</td>\n",
       "      <td>0.005179</td>\n",
       "      <td>0.003329</td>\n",
       "      <td>0.031739</td>\n",
       "      <td>0.001086</td>\n",
       "      <td>0.004772</td>\n",
       "      <td>0.006168</td>\n",
       "      <td>0.007772</td>\n",
       "      <td>0.005516</td>\n",
       "      <td>...</td>\n",
       "      <td>0.004503</td>\n",
       "      <td>0.001213</td>\n",
       "      <td>0.125030</td>\n",
       "      <td>0.022496</td>\n",
       "      <td>0.008215</td>\n",
       "      <td>0.009476</td>\n",
       "      <td>0.007855</td>\n",
       "      <td>0.000929</td>\n",
       "      <td>0.001617</td>\n",
       "      <td>0.002818</td>\n",
       "    </tr>\n",
       "  </tbody>\n",
       "</table>\n",
       "<p>2 rows × 52 columns</p>\n",
       "</div>"
      ],
      "text/plain": [
       "                     CellCycle-G2M  Translation       HLA       ISG      Mito  \\\n",
       "L1_AAACCCAAGACATACA       0.001557     0.171756  0.002625  0.001945  0.005562   \n",
       "L1_AAACCCACAACTGGTT       0.000774     0.214819  0.005179  0.003329  0.031739   \n",
       "\n",
       "                     Doublet-RBC       gdT  CellCycle-S  Cytotoxic  \\\n",
       "L1_AAACCCAAGACATACA     0.001173  0.003777     0.005649   0.003786   \n",
       "L1_AAACCCACAACTGGTT     0.001086  0.004772     0.006168   0.007772   \n",
       "\n",
       "                     Doublet-Platelet  ...     Tfh-2  OX40/EBI3  CD172a/MERTK  \\\n",
       "L1_AAACCCAAGACATACA          0.002121  ...  0.010761   0.001597      0.090116   \n",
       "L1_AAACCCACAACTGGTT          0.005516  ...  0.004503   0.001213      0.125030   \n",
       "\n",
       "                         IEG3  Doublet-Fibroblast  SOX4/TOX2  CD40LG/TXNIP  \\\n",
       "L1_AAACCCAAGACATACA  0.030178            0.002268   0.007337      0.072858   \n",
       "L1_AAACCCACAACTGGTT  0.022496            0.008215   0.009476      0.007855   \n",
       "\n",
       "                          Tph  Exhaustion     Tfh-1  \n",
       "L1_AAACCCAAGACATACA  0.001429    0.002088  0.008598  \n",
       "L1_AAACCCACAACTGGTT  0.000929    0.001617  0.002818  \n",
       "\n",
       "[2 rows x 52 columns]"
      ]
     },
     "execution_count": 36,
     "metadata": {},
     "output_type": "execute_result"
    }
   ],
   "source": [
    "usage.head(2)"
   ]
  },
  {
   "cell_type": "code",
   "execution_count": 37,
   "id": "1bffa7d3-1c4c-48ae-9688-0bee68ac2564",
   "metadata": {},
   "outputs": [],
   "source": [
    "scores"
   ]
  },
  {
   "cell_type": "code",
   "execution_count": 38,
   "id": "02aa0012-f5cb-4f75-bcc3-59a3eb9c3382",
   "metadata": {},
   "outputs": [],
   "source": [
    "cat_obj_noscore.score_path"
   ]
  },
  {
   "cell_type": "markdown",
   "id": "23bdf3d1-8c03-46e6-a8f8-8317fd112ff7",
   "metadata": {},
   "source": [
    "## Test ```save_usage```"
   ]
  },
  {
   "cell_type": "code",
   "execution_count": 12,
   "id": "07f2dcbb-24a5-47a1-aefa-d6f678d7d809",
   "metadata": {},
   "outputs": [
    {
     "data": {
      "text/plain": [
       "'/data/srlab1/TCAT/Data/starCAT/Testing/'"
      ]
     },
     "execution_count": 12,
     "metadata": {},
     "output_type": "execute_result"
    }
   ],
   "source": [
    "test_dir"
   ]
  },
  {
   "cell_type": "code",
   "execution_count": 13,
   "id": "e714309a-8ed6-4061-a74e-48a662e11dda",
   "metadata": {},
   "outputs": [],
   "source": [
    "fname = 'haoetal_pbmc_multimodal.merged.T.raw.ADTfixedADT_70.20221022FiltForcNMF'"
   ]
  },
  {
   "cell_type": "code",
   "execution_count": 14,
   "id": "44a0c510-2fe3-4a0f-949b-0dc8abdaef9f",
   "metadata": {},
   "outputs": [
    {
     "data": {
      "text/plain": [
       "'starCAT_haoetal_pbmc_multimodal.merged.T.raw.ADTfixedADT_70.20221022FiltForcNMF'"
      ]
     },
     "execution_count": 14,
     "metadata": {},
     "output_type": "execute_result"
    }
   ],
   "source": [
    "name = 'starCAT_%s' % fname\n",
    "name"
   ]
  },
  {
   "cell_type": "code",
   "execution_count": 15,
   "id": "8ac7517b-5e2d-427e-8066-ba600df99cfa",
   "metadata": {},
   "outputs": [
    {
     "data": {
      "text/plain": [
       "'/data/srlab1/TCAT/Data/starCAT/Testing/'"
      ]
     },
     "execution_count": 15,
     "metadata": {},
     "output_type": "execute_result"
    }
   ],
   "source": [
    "output_dir = test_dir\n",
    "output_dir"
   ]
  },
  {
   "cell_type": "code",
   "execution_count": null,
   "id": "d86db4f4-7486-47c2-9e1f-18b9e4565a6e",
   "metadata": {
    "tags": []
   },
   "outputs": [
    {
     "data": {
      "text/html": [
       "<div>\n",
       "<style scoped>\n",
       "    .dataframe tbody tr th:only-of-type {\n",
       "        vertical-align: middle;\n",
       "    }\n",
       "\n",
       "    .dataframe tbody tr th {\n",
       "        vertical-align: top;\n",
       "    }\n",
       "\n",
       "    .dataframe thead th {\n",
       "        text-align: right;\n",
       "    }\n",
       "</style>\n",
       "<table border=\"1\" class=\"dataframe\">\n",
       "  <thead>\n",
       "    <tr style=\"text-align: right;\">\n",
       "      <th></th>\n",
       "      <th>CellCycle-G2M</th>\n",
       "      <th>Translation</th>\n",
       "      <th>HLA</th>\n",
       "      <th>ISG</th>\n",
       "      <th>Mito</th>\n",
       "      <th>Doublet-RBC</th>\n",
       "      <th>gdT</th>\n",
       "      <th>CellCycle-S</th>\n",
       "      <th>Cytotoxic</th>\n",
       "      <th>Doublet-Platelet</th>\n",
       "      <th>...</th>\n",
       "      <th>Tfh-2</th>\n",
       "      <th>OX40/EBI3</th>\n",
       "      <th>CD172a/MERTK</th>\n",
       "      <th>IEG3</th>\n",
       "      <th>Doublet-Fibroblast</th>\n",
       "      <th>SOX4/TOX2</th>\n",
       "      <th>CD40LG/TXNIP</th>\n",
       "      <th>Tph</th>\n",
       "      <th>Exhaustion</th>\n",
       "      <th>Tfh-1</th>\n",
       "    </tr>\n",
       "  </thead>\n",
       "  <tbody>\n",
       "    <tr>\n",
       "      <th>L1_AAACCCAAGACATACA</th>\n",
       "      <td>0.000015</td>\n",
       "      <td>0.001637</td>\n",
       "      <td>0.000025</td>\n",
       "      <td>0.000019</td>\n",
       "      <td>0.000053</td>\n",
       "      <td>0.000011</td>\n",
       "      <td>0.000036</td>\n",
       "      <td>0.000054</td>\n",
       "      <td>0.000036</td>\n",
       "      <td>0.000020</td>\n",
       "      <td>...</td>\n",
       "      <td>0.000103</td>\n",
       "      <td>0.000015</td>\n",
       "      <td>0.000859</td>\n",
       "      <td>0.000288</td>\n",
       "      <td>0.000022</td>\n",
       "      <td>0.000070</td>\n",
       "      <td>0.000695</td>\n",
       "      <td>0.000014</td>\n",
       "      <td>0.000020</td>\n",
       "      <td>0.000082</td>\n",
       "    </tr>\n",
       "    <tr>\n",
       "      <th>L1_AAACCCACAACTGGTT</th>\n",
       "      <td>0.000006</td>\n",
       "      <td>0.001617</td>\n",
       "      <td>0.000039</td>\n",
       "      <td>0.000025</td>\n",
       "      <td>0.000239</td>\n",
       "      <td>0.000008</td>\n",
       "      <td>0.000036</td>\n",
       "      <td>0.000046</td>\n",
       "      <td>0.000058</td>\n",
       "      <td>0.000042</td>\n",
       "      <td>...</td>\n",
       "      <td>0.000034</td>\n",
       "      <td>0.000009</td>\n",
       "      <td>0.000941</td>\n",
       "      <td>0.000169</td>\n",
       "      <td>0.000062</td>\n",
       "      <td>0.000071</td>\n",
       "      <td>0.000059</td>\n",
       "      <td>0.000007</td>\n",
       "      <td>0.000012</td>\n",
       "      <td>0.000021</td>\n",
       "    </tr>\n",
       "  </tbody>\n",
       "</table>\n",
       "<p>2 rows × 52 columns</p>\n",
       "</div>"
      ],
      "text/plain": [
       "                     CellCycle-G2M  Translation       HLA       ISG      Mito  \\\n",
       "L1_AAACCCAAGACATACA       0.000015     0.001637  0.000025  0.000019  0.000053   \n",
       "L1_AAACCCACAACTGGTT       0.000006     0.001617  0.000039  0.000025  0.000239   \n",
       "\n",
       "                     Doublet-RBC       gdT  CellCycle-S  Cytotoxic  \\\n",
       "L1_AAACCCAAGACATACA     0.000011  0.000036     0.000054   0.000036   \n",
       "L1_AAACCCACAACTGGTT     0.000008  0.000036     0.000046   0.000058   \n",
       "\n",
       "                     Doublet-Platelet  ...     Tfh-2  OX40/EBI3  CD172a/MERTK  \\\n",
       "L1_AAACCCAAGACATACA          0.000020  ...  0.000103   0.000015      0.000859   \n",
       "L1_AAACCCACAACTGGTT          0.000042  ...  0.000034   0.000009      0.000941   \n",
       "\n",
       "                         IEG3  Doublet-Fibroblast  SOX4/TOX2  CD40LG/TXNIP  \\\n",
       "L1_AAACCCAAGACATACA  0.000288            0.000022   0.000070      0.000695   \n",
       "L1_AAACCCACAACTGGTT  0.000169            0.000062   0.000071      0.000059   \n",
       "\n",
       "                          Tph  Exhaustion     Tfh-1  \n",
       "L1_AAACCCAAGACATACA  0.000014    0.000020  0.000082  \n",
       "L1_AAACCCACAACTGGTT  0.000007    0.000012  0.000021  \n",
       "\n",
       "[2 rows x 52 columns]"
      ]
     },
     "execution_count": 17,
     "metadata": {},
     "output_type": "execute_result"
    }
   ],
   "source": [
    "cat_obj.usage.head(2)"
   ]
  },
  {
   "cell_type": "code",
   "execution_count": 18,
   "id": "fbfa04d5-bcc7-429e-8b8a-a3e09aa8ad46",
   "metadata": {
    "tags": []
   },
   "outputs": [
    {
     "data": {
      "text/html": [
       "<div>\n",
       "<style scoped>\n",
       "    .dataframe tbody tr th:only-of-type {\n",
       "        vertical-align: middle;\n",
       "    }\n",
       "\n",
       "    .dataframe tbody tr th {\n",
       "        vertical-align: top;\n",
       "    }\n",
       "\n",
       "    .dataframe thead th {\n",
       "        text-align: right;\n",
       "    }\n",
       "</style>\n",
       "<table border=\"1\" class=\"dataframe\">\n",
       "  <thead>\n",
       "    <tr style=\"text-align: right;\">\n",
       "      <th></th>\n",
       "      <th>ASA</th>\n",
       "      <th>Proliferation</th>\n",
       "      <th>ASA_binary</th>\n",
       "      <th>Proliferation_binary</th>\n",
       "      <th>Multinomial_Label</th>\n",
       "    </tr>\n",
       "  </thead>\n",
       "  <tbody>\n",
       "    <tr>\n",
       "      <th>L1_AAACCCAAGACATACA</th>\n",
       "      <td>0.024724</td>\n",
       "      <td>0.009160</td>\n",
       "      <td>False</td>\n",
       "      <td>False</td>\n",
       "      <td>CD4_CM</td>\n",
       "    </tr>\n",
       "    <tr>\n",
       "      <th>L1_AAACCCACAACTGGTT</th>\n",
       "      <td>0.028785</td>\n",
       "      <td>0.007687</td>\n",
       "      <td>False</td>\n",
       "      <td>False</td>\n",
       "      <td>CD8_Naive</td>\n",
       "    </tr>\n",
       "  </tbody>\n",
       "</table>\n",
       "</div>"
      ],
      "text/plain": [
       "                          ASA  Proliferation  ASA_binary  \\\n",
       "L1_AAACCCAAGACATACA  0.024724       0.009160       False   \n",
       "L1_AAACCCACAACTGGTT  0.028785       0.007687       False   \n",
       "\n",
       "                     Proliferation_binary Multinomial_Label  \n",
       "L1_AAACCCAAGACATACA                 False            CD4_CM  \n",
       "L1_AAACCCACAACTGGTT                 False         CD8_Naive  "
      ]
     },
     "execution_count": 18,
     "metadata": {},
     "output_type": "execute_result"
    }
   ],
   "source": [
    "cat_obj.scores.head(2)"
   ]
  },
  {
   "cell_type": "code",
   "execution_count": 19,
   "id": "e56462ff-dfdc-4092-a2b1-c17b6779b5fc",
   "metadata": {},
   "outputs": [
    {
     "name": "stdout",
     "output_type": "stream",
     "text": [
      "Saving usages to /data/srlab1/TCAT/Data/starCAT/Testing/starCAT_haoetal_pbmc_multimodal.merged.T.raw.ADTfixedADT_70.20221022FiltForcNMF.rf_usage_normalized.txt\n",
      "Saving scores to /data/srlab1/TCAT/Data/starCAT/Testing/starCAT_haoetal_pbmc_multimodal.merged.T.raw.ADTfixedADT_70.20221022FiltForcNMF.scores.txt\n"
     ]
    }
   ],
   "source": [
    "cat_obj.save_results(output_dir, name)"
   ]
  },
  {
   "cell_type": "markdown",
   "id": "a6e0a307-d889-490b-9782-e47b0bd4c57e",
   "metadata": {},
   "source": [
    "## Test ```build_reference```"
   ]
  },
  {
   "cell_type": "code",
   "execution_count": 20,
   "id": "d3fa19ed-1053-4fed-80c0-ee5248912a34",
   "metadata": {},
   "outputs": [],
   "source": [
    "ref_dir = '/data/srlab1/mcurtis/GSK/tcell_proliferation/Hao_20220817/cnmf_output/'\n",
    "ref_name = 'T_learnHarmonyRNA_RefitBoth'\n",
    "\n",
    "k = 36\n",
    "density_threshold = 0.2"
   ]
  },
  {
   "cell_type": "code",
   "execution_count": 21,
   "id": "447b9f49-cf87-4cf3-99e4-53e03d13e467",
   "metadata": {},
   "outputs": [
    {
     "name": "stdout",
     "output_type": "stream",
     "text": [
      "Using reference from starCAT database\n",
      "Loading reference from existing cache file for reference TCAT.V1\n"
     ]
    }
   ],
   "source": [
    "cat_obj = starCAT()"
   ]
  },
  {
   "cell_type": "code",
   "execution_count": 8,
   "id": "fe7e5324-6a15-45e8-ab30-2111e8abd884",
   "metadata": {},
   "outputs": [
    {
     "name": "stdout",
     "output_type": "stream",
     "text": [
      "Saving reference spectra to /data/srlab1/mcurtis/GSK/tcell_proliferation/Hao_20220817/cnmf_output/T_learnHarmonyRNA_RefitBoth/T_learnHarmonyRNA_RefitBoth.starCAT_reference.k_36.dt_0_2.tsv\n"
     ]
    }
   ],
   "source": [
    "cat_obj.build_reference(ref_dir, ref_name, k, density_threshold)"
   ]
  },
  {
   "cell_type": "code",
   "execution_count": 8,
   "id": "78641740-5917-4ac9-93fa-def102ae71cb",
   "metadata": {},
   "outputs": [
    {
     "name": "stdout",
     "output_type": "stream",
     "text": [
      "/data/srlab1/mcurtis/GSK/tcell_proliferation/Hao_20220817/cnmf_output/T_learnHarmonyRNA_RefitBoth/T_learnHarmonyRNA_RefitBoth.starCAT_reference.k_36.dt_0_2.tsv\n"
     ]
    },
    {
     "data": {
      "text/html": [
       "<div>\n",
       "<style scoped>\n",
       "    .dataframe tbody tr th:only-of-type {\n",
       "        vertical-align: middle;\n",
       "    }\n",
       "\n",
       "    .dataframe tbody tr th {\n",
       "        vertical-align: top;\n",
       "    }\n",
       "\n",
       "    .dataframe thead th {\n",
       "        text-align: right;\n",
       "    }\n",
       "</style>\n",
       "<table border=\"1\" class=\"dataframe\">\n",
       "  <thead>\n",
       "    <tr style=\"text-align: right;\">\n",
       "      <th></th>\n",
       "      <th>HES4</th>\n",
       "      <th>ISG15</th>\n",
       "      <th>TNFRSF18</th>\n",
       "      <th>TNFRSF4</th>\n",
       "      <th>MXRA8</th>\n",
       "    </tr>\n",
       "  </thead>\n",
       "  <tbody>\n",
       "    <tr>\n",
       "      <th>GEP1</th>\n",
       "      <td>15.352291</td>\n",
       "      <td>0.0</td>\n",
       "      <td>0.0</td>\n",
       "      <td>0.0</td>\n",
       "      <td>0.000000</td>\n",
       "    </tr>\n",
       "    <tr>\n",
       "      <th>GEP2</th>\n",
       "      <td>0.000000</td>\n",
       "      <td>0.0</td>\n",
       "      <td>0.0</td>\n",
       "      <td>0.0</td>\n",
       "      <td>0.000000</td>\n",
       "    </tr>\n",
       "    <tr>\n",
       "      <th>GEP3</th>\n",
       "      <td>0.000000</td>\n",
       "      <td>0.0</td>\n",
       "      <td>0.0</td>\n",
       "      <td>0.0</td>\n",
       "      <td>0.000000</td>\n",
       "    </tr>\n",
       "    <tr>\n",
       "      <th>GEP4</th>\n",
       "      <td>0.000000</td>\n",
       "      <td>0.0</td>\n",
       "      <td>0.0</td>\n",
       "      <td>0.0</td>\n",
       "      <td>0.000000</td>\n",
       "    </tr>\n",
       "    <tr>\n",
       "      <th>GEP5</th>\n",
       "      <td>0.000000</td>\n",
       "      <td>0.0</td>\n",
       "      <td>0.0</td>\n",
       "      <td>0.0</td>\n",
       "      <td>63.397045</td>\n",
       "    </tr>\n",
       "  </tbody>\n",
       "</table>\n",
       "</div>"
      ],
      "text/plain": [
       "           HES4  ISG15  TNFRSF18  TNFRSF4      MXRA8\n",
       "GEP1  15.352291    0.0       0.0      0.0   0.000000\n",
       "GEP2   0.000000    0.0       0.0      0.0   0.000000\n",
       "GEP3   0.000000    0.0       0.0      0.0   0.000000\n",
       "GEP4   0.000000    0.0       0.0      0.0   0.000000\n",
       "GEP5   0.000000    0.0       0.0      0.0  63.397045"
      ]
     },
     "metadata": {},
     "output_type": "display_data"
    }
   ],
   "source": [
    "# View default reference spectra (genes x programs)\n",
    "print(cat_obj.ref_name)\n",
    "display(cat_obj.ref.iloc[:5, :5])"
   ]
  },
  {
   "cell_type": "markdown",
   "id": "4cac5a2b-58eb-434c-ba17-65fc02478bba",
   "metadata": {},
   "source": [
    "starCAT can be immediately run with the new reference spectra. However, after building reference once, the path to the saved reference can be loaded in future initializations of the starCAT object, i.e. \n",
    "\n",
    "```cat_obj = starCAT(reference = 'reference_path')```"
   ]
  },
  {
   "cell_type": "code",
   "execution_count": null,
   "id": "391c16d1-5453-4687-9fe7-44c5c298e6df",
   "metadata": {},
   "outputs": [],
   "source": [
    "data_dir = './Example_Data'\n",
    "datafn = os.path.join(data_dir, 'example_data.h5ad')"
   ]
  },
  {
   "cell_type": "code",
   "execution_count": 15,
   "id": "a583dc05-41ea-49bf-9426-e890650b13c9",
   "metadata": {},
   "outputs": [
    {
     "name": "stdout",
     "output_type": "stream",
     "text": [
      "1858 out of 2000 genes in the reference overlap with the query\n"
     ]
    },
    {
     "name": "stderr",
     "output_type": "stream",
     "text": [
      "/PHShome/mc1070/anaconda3/envs/cnmf_env2v2/lib/python3.7/site-packages/scanpy/preprocessing/_simple.py:843: UserWarning: Received a view of an AnnData. Making a copy.\n",
      "  view_to_actual(adata)\n"
     ]
    }
   ],
   "source": [
    "adata = cat_obj.load_counts(datafn)\n",
    "usage, _ = cat_obj.fit_transform(adata)"
   ]
  },
  {
   "cell_type": "code",
   "execution_count": 12,
   "id": "d8624e57-69c0-477a-a002-b3e03b06b373",
   "metadata": {},
   "outputs": [
    {
     "name": "stdout",
     "output_type": "stream",
     "text": [
      "/data/srlab1/mcurtis/GSK/tcell_proliferation/Hao_20220817/cnmf_output/T_learnHarmonyRNA_RefitBoth/T_learnHarmonyRNA_RefitBoth.starCAT_reference.k_36.dt_0_2.tsv\n"
     ]
    },
    {
     "data": {
      "text/html": [
       "<div>\n",
       "<style scoped>\n",
       "    .dataframe tbody tr th:only-of-type {\n",
       "        vertical-align: middle;\n",
       "    }\n",
       "\n",
       "    .dataframe tbody tr th {\n",
       "        vertical-align: top;\n",
       "    }\n",
       "\n",
       "    .dataframe thead th {\n",
       "        text-align: right;\n",
       "    }\n",
       "</style>\n",
       "<table border=\"1\" class=\"dataframe\">\n",
       "  <thead>\n",
       "    <tr style=\"text-align: right;\">\n",
       "      <th></th>\n",
       "      <th>HES4</th>\n",
       "      <th>ISG15</th>\n",
       "      <th>TNFRSF18</th>\n",
       "      <th>TNFRSF4</th>\n",
       "      <th>MXRA8</th>\n",
       "    </tr>\n",
       "  </thead>\n",
       "  <tbody>\n",
       "    <tr>\n",
       "      <th>GEP1</th>\n",
       "      <td>15.352291</td>\n",
       "      <td>0.0</td>\n",
       "      <td>0.0</td>\n",
       "      <td>0.0</td>\n",
       "      <td>0.000000</td>\n",
       "    </tr>\n",
       "    <tr>\n",
       "      <th>GEP2</th>\n",
       "      <td>0.000000</td>\n",
       "      <td>0.0</td>\n",
       "      <td>0.0</td>\n",
       "      <td>0.0</td>\n",
       "      <td>0.000000</td>\n",
       "    </tr>\n",
       "    <tr>\n",
       "      <th>GEP3</th>\n",
       "      <td>0.000000</td>\n",
       "      <td>0.0</td>\n",
       "      <td>0.0</td>\n",
       "      <td>0.0</td>\n",
       "      <td>0.000000</td>\n",
       "    </tr>\n",
       "    <tr>\n",
       "      <th>GEP4</th>\n",
       "      <td>0.000000</td>\n",
       "      <td>0.0</td>\n",
       "      <td>0.0</td>\n",
       "      <td>0.0</td>\n",
       "      <td>0.000000</td>\n",
       "    </tr>\n",
       "    <tr>\n",
       "      <th>GEP5</th>\n",
       "      <td>0.000000</td>\n",
       "      <td>0.0</td>\n",
       "      <td>0.0</td>\n",
       "      <td>0.0</td>\n",
       "      <td>63.397045</td>\n",
       "    </tr>\n",
       "  </tbody>\n",
       "</table>\n",
       "</div>"
      ],
      "text/plain": [
       "           HES4  ISG15  TNFRSF18  TNFRSF4      MXRA8\n",
       "GEP1  15.352291    0.0       0.0      0.0   0.000000\n",
       "GEP2   0.000000    0.0       0.0      0.0   0.000000\n",
       "GEP3   0.000000    0.0       0.0      0.0   0.000000\n",
       "GEP4   0.000000    0.0       0.0      0.0   0.000000\n",
       "GEP5   0.000000    0.0       0.0      0.0  63.397045"
      ]
     },
     "metadata": {},
     "output_type": "display_data"
    }
   ],
   "source": [
    "# View default reference spectra (genes x programs)\n",
    "print(cat_obj.ref_name)\n",
    "display(cat_obj.ref.iloc[:5, :5])"
   ]
  },
  {
   "cell_type": "code",
   "execution_count": 16,
   "id": "44f2c720-2089-4fe5-b135-e0b6dc97394e",
   "metadata": {},
   "outputs": [
    {
     "data": {
      "text/html": [
       "<div>\n",
       "<style scoped>\n",
       "    .dataframe tbody tr th:only-of-type {\n",
       "        vertical-align: middle;\n",
       "    }\n",
       "\n",
       "    .dataframe tbody tr th {\n",
       "        vertical-align: top;\n",
       "    }\n",
       "\n",
       "    .dataframe thead th {\n",
       "        text-align: right;\n",
       "    }\n",
       "</style>\n",
       "<table border=\"1\" class=\"dataframe\">\n",
       "  <thead>\n",
       "    <tr style=\"text-align: right;\">\n",
       "      <th></th>\n",
       "      <th>GEP1</th>\n",
       "      <th>GEP2</th>\n",
       "      <th>GEP3</th>\n",
       "      <th>GEP4</th>\n",
       "      <th>GEP5</th>\n",
       "      <th>GEP6</th>\n",
       "      <th>GEP7</th>\n",
       "      <th>GEP8</th>\n",
       "      <th>GEP9</th>\n",
       "      <th>GEP10</th>\n",
       "      <th>...</th>\n",
       "      <th>GEP27</th>\n",
       "      <th>GEP28</th>\n",
       "      <th>GEP29</th>\n",
       "      <th>GEP30</th>\n",
       "      <th>GEP31</th>\n",
       "      <th>GEP32</th>\n",
       "      <th>GEP33</th>\n",
       "      <th>GEP34</th>\n",
       "      <th>GEP35</th>\n",
       "      <th>GEP36</th>\n",
       "    </tr>\n",
       "  </thead>\n",
       "  <tbody>\n",
       "    <tr>\n",
       "      <th>CATGCCTAGTCGATAA-1-gPlexA4</th>\n",
       "      <td>0.030859</td>\n",
       "      <td>0.020843</td>\n",
       "      <td>0.021415</td>\n",
       "      <td>0.014571</td>\n",
       "      <td>0.067726</td>\n",
       "      <td>0.000059</td>\n",
       "      <td>0.004446</td>\n",
       "      <td>0.007970</td>\n",
       "      <td>0.120426</td>\n",
       "      <td>0.004570</td>\n",
       "      <td>...</td>\n",
       "      <td>0.001371</td>\n",
       "      <td>0.000247</td>\n",
       "      <td>0.000027</td>\n",
       "      <td>0.000080</td>\n",
       "      <td>0.000001</td>\n",
       "      <td>0.000014</td>\n",
       "      <td>0.006562</td>\n",
       "      <td>0.000002</td>\n",
       "      <td>0.000089</td>\n",
       "      <td>0.000120</td>\n",
       "    </tr>\n",
       "    <tr>\n",
       "      <th>AAGACCTGTAGCGTCC-1-gPlexC6</th>\n",
       "      <td>0.303648</td>\n",
       "      <td>0.173364</td>\n",
       "      <td>0.126317</td>\n",
       "      <td>0.030777</td>\n",
       "      <td>0.006067</td>\n",
       "      <td>0.046658</td>\n",
       "      <td>0.032619</td>\n",
       "      <td>0.004227</td>\n",
       "      <td>0.044378</td>\n",
       "      <td>0.002768</td>\n",
       "      <td>...</td>\n",
       "      <td>0.007880</td>\n",
       "      <td>0.001387</td>\n",
       "      <td>0.000048</td>\n",
       "      <td>0.000873</td>\n",
       "      <td>0.000006</td>\n",
       "      <td>0.000400</td>\n",
       "      <td>0.001437</td>\n",
       "      <td>0.000912</td>\n",
       "      <td>0.000746</td>\n",
       "      <td>0.000035</td>\n",
       "    </tr>\n",
       "  </tbody>\n",
       "</table>\n",
       "<p>2 rows × 36 columns</p>\n",
       "</div>"
      ],
      "text/plain": [
       "                                GEP1      GEP2      GEP3      GEP4      GEP5  \\\n",
       "CATGCCTAGTCGATAA-1-gPlexA4  0.030859  0.020843  0.021415  0.014571  0.067726   \n",
       "AAGACCTGTAGCGTCC-1-gPlexC6  0.303648  0.173364  0.126317  0.030777  0.006067   \n",
       "\n",
       "                                GEP6      GEP7      GEP8      GEP9     GEP10  \\\n",
       "CATGCCTAGTCGATAA-1-gPlexA4  0.000059  0.004446  0.007970  0.120426  0.004570   \n",
       "AAGACCTGTAGCGTCC-1-gPlexC6  0.046658  0.032619  0.004227  0.044378  0.002768   \n",
       "\n",
       "                            ...     GEP27     GEP28     GEP29     GEP30  \\\n",
       "CATGCCTAGTCGATAA-1-gPlexA4  ...  0.001371  0.000247  0.000027  0.000080   \n",
       "AAGACCTGTAGCGTCC-1-gPlexC6  ...  0.007880  0.001387  0.000048  0.000873   \n",
       "\n",
       "                               GEP31     GEP32     GEP33     GEP34     GEP35  \\\n",
       "CATGCCTAGTCGATAA-1-gPlexA4  0.000001  0.000014  0.006562  0.000002  0.000089   \n",
       "AAGACCTGTAGCGTCC-1-gPlexC6  0.000006  0.000400  0.001437  0.000912  0.000746   \n",
       "\n",
       "                               GEP36  \n",
       "CATGCCTAGTCGATAA-1-gPlexA4  0.000120  \n",
       "AAGACCTGTAGCGTCC-1-gPlexC6  0.000035  \n",
       "\n",
       "[2 rows x 36 columns]"
      ]
     },
     "execution_count": 16,
     "metadata": {},
     "output_type": "execute_result"
    }
   ],
   "source": [
    "usage.head(2)"
   ]
  },
  {
   "cell_type": "markdown",
   "id": "ebecdb81-4dc3-4344-b313-589e19a4790f",
   "metadata": {},
   "source": [
    "## End"
   ]
  },
  {
   "cell_type": "code",
   "execution_count": 17,
   "id": "9da7ef82-3634-4803-9f7a-bd7eadefaffd",
   "metadata": {},
   "outputs": [
    {
     "data": {
      "text/html": [
       "<details>\n",
       "<summary>Click to view session information</summary>\n",
       "<pre>\n",
       "-----\n",
       "anndata             0.8.0\n",
       "matplotlib          3.5.1\n",
       "numpy               1.21.6\n",
       "pandas              1.3.5\n",
       "requests            2.27.1\n",
       "scanpy              1.9.1\n",
       "seaborn             0.11.2\n",
       "session_info        1.0.0\n",
       "starcat             NA\n",
       "-----\n",
       "</pre>\n",
       "<details>\n",
       "<summary>Click to view modules imported as dependencies</summary>\n",
       "<pre>\n",
       "PIL                 9.1.0\n",
       "backcall            0.2.0\n",
       "beta_ufunc          NA\n",
       "binom_ufunc         NA\n",
       "brotli              NA\n",
       "cached_property     1.5.2\n",
       "certifi             2022.05.18.1\n",
       "cffi                1.15.0\n",
       "charset_normalizer  2.0.12\n",
       "cloudpickle         2.2.1\n",
       "cnmf                NA\n",
       "colorama            0.4.4\n",
       "cycler              0.10.0\n",
       "cython_runtime      NA\n",
       "dask                2022.02.0\n",
       "dateutil            2.8.2\n",
       "debugpy             1.6.0\n",
       "decorator           5.1.1\n",
       "defusedxml          0.7.1\n",
       "entrypoints         0.4\n",
       "fastcluster         1.2.6\n",
       "fsspec              2023.1.0\n",
       "h5py                3.6.0\n",
       "idna                3.3\n",
       "igraph              0.9.9\n",
       "importlib_metadata  NA\n",
       "ipykernel           6.13.0\n",
       "ipython_genutils    0.2.0\n",
       "jedi                0.18.1\n",
       "jinja2              3.1.1\n",
       "joblib              1.1.0\n",
       "jupyter_server      1.16.0\n",
       "kiwisolver          1.4.2\n",
       "leidenalg           0.8.9\n",
       "llvmlite            0.38.0\n",
       "markupsafe          2.1.1\n",
       "matplotlib_inline   NA\n",
       "mpl_toolkits        NA\n",
       "natsort             8.1.0\n",
       "nbinom_ufunc        NA\n",
       "numba               0.55.1\n",
       "packaging           21.3\n",
       "parso               0.8.3\n",
       "pexpect             4.8.0\n",
       "pickleshare         0.7.5\n",
       "pkg_resources       NA\n",
       "prompt_toolkit      3.0.29\n",
       "psutil              5.9.0\n",
       "ptyprocess          0.7.0\n",
       "pycparser           2.21\n",
       "pydev_ipython       NA\n",
       "pydevconsole        NA\n",
       "pydevd              2.8.0\n",
       "pydevd_file_utils   NA\n",
       "pydevd_plugins      NA\n",
       "pydevd_tracing      NA\n",
       "pygments            2.11.2\n",
       "pyparsing           3.0.8\n",
       "pytz                2022.1\n",
       "scipy               1.7.3\n",
       "six                 1.16.0\n",
       "sklearn             1.0.2\n",
       "socks               1.7.1\n",
       "sphinxcontrib       NA\n",
       "statsmodels         0.13.2\n",
       "storemagic          NA\n",
       "texttable           1.6.4\n",
       "threadpoolctl       3.1.0\n",
       "tlz                 0.12.0\n",
       "toolz               0.12.0\n",
       "tornado             6.1\n",
       "traitlets           5.1.1\n",
       "typing_extensions   NA\n",
       "unicodedata2        NA\n",
       "urllib3             1.26.9\n",
       "wcwidth             0.2.5\n",
       "yaml                6.0\n",
       "zipp                NA\n",
       "zmq                 22.3.0\n",
       "</pre>\n",
       "</details> <!-- seems like this ends pre, so might as well be explicit -->\n",
       "<pre>\n",
       "-----\n",
       "IPython             7.32.0\n",
       "jupyter_client      7.2.2\n",
       "jupyter_core        4.9.2\n",
       "jupyterlab          3.3.4\n",
       "notebook            6.4.11\n",
       "-----\n",
       "Python 3.7.12 | packaged by conda-forge | (default, Oct 26 2021, 06:08:53) [GCC 9.4.0]\n",
       "Linux-2.6.32-696.10.3.el6.x86_64-x86_64-with-redhat-6.7-Santiago\n",
       "-----\n",
       "Session information updated at 2024-05-01 10:46\n",
       "</pre>\n",
       "</details>"
      ],
      "text/plain": [
       "<IPython.core.display.HTML object>"
      ]
     },
     "execution_count": 17,
     "metadata": {},
     "output_type": "execute_result"
    }
   ],
   "source": [
    "import session_info\n",
    "session_info.show()"
   ]
  }
 ],
 "metadata": {
  "kernelspec": {
   "display_name": "Python 3 (ipykernel)",
   "language": "python",
   "name": "python3"
  },
  "language_info": {
   "codemirror_mode": {
    "name": "ipython",
    "version": 3
   },
   "file_extension": ".py",
   "mimetype": "text/x-python",
   "name": "python",
   "nbconvert_exporter": "python",
   "pygments_lexer": "ipython3",
   "version": "3.7.12"
  }
 },
 "nbformat": 4,
 "nbformat_minor": 5
}
