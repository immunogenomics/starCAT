{
 "cells": [
  {
   "cell_type": "code",
   "execution_count": 2,
   "id": "3416f28a-eaea-438c-b4b3-07b0cd1a4db9",
   "metadata": {},
   "outputs": [
    {
     "name": "stderr",
     "output_type": "stream",
     "text": [
      "Warning message:\n",
      "“package ‘tidyr’ was built under R version 4.1.2”\n",
      "Warning message:\n",
      "“package ‘readr’ was built under R version 4.1.2”\n",
      "Warning message:\n",
      "“package ‘Matrix’ was built under R version 4.1.2”\n"
     ]
    }
   ],
   "source": [
    "suppressPackageStartupMessages({\n",
    "    library(tidyverse)\n",
    "    library(data.table)\n",
    "    library(Matrix)\n",
    "    library(Seurat)\n",
    "    library(R.utils)\n",
    "})"
   ]
  },
  {
   "cell_type": "markdown",
   "id": "14446888-cfdd-46c3-ac63-6b2347fb0e1a",
   "metadata": {},
   "source": [
    "This notebook provides example code for running *CAT on an example seurat counts matrix. Similar methodology can be used for other R object types, such as SingleCellExperiment. Generally, the counts matrix should be converted into a .mtx or .h5ad file (as shown below) for use in starCAT.py.\n",
    "\n",
    "The default reference is TCAT.V1, a reference of programs curated from multiple T cell datasets."
   ]
  },
  {
   "cell_type": "markdown",
   "id": "c2dad49f-ecc4-4632-968f-d04707fffedf",
   "metadata": {},
   "source": [
    "## Download example data"
   ]
  },
  {
   "cell_type": "markdown",
   "id": "dddd0351-9bae-44bb-9fe7-4817d7b24bc5",
   "metadata": {},
   "source": [
    "Download seurat object for an [example small dataset](https://zenodo.org/records/13368041) to local directory:"
   ]
  },
  {
   "cell_type": "code",
   "execution_count": 9,
   "id": "b45d3629-9370-4020-a933-7aa33a9dd559",
   "metadata": {},
   "outputs": [],
   "source": [
    "data_dir = './Example_Data/'\n",
    "dir.create(data_dir, recursive = TRUE)"
   ]
  },
  {
   "cell_type": "code",
   "execution_count": 8,
   "id": "849b6d1c-39a6-4888-af4a-d557d948d036",
   "metadata": {},
   "outputs": [
    {
     "name": "stderr",
     "output_type": "stream",
     "text": [
      "Using libcurl 7.82.0 with OpenSSL/3.0.3\n",
      "\n",
      "\n",
      "Attaching package: ‘curl’\n",
      "\n",
      "\n",
      "The following object is masked from ‘package:readr’:\n",
      "\n",
      "    parse_date\n",
      "\n",
      "\n"
     ]
    }
   ],
   "source": [
    "library(curl)\n",
    "curl_download('https://zenodo.org/records/13368041/files/COMBAT-CITESeq-DATA.Raw.T.ADTfixed20230831FiltForcNMF.Downsampled.rds?download=1',\n",
    "              file.path(data_dir, 'example_data.rds'), \n",
    "              handle = new_handle(timeout = 300))"
   ]
  },
  {
   "cell_type": "markdown",
   "id": "bbf83202-66a4-43b2-83d0-bc12ec291ffb",
   "metadata": {},
   "source": [
    "## Output example data to MTX format"
   ]
  },
  {
   "cell_type": "code",
   "execution_count": 12,
   "id": "2656e85d-2fe4-4a23-8302-185df07c01ff",
   "metadata": {},
   "outputs": [
    {
     "data": {
      "text/html": [
       "'./Example_Data/example_data.rds'"
      ],
      "text/latex": [
       "'./Example\\_Data/example\\_data.rds'"
      ],
      "text/markdown": [
       "'./Example_Data/example_data.rds'"
      ],
      "text/plain": [
       "[1] \"./Example_Data/example_data.rds\""
      ]
     },
     "metadata": {},
     "output_type": "display_data"
    }
   ],
   "source": [
    "seu_path = paste0(data_dir, 'example_data.rds')\n",
    "seu_path"
   ]
  },
  {
   "cell_type": "code",
   "execution_count": 13,
   "id": "994b5cc7-2b55-449c-85e4-c8846cff40ef",
   "metadata": {},
   "outputs": [],
   "source": [
    "seu_object = readRDS(seu_path)"
   ]
  },
  {
   "cell_type": "code",
   "execution_count": 14,
   "id": "81bdbec6-b62c-4b4a-9f80-103c2a1e5bda",
   "metadata": {},
   "outputs": [
    {
     "data": {
      "text/plain": [
       "An object of class Seurat \n",
       "20957 features across 13800 samples within 1 assay \n",
       "Active assay: RNA (20957 features, 0 variable features)"
      ]
     },
     "metadata": {},
     "output_type": "display_data"
    }
   ],
   "source": [
    "seu_object"
   ]
  },
  {
   "cell_type": "code",
   "execution_count": 15,
   "id": "ed50facf-8360-4b53-a754-48a3bf21d7d5",
   "metadata": {},
   "outputs": [
    {
     "data": {
      "text/html": [
       "<style>\n",
       ".list-inline {list-style: none; margin:0; padding: 0}\n",
       ".list-inline>li {display: inline-block}\n",
       ".list-inline>li:not(:last-child)::after {content: \"\\00b7\"; padding: 0 .5ex}\n",
       "</style>\n",
       "<ol class=list-inline><li>'orig.ident'</li><li>'nCount_RNA'</li><li>'nFeature_RNA'</li></ol>\n"
      ],
      "text/latex": [
       "\\begin{enumerate*}\n",
       "\\item 'orig.ident'\n",
       "\\item 'nCount\\_RNA'\n",
       "\\item 'nFeature\\_RNA'\n",
       "\\end{enumerate*}\n"
      ],
      "text/markdown": [
       "1. 'orig.ident'\n",
       "2. 'nCount_RNA'\n",
       "3. 'nFeature_RNA'\n",
       "\n",
       "\n"
      ],
      "text/plain": [
       "[1] \"orig.ident\"   \"nCount_RNA\"   \"nFeature_RNA\""
      ]
     },
     "metadata": {},
     "output_type": "display_data"
    }
   ],
   "source": [
    "seu_object@meta.data %>% colnames"
   ]
  },
  {
   "cell_type": "code",
   "execution_count": 16,
   "id": "a6ec71e8-7293-43af-bcb4-bb0f5aa737a0",
   "metadata": {},
   "outputs": [],
   "source": [
    "counts = seu_object@assays$RNA@counts"
   ]
  },
  {
   "cell_type": "code",
   "execution_count": 17,
   "id": "d2f12455-8894-4a3a-89e4-8ecc05648b5a",
   "metadata": {},
   "outputs": [
    {
     "data": {
      "text/plain": [
       "5 x 5 sparse Matrix of class \"dgCMatrix\"\n",
       "           L1_AAACCCACATGGATCT L1_AAACGAAAGATAACAC L1_AAACGCTTCTTGGTCC\n",
       "AL627309.1                   .                   .                   .\n",
       "AL669831.5                   .                   .                   .\n",
       "LINC00115                    .                   .                   .\n",
       "FAM41C                       .                   .                   .\n",
       "NOC2L                        .                   .                   .\n",
       "           L1_AAAGAACCAAGGAGTC L1_AAAGAACCACCTCTAC\n",
       "AL627309.1                   .                   .\n",
       "AL669831.5                   .                   .\n",
       "LINC00115                    .                   .\n",
       "FAM41C                       .                   .\n",
       "NOC2L                        .                   ."
      ]
     },
     "metadata": {},
     "output_type": "display_data"
    }
   ],
   "source": [
    "counts[1:5, 1:5] "
   ]
  },
  {
   "cell_type": "code",
   "execution_count": 18,
   "id": "010386a1-d525-4399-9850-e3d6e2f2e76d",
   "metadata": {},
   "outputs": [
    {
     "data": {
      "text/plain": [
       "NULL"
      ]
     },
     "metadata": {},
     "output_type": "display_data"
    }
   ],
   "source": [
    "# Output counts matrix\n",
    "writeMM(counts, paste0(data_dir, 'matrix.mtx'))\n",
    "gzip(paste0(data_dir, 'matrix.mtx'))\n",
    "\n",
    "# Output cell barcodes\n",
    "barcodes <- colnames(counts)\n",
    "write_delim(as.data.frame(barcodes), paste0(data_dir, 'barcodes.tsv'),\n",
    "           col_names = FALSE)\n",
    "gzip(paste0(data_dir, 'barcodes.tsv'))\n",
    "\n",
    "# Output feature names\n",
    "gene_names <- rownames(counts)\n",
    "features <- data.frame(\"gene_id\" = gene_names,\"gene_name\" = gene_names,type = \"Gene Expression\")\n",
    "write_delim(as.data.frame(features),delim = \"\\t\", paste0(data_dir, 'features.tsv'),\n",
    "           col_names = FALSE)\n",
    "gzip(paste0(data_dir, 'features.tsv'))"
   ]
  },
  {
   "cell_type": "markdown",
   "id": "355da141-e617-4831-91d4-764e7930aa72",
   "metadata": {},
   "source": [
    "## Submit starCAT.py"
   ]
  },
  {
   "cell_type": "markdown",
   "id": "10269729-ef9e-46eb-a0ae-a2bc691eaa1c",
   "metadata": {},
   "source": [
    "The format of the bash command should look like:\n",
    "```starcat --reference \"TCAT.V1\" --counts \"counts_fn\" --output-dir \"output_dir\" --name \"outuput_name\"```"
   ]
  },
  {
   "cell_type": "code",
   "execution_count": 19,
   "id": "f128b18e-7e89-4ca6-978a-ee02db153d70",
   "metadata": {},
   "outputs": [],
   "source": [
    "output_name = 'example_data'\n",
    "counts_fn = paste0(data_dir, 'matrix.mtx.gz')"
   ]
  },
  {
   "cell_type": "code",
   "execution_count": 20,
   "id": "440f3727-5b43-42f5-bce3-a0ca6f262d25",
   "metadata": {},
   "outputs": [
    {
     "data": {
      "text/html": [
       "'starcat --reference \"TCAT.V1\" --counts \"./Example_Data/matrix.mtx.gz\" --output-dir \"./Example_Data/\" --name \"example_data\"'"
      ],
      "text/latex": [
       "'starcat --reference \"TCAT.V1\" --counts \"./Example\\_Data/matrix.mtx.gz\" --output-dir \"./Example\\_Data/\" --name \"example\\_data\"'"
      ],
      "text/markdown": [
       "'starcat --reference \"TCAT.V1\" --counts \"./Example_Data/matrix.mtx.gz\" --output-dir \"./Example_Data/\" --name \"example_data\"'"
      ],
      "text/plain": [
       "[1] \"starcat --reference \\\"TCAT.V1\\\" --counts \\\"./Example_Data/matrix.mtx.gz\\\" --output-dir \\\"./Example_Data/\\\" --name \\\"example_data\\\"\""
      ]
     },
     "metadata": {},
     "output_type": "display_data"
    }
   ],
   "source": [
    "cmd = paste0('starcat', \n",
    "             ' --reference ', '\"TCAT.V1\"',\n",
    "             ' --counts ', '\"', counts_fn, '\"', \n",
    "             ' --output-dir ', '\"', data_dir, '\"', \n",
    "             ' --name ', '\"', output_name, '\"' \n",
    "           )\n",
    "cmd"
   ]
  },
  {
   "cell_type": "code",
   "execution_count": 5,
   "id": "0e74d11f-ad52-45a4-a5cc-75163b77c5d3",
   "metadata": {},
   "outputs": [],
   "source": [
    "# Submit starCAT command\n",
    "system(cmd)"
   ]
  },
  {
   "cell_type": "markdown",
   "id": "32283265-38de-4b3c-912b-8ed88acba286",
   "metadata": {},
   "source": [
    "## Load results into R"
   ]
  },
  {
   "cell_type": "code",
   "execution_count": 71,
   "id": "dd098c1f-e294-400b-ab0a-a298f0bdae0b",
   "metadata": {},
   "outputs": [],
   "source": [
    "usage = read.table(paste0(data_dir, output_name, '.rf_usage_normalized.txt'))\n",
    "scores = read.table(paste0(data_dir, output_name, '.scores.txt'))"
   ]
  },
  {
   "cell_type": "code",
   "execution_count": 72,
   "id": "e9e9a6a3-3291-4f44-beff-49750c0d85e6",
   "metadata": {},
   "outputs": [
    {
     "data": {
      "text/html": [
       "<table class=\"dataframe\">\n",
       "<caption>A data.frame: 2 × 52</caption>\n",
       "<thead>\n",
       "\t<tr><th></th><th scope=col>CellCycle.G2M</th><th scope=col>Translation</th><th scope=col>HLA</th><th scope=col>ISG</th><th scope=col>Mito</th><th scope=col>Doublet.RBC</th><th scope=col>gdT</th><th scope=col>CellCycle.S</th><th scope=col>Cytotoxic</th><th scope=col>Doublet.Platelet</th><th scope=col>⋯</th><th scope=col>Tfh.2</th><th scope=col>OX40.EBI3</th><th scope=col>CD172a.MERTK</th><th scope=col>IEG3</th><th scope=col>Doublet.Fibroblast</th><th scope=col>SOX4.TOX2</th><th scope=col>CD40LG.TXNIP</th><th scope=col>Tph</th><th scope=col>Exhaustion</th><th scope=col>Tfh.1</th></tr>\n",
       "\t<tr><th></th><th scope=col>&lt;dbl&gt;</th><th scope=col>&lt;dbl&gt;</th><th scope=col>&lt;dbl&gt;</th><th scope=col>&lt;dbl&gt;</th><th scope=col>&lt;dbl&gt;</th><th scope=col>&lt;dbl&gt;</th><th scope=col>&lt;dbl&gt;</th><th scope=col>&lt;dbl&gt;</th><th scope=col>&lt;dbl&gt;</th><th scope=col>&lt;dbl&gt;</th><th scope=col>⋯</th><th scope=col>&lt;dbl&gt;</th><th scope=col>&lt;dbl&gt;</th><th scope=col>&lt;dbl&gt;</th><th scope=col>&lt;dbl&gt;</th><th scope=col>&lt;dbl&gt;</th><th scope=col>&lt;dbl&gt;</th><th scope=col>&lt;dbl&gt;</th><th scope=col>&lt;dbl&gt;</th><th scope=col>&lt;dbl&gt;</th><th scope=col>&lt;dbl&gt;</th></tr>\n",
       "</thead>\n",
       "<tbody>\n",
       "\t<tr><th scope=row>L1_AAACCCACATGGATCT</th><td>0.0004812625</td><td>0.1984751</td><td>0.05281601</td><td>0.001352083</td><td>0.02677662</td><td>0.0007320393</td><td>0.005636345</td><td>0.001266398</td><td>0.005563221</td><td>0.001743415</td><td>⋯</td><td>0.009453272</td><td>0.0097525360</td><td>0.12944813</td><td>0.05215479</td><td>0.007152538</td><td>0.008011147</td><td>0.01265178</td><td>0.0056741200</td><td>0.005282844</td><td>0.009074134</td></tr>\n",
       "\t<tr><th scope=row>L1_AAACGAAAGATAACAC</th><td>0.0007382836</td><td>0.1261008</td><td>0.08261252</td><td>0.002197595</td><td>0.03655813</td><td>0.0006230267</td><td>0.003504475</td><td>0.003304409</td><td>0.007702728</td><td>0.001602188</td><td>⋯</td><td>0.001686609</td><td>0.0008899445</td><td>0.05706992</td><td>0.01008088</td><td>0.005119129</td><td>0.033623950</td><td>0.02996031</td><td>0.0002871153</td><td>0.000148319</td><td>0.024658555</td></tr>\n",
       "</tbody>\n",
       "</table>\n"
      ],
      "text/latex": [
       "A data.frame: 2 × 52\n",
       "\\begin{tabular}{r|lllllllllllllllllllll}\n",
       "  & CellCycle.G2M & Translation & HLA & ISG & Mito & Doublet.RBC & gdT & CellCycle.S & Cytotoxic & Doublet.Platelet & ⋯ & Tfh.2 & OX40.EBI3 & CD172a.MERTK & IEG3 & Doublet.Fibroblast & SOX4.TOX2 & CD40LG.TXNIP & Tph & Exhaustion & Tfh.1\\\\\n",
       "  & <dbl> & <dbl> & <dbl> & <dbl> & <dbl> & <dbl> & <dbl> & <dbl> & <dbl> & <dbl> & ⋯ & <dbl> & <dbl> & <dbl> & <dbl> & <dbl> & <dbl> & <dbl> & <dbl> & <dbl> & <dbl>\\\\\n",
       "\\hline\n",
       "\tL1\\_AAACCCACATGGATCT & 0.0004812625 & 0.1984751 & 0.05281601 & 0.001352083 & 0.02677662 & 0.0007320393 & 0.005636345 & 0.001266398 & 0.005563221 & 0.001743415 & ⋯ & 0.009453272 & 0.0097525360 & 0.12944813 & 0.05215479 & 0.007152538 & 0.008011147 & 0.01265178 & 0.0056741200 & 0.005282844 & 0.009074134\\\\\n",
       "\tL1\\_AAACGAAAGATAACAC & 0.0007382836 & 0.1261008 & 0.08261252 & 0.002197595 & 0.03655813 & 0.0006230267 & 0.003504475 & 0.003304409 & 0.007702728 & 0.001602188 & ⋯ & 0.001686609 & 0.0008899445 & 0.05706992 & 0.01008088 & 0.005119129 & 0.033623950 & 0.02996031 & 0.0002871153 & 0.000148319 & 0.024658555\\\\\n",
       "\\end{tabular}\n"
      ],
      "text/markdown": [
       "\n",
       "A data.frame: 2 × 52\n",
       "\n",
       "| <!--/--> | CellCycle.G2M &lt;dbl&gt; | Translation &lt;dbl&gt; | HLA &lt;dbl&gt; | ISG &lt;dbl&gt; | Mito &lt;dbl&gt; | Doublet.RBC &lt;dbl&gt; | gdT &lt;dbl&gt; | CellCycle.S &lt;dbl&gt; | Cytotoxic &lt;dbl&gt; | Doublet.Platelet &lt;dbl&gt; | ⋯ ⋯ | Tfh.2 &lt;dbl&gt; | OX40.EBI3 &lt;dbl&gt; | CD172a.MERTK &lt;dbl&gt; | IEG3 &lt;dbl&gt; | Doublet.Fibroblast &lt;dbl&gt; | SOX4.TOX2 &lt;dbl&gt; | CD40LG.TXNIP &lt;dbl&gt; | Tph &lt;dbl&gt; | Exhaustion &lt;dbl&gt; | Tfh.1 &lt;dbl&gt; |\n",
       "|---|---|---|---|---|---|---|---|---|---|---|---|---|---|---|---|---|---|---|---|---|---|\n",
       "| L1_AAACCCACATGGATCT | 0.0004812625 | 0.1984751 | 0.05281601 | 0.001352083 | 0.02677662 | 0.0007320393 | 0.005636345 | 0.001266398 | 0.005563221 | 0.001743415 | ⋯ | 0.009453272 | 0.0097525360 | 0.12944813 | 0.05215479 | 0.007152538 | 0.008011147 | 0.01265178 | 0.0056741200 | 0.005282844 | 0.009074134 |\n",
       "| L1_AAACGAAAGATAACAC | 0.0007382836 | 0.1261008 | 0.08261252 | 0.002197595 | 0.03655813 | 0.0006230267 | 0.003504475 | 0.003304409 | 0.007702728 | 0.001602188 | ⋯ | 0.001686609 | 0.0008899445 | 0.05706992 | 0.01008088 | 0.005119129 | 0.033623950 | 0.02996031 | 0.0002871153 | 0.000148319 | 0.024658555 |\n",
       "\n"
      ],
      "text/plain": [
       "                    CellCycle.G2M Translation HLA        ISG         Mito      \n",
       "L1_AAACCCACATGGATCT 0.0004812625  0.1984751   0.05281601 0.001352083 0.02677662\n",
       "L1_AAACGAAAGATAACAC 0.0007382836  0.1261008   0.08261252 0.002197595 0.03655813\n",
       "                    Doublet.RBC  gdT         CellCycle.S Cytotoxic  \n",
       "L1_AAACCCACATGGATCT 0.0007320393 0.005636345 0.001266398 0.005563221\n",
       "L1_AAACGAAAGATAACAC 0.0006230267 0.003504475 0.003304409 0.007702728\n",
       "                    Doublet.Platelet ⋯ Tfh.2       OX40.EBI3    CD172a.MERTK\n",
       "L1_AAACCCACATGGATCT 0.001743415      ⋯ 0.009453272 0.0097525360 0.12944813  \n",
       "L1_AAACGAAAGATAACAC 0.001602188      ⋯ 0.001686609 0.0008899445 0.05706992  \n",
       "                    IEG3       Doublet.Fibroblast SOX4.TOX2   CD40LG.TXNIP\n",
       "L1_AAACCCACATGGATCT 0.05215479 0.007152538        0.008011147 0.01265178  \n",
       "L1_AAACGAAAGATAACAC 0.01008088 0.005119129        0.033623950 0.02996031  \n",
       "                    Tph          Exhaustion  Tfh.1      \n",
       "L1_AAACCCACATGGATCT 0.0056741200 0.005282844 0.009074134\n",
       "L1_AAACGAAAGATAACAC 0.0002871153 0.000148319 0.024658555"
      ]
     },
     "metadata": {},
     "output_type": "display_data"
    },
    {
     "data": {
      "text/html": [
       "<table class=\"dataframe\">\n",
       "<caption>A data.frame: 6 × 5</caption>\n",
       "<thead>\n",
       "\t<tr><th></th><th scope=col>ASA</th><th scope=col>Proliferation</th><th scope=col>ASA_binary</th><th scope=col>Proliferation_binary</th><th scope=col>Multinomial_Label</th></tr>\n",
       "\t<tr><th></th><th scope=col>&lt;dbl&gt;</th><th scope=col>&lt;dbl&gt;</th><th scope=col>&lt;chr&gt;</th><th scope=col>&lt;chr&gt;</th><th scope=col>&lt;chr&gt;</th></tr>\n",
       "</thead>\n",
       "<tbody>\n",
       "\t<tr><th scope=row>L1_AAACCCACATGGATCT</th><td>0.02440342</td><td>0.002129125</td><td>False</td><td>False</td><td>CD4_EM   </td></tr>\n",
       "\t<tr><th scope=row>L1_AAACGAAAGATAACAC</th><td>0.01139059</td><td>0.005833321</td><td>False</td><td>False</td><td>CD8_Naive</td></tr>\n",
       "\t<tr><th scope=row>L1_AAACGCTTCTTGGTCC</th><td>0.01524094</td><td>0.011939801</td><td>False</td><td>False</td><td>CD4_Naive</td></tr>\n",
       "\t<tr><th scope=row>L1_AAAGAACCAAGGAGTC</th><td>0.01869528</td><td>0.015882069</td><td>False</td><td>False</td><td>CD4_Naive</td></tr>\n",
       "\t<tr><th scope=row>L1_AAAGAACCACCTCTAC</th><td>0.03353451</td><td>0.010161335</td><td>False</td><td>False</td><td>Treg     </td></tr>\n",
       "\t<tr><th scope=row>L1_AAAGGATAGTTGTCAC</th><td>0.05383545</td><td>0.009643000</td><td>False</td><td>False</td><td>CD4_EM   </td></tr>\n",
       "</tbody>\n",
       "</table>\n"
      ],
      "text/latex": [
       "A data.frame: 6 × 5\n",
       "\\begin{tabular}{r|lllll}\n",
       "  & ASA & Proliferation & ASA\\_binary & Proliferation\\_binary & Multinomial\\_Label\\\\\n",
       "  & <dbl> & <dbl> & <chr> & <chr> & <chr>\\\\\n",
       "\\hline\n",
       "\tL1\\_AAACCCACATGGATCT & 0.02440342 & 0.002129125 & False & False & CD4\\_EM   \\\\\n",
       "\tL1\\_AAACGAAAGATAACAC & 0.01139059 & 0.005833321 & False & False & CD8\\_Naive\\\\\n",
       "\tL1\\_AAACGCTTCTTGGTCC & 0.01524094 & 0.011939801 & False & False & CD4\\_Naive\\\\\n",
       "\tL1\\_AAAGAACCAAGGAGTC & 0.01869528 & 0.015882069 & False & False & CD4\\_Naive\\\\\n",
       "\tL1\\_AAAGAACCACCTCTAC & 0.03353451 & 0.010161335 & False & False & Treg     \\\\\n",
       "\tL1\\_AAAGGATAGTTGTCAC & 0.05383545 & 0.009643000 & False & False & CD4\\_EM   \\\\\n",
       "\\end{tabular}\n"
      ],
      "text/markdown": [
       "\n",
       "A data.frame: 6 × 5\n",
       "\n",
       "| <!--/--> | ASA &lt;dbl&gt; | Proliferation &lt;dbl&gt; | ASA_binary &lt;chr&gt; | Proliferation_binary &lt;chr&gt; | Multinomial_Label &lt;chr&gt; |\n",
       "|---|---|---|---|---|---|\n",
       "| L1_AAACCCACATGGATCT | 0.02440342 | 0.002129125 | False | False | CD4_EM    |\n",
       "| L1_AAACGAAAGATAACAC | 0.01139059 | 0.005833321 | False | False | CD8_Naive |\n",
       "| L1_AAACGCTTCTTGGTCC | 0.01524094 | 0.011939801 | False | False | CD4_Naive |\n",
       "| L1_AAAGAACCAAGGAGTC | 0.01869528 | 0.015882069 | False | False | CD4_Naive |\n",
       "| L1_AAAGAACCACCTCTAC | 0.03353451 | 0.010161335 | False | False | Treg      |\n",
       "| L1_AAAGGATAGTTGTCAC | 0.05383545 | 0.009643000 | False | False | CD4_EM    |\n",
       "\n"
      ],
      "text/plain": [
       "                    ASA        Proliferation ASA_binary Proliferation_binary\n",
       "L1_AAACCCACATGGATCT 0.02440342 0.002129125   False      False               \n",
       "L1_AAACGAAAGATAACAC 0.01139059 0.005833321   False      False               \n",
       "L1_AAACGCTTCTTGGTCC 0.01524094 0.011939801   False      False               \n",
       "L1_AAAGAACCAAGGAGTC 0.01869528 0.015882069   False      False               \n",
       "L1_AAAGAACCACCTCTAC 0.03353451 0.010161335   False      False               \n",
       "L1_AAAGGATAGTTGTCAC 0.05383545 0.009643000   False      False               \n",
       "                    Multinomial_Label\n",
       "L1_AAACCCACATGGATCT CD4_EM           \n",
       "L1_AAACGAAAGATAACAC CD8_Naive        \n",
       "L1_AAACGCTTCTTGGTCC CD4_Naive        \n",
       "L1_AAAGAACCAAGGAGTC CD4_Naive        \n",
       "L1_AAAGAACCACCTCTAC Treg             \n",
       "L1_AAAGGATAGTTGTCAC CD4_EM           "
      ]
     },
     "metadata": {},
     "output_type": "display_data"
    }
   ],
   "source": [
    "usage %>% head(2)\n",
    "scores %>% head()"
   ]
  },
  {
   "cell_type": "markdown",
   "id": "58423f72-4efa-4dd2-ad89-c7a19f7eda2a",
   "metadata": {},
   "source": [
    "## End"
   ]
  },
  {
   "cell_type": "code",
   "execution_count": 3,
   "id": "fa21ff68-3e63-48db-98e4-424378deadfa",
   "metadata": {},
   "outputs": [
    {
     "data": {
      "text/plain": [
       "R version 4.1.1 (2021-08-10)\n",
       "Platform: x86_64-conda-linux-gnu (64-bit)\n",
       "Running under: Red Hat Enterprise Linux Server release 6.7 (Santiago)\n",
       "\n",
       "Matrix products: default\n",
       "BLAS/LAPACK: /PHShome/mc1070/anaconda3/envs/R4.1.1Py3.9.7/lib/libopenblasp-r0.3.18.so\n",
       "\n",
       "locale:\n",
       " [1] LC_CTYPE=en_US.UTF-8       LC_NUMERIC=C              \n",
       " [3] LC_TIME=en_US.UTF-8        LC_COLLATE=en_US.UTF-8    \n",
       " [5] LC_MONETARY=en_US.UTF-8    LC_MESSAGES=en_US.UTF-8   \n",
       " [7] LC_PAPER=en_US.UTF-8       LC_NAME=C                 \n",
       " [9] LC_ADDRESS=C               LC_TELEPHONE=C            \n",
       "[11] LC_MEASUREMENT=en_US.UTF-8 LC_IDENTIFICATION=C       \n",
       "\n",
       "attached base packages:\n",
       "[1] stats     graphics  grDevices utils     datasets  methods   base     \n",
       "\n",
       "other attached packages:\n",
       " [1] R.utils_2.11.0     R.oo_1.24.0        R.methodsS3_1.8.1  SeuratObject_4.0.4\n",
       " [5] Seurat_4.1.0       Matrix_1.4-1       data.table_1.14.2  forcats_0.5.1     \n",
       " [9] stringr_1.4.0      dplyr_1.1.0        purrr_0.3.4        readr_2.1.2       \n",
       "[13] tidyr_1.2.0        tibble_3.1.8       ggplot2_3.3.5      tidyverse_1.3.1   \n",
       "\n",
       "loaded via a namespace (and not attached):\n",
       "  [1] Rtsne_0.15            colorspace_2.0-3      deldir_1.0-6         \n",
       "  [4] ellipsis_0.3.2        ggridges_0.5.3        IRdisplay_1.1        \n",
       "  [7] base64enc_0.1-3       fs_1.5.2              spatstat.data_3.0-4  \n",
       " [10] rstudioapi_0.13       leiden_0.3.9          listenv_0.8.0        \n",
       " [13] ggrepel_0.9.1         fansi_1.0.3           lubridate_1.8.0      \n",
       " [16] xml2_1.3.3            codetools_0.2-18      splines_4.1.1        \n",
       " [19] polyclip_1.10-0       IRkernel_1.3.2        jsonlite_1.8.0       \n",
       " [22] broom_0.7.12          ica_1.0-2             cluster_2.1.3        \n",
       " [25] dbplyr_2.1.1          png_0.1-7             uwot_0.1.11          \n",
       " [28] spatstat.sparse_3.0-3 sctransform_0.3.3     shiny_1.7.1          \n",
       " [31] compiler_4.1.1        httr_1.4.2            backports_1.4.1      \n",
       " [34] lazyeval_0.2.2        assertthat_0.2.1      fastmap_1.1.0        \n",
       " [37] cli_3.6.0             later_1.2.0           htmltools_0.5.2      \n",
       " [40] tools_4.1.1           igraph_1.3.0          gtable_0.3.0         \n",
       " [43] glue_1.6.2            reshape2_1.4.4        RANN_2.6.1           \n",
       " [46] Rcpp_1.0.8.3          scattermore_0.8       cellranger_1.1.0     \n",
       " [49] vctrs_0.6.5           nlme_3.1-157          lmtest_0.9-40        \n",
       " [52] spatstat.random_3.2-3 globals_0.16.2        rvest_1.0.2          \n",
       " [55] mime_0.12             miniUI_0.1.1.1        lifecycle_1.0.3      \n",
       " [58] irlba_2.3.5           goftest_1.2-3         future_1.32.0        \n",
       " [61] MASS_7.3-56           zoo_1.8-9             scales_1.3.0         \n",
       " [64] spatstat.core_2.4-2   spatstat.utils_3.0-4  hms_1.1.1            \n",
       " [67] promises_1.2.0.1      parallel_4.1.1        RColorBrewer_1.1-3   \n",
       " [70] gridExtra_2.3         reticulate_1.24       pbapply_1.5-0        \n",
       " [73] rpart_4.1.16          stringi_1.7.6         repr_1.1.4           \n",
       " [76] rlang_1.1.4           pkgconfig_2.0.3       matrixStats_0.61.0   \n",
       " [79] evaluate_0.15         lattice_0.20-45       tensor_1.5           \n",
       " [82] ROCR_1.0-11           patchwork_1.1.1       htmlwidgets_1.5.4    \n",
       " [85] cowplot_1.1.1         tidyselect_1.2.0      parallelly_1.34.0    \n",
       " [88] RcppAnnoy_0.0.19      plyr_1.8.7            magrittr_2.0.3       \n",
       " [91] R6_2.5.1              generics_0.1.2        pbdZMQ_0.3-7         \n",
       " [94] DBI_1.1.2             mgcv_1.8-40           pillar_1.7.0         \n",
       " [97] haven_2.4.3           withr_2.5.0           fitdistrplus_1.1-8   \n",
       "[100] abind_1.4-5           survival_3.3-1        future.apply_1.8.1   \n",
       "[103] modelr_0.1.8          crayon_1.5.1          uuid_1.0-4           \n",
       "[106] KernSmooth_2.23-20    utf8_1.2.2            spatstat.geom_3.2-9  \n",
       "[109] plotly_4.10.0         tzdb_0.3.0            grid_4.1.1           \n",
       "[112] readxl_1.4.0          reprex_2.0.1          digest_0.6.29        \n",
       "[115] xtable_1.8-4          httpuv_1.6.5          munsell_0.5.0        \n",
       "[118] viridisLite_0.4.0    "
      ]
     },
     "metadata": {},
     "output_type": "display_data"
    }
   ],
   "source": [
    "sessionInfo()"
   ]
  }
 ],
 "metadata": {
  "kernelspec": {
   "display_name": "R",
   "language": "R",
   "name": "ir"
  },
  "language_info": {
   "codemirror_mode": "r",
   "file_extension": ".r",
   "mimetype": "text/x-r-source",
   "name": "R",
   "pygments_lexer": "r",
   "version": "4.1.1"
  },
  "toc-autonumbering": true
 },
 "nbformat": 4,
 "nbformat_minor": 5
}
